{
 "cells": [
  {
   "cell_type": "markdown",
   "metadata": {},
   "source": [
    "# Mod 3 Final Project"
   ]
  },
  {
   "cell_type": "markdown",
   "metadata": {},
   "source": [
    "## Student Info\n",
    "\n",
    "- Name: \n",
    "- Cohort: \n",
    "- Instructor:\n"
   ]
  },
  {
   "cell_type": "markdown",
   "metadata": {},
   "source": [
    "## Instructions:"
   ]
  },
  {
   "cell_type": "markdown",
   "metadata": {},
   "source": [
    "- Open and read the project assignment and guidelines in `MOD_PROJECT_README.ipynb`\n",
    "- Review the hypothesis testing workflow found in this repo's `README.md` and inside `hypothesis_testing_workflow.ipynb` (also at the bottom of the `MOD_PROJECT_README.ipynb`)\n",
    "\n",
    "- 3 functions from study group/learn.co lessons have been provided inside `functions.py`\n",
    "    - `Cohen_d`, `find_outliers_IQR`,`find_outliers_Z`"
   ]
  },
  {
   "cell_type": "markdown",
   "metadata": {},
   "source": []
  },
  {
   "cell_type": "markdown",
   "metadata": {},
   "source": [
    "<img src=\"https://raw.githubusercontent.com/jirvingphd/dsc-mod-3-project-online-ds-ft-100719/master/Northwind_ERD_updated.png\">"
   ]
  },
  {
   "cell_type": "markdown",
   "metadata": {},
   "source": [
<<<<<<< HEAD
    "# Questions to Answer"
   ]
  },
  {
   "cell_type": "markdown",
   "metadata": {},
   "source": [
    "H1 Does discount amount have a statistically significant effect on order quantity? If so, at what level(s) of discount?\n",
    "\n",
    "H2 Do order quantities of countries differ when discounted?\n",
    "\n",
    "H3 Does month have an effect on average revenue per order?\n",
    "\n",
    "H4 Does region have an effect on average revenue per order?"
=======
    "# PROJECT"
>>>>>>> 6652b6f1f5b6e28a48fc03f113f6c6d64acda20f
   ]
  },
  {
   "cell_type": "code",
<<<<<<< HEAD
   "execution_count": 2,
   "metadata": {
    "ExecuteTime": {
     "end_time": "2020-01-31T00:26:56.223159Z",
     "start_time": "2020-01-31T00:26:56.220980Z"
    }
   },
   "outputs": [
    {
     "name": "stdout",
     "output_type": "stream",
     "text": [
      "fsds_1007219  v0.7.6 loaded.  Read the docs: https://fsds.readthedocs.io/en/latest/ \n"
     ]
    },
    {
     "data": {
      "text/html": [
       "<style  type=\"text/css\" >\n",
       "</style><table id=\"T_6f6eb802_5652_11ea_9981_a45e60e2ab2f\" ><caption>Loaded Packages and Handles</caption><thead>    <tr>        <th class=\"col_heading level0 col0\" >Handle</th>        <th class=\"col_heading level0 col1\" >Package</th>        <th class=\"col_heading level0 col2\" >Description</th>    </tr></thead><tbody>\n",
       "                <tr>\n",
       "                                <td id=\"T_6f6eb802_5652_11ea_9981_a45e60e2ab2frow0_col0\" class=\"data row0 col0\" >dp</td>\n",
       "                        <td id=\"T_6f6eb802_5652_11ea_9981_a45e60e2ab2frow0_col1\" class=\"data row0 col1\" >IPython.display</td>\n",
       "                        <td id=\"T_6f6eb802_5652_11ea_9981_a45e60e2ab2frow0_col2\" class=\"data row0 col2\" >Display modules with helpful display and clearing commands.</td>\n",
       "            </tr>\n",
       "            <tr>\n",
       "                                <td id=\"T_6f6eb802_5652_11ea_9981_a45e60e2ab2frow1_col0\" class=\"data row1 col0\" >fs</td>\n",
       "                        <td id=\"T_6f6eb802_5652_11ea_9981_a45e60e2ab2frow1_col1\" class=\"data row1 col1\" >fsds_100719</td>\n",
       "                        <td id=\"T_6f6eb802_5652_11ea_9981_a45e60e2ab2frow1_col2\" class=\"data row1 col2\" >Custom data science bootcamp student package</td>\n",
       "            </tr>\n",
       "            <tr>\n",
       "                                <td id=\"T_6f6eb802_5652_11ea_9981_a45e60e2ab2frow2_col0\" class=\"data row2 col0\" >mpl</td>\n",
       "                        <td id=\"T_6f6eb802_5652_11ea_9981_a45e60e2ab2frow2_col1\" class=\"data row2 col1\" >matplotlib</td>\n",
       "                        <td id=\"T_6f6eb802_5652_11ea_9981_a45e60e2ab2frow2_col2\" class=\"data row2 col2\" >Matplotlib's base OOP module with formatting artists</td>\n",
       "            </tr>\n",
       "            <tr>\n",
       "                                <td id=\"T_6f6eb802_5652_11ea_9981_a45e60e2ab2frow3_col0\" class=\"data row3 col0\" >plt</td>\n",
       "                        <td id=\"T_6f6eb802_5652_11ea_9981_a45e60e2ab2frow3_col1\" class=\"data row3 col1\" >matplotlib.pyplot</td>\n",
       "                        <td id=\"T_6f6eb802_5652_11ea_9981_a45e60e2ab2frow3_col2\" class=\"data row3 col2\" >Matplotlib's matlab-like plotting module</td>\n",
       "            </tr>\n",
       "            <tr>\n",
       "                                <td id=\"T_6f6eb802_5652_11ea_9981_a45e60e2ab2frow4_col0\" class=\"data row4 col0\" >np</td>\n",
       "                        <td id=\"T_6f6eb802_5652_11ea_9981_a45e60e2ab2frow4_col1\" class=\"data row4 col1\" >numpy</td>\n",
       "                        <td id=\"T_6f6eb802_5652_11ea_9981_a45e60e2ab2frow4_col2\" class=\"data row4 col2\" >scientific computing with Python</td>\n",
       "            </tr>\n",
       "            <tr>\n",
       "                                <td id=\"T_6f6eb802_5652_11ea_9981_a45e60e2ab2frow5_col0\" class=\"data row5 col0\" >pd</td>\n",
       "                        <td id=\"T_6f6eb802_5652_11ea_9981_a45e60e2ab2frow5_col1\" class=\"data row5 col1\" >pandas</td>\n",
       "                        <td id=\"T_6f6eb802_5652_11ea_9981_a45e60e2ab2frow5_col2\" class=\"data row5 col2\" >High performance data structures and tools</td>\n",
       "            </tr>\n",
       "            <tr>\n",
       "                                <td id=\"T_6f6eb802_5652_11ea_9981_a45e60e2ab2frow6_col0\" class=\"data row6 col0\" >sns</td>\n",
       "                        <td id=\"T_6f6eb802_5652_11ea_9981_a45e60e2ab2frow6_col1\" class=\"data row6 col1\" >seaborn</td>\n",
       "                        <td id=\"T_6f6eb802_5652_11ea_9981_a45e60e2ab2frow6_col2\" class=\"data row6 col2\" >High-level data visualization library based on matplotlib</td>\n",
       "            </tr>\n",
       "    </tbody></table>"
      ],
      "text/plain": [
       "<pandas.io.formats.style.Styler at 0x1a2451aef0>"
      ]
     },
     "metadata": {},
     "output_type": "display_data"
    },
    {
     "data": {
      "text/html": [
       "        <script type=\"text/javascript\">\n",
       "        window.PlotlyConfig = {MathJaxConfig: 'local'};\n",
       "        if (window.MathJax) {MathJax.Hub.Config({SVG: {font: \"STIX-Web\"}});}\n",
       "        if (typeof require !== 'undefined') {\n",
       "        require.undef(\"plotly\");\n",
       "        requirejs.config({\n",
       "            paths: {\n",
       "                'plotly': ['https://cdn.plot.ly/plotly-latest.min']\n",
       "            }\n",
       "        });\n",
       "        require(['plotly'], function(Plotly) {\n",
       "            window._Plotly = Plotly;\n",
       "        });\n",
       "        }\n",
       "        </script>\n",
       "        "
      ]
     },
     "metadata": {},
     "output_type": "display_data"
    },
    {
     "name": "stdout",
     "output_type": "stream",
     "text": [
      "['[i] Pandas .iplot() method activated.']\n"
     ]
    }
   ],
   "source": [
    " !pip install -U fsds_100719\n",
    " from fsds_100719.imports import *\n",
=======
   "execution_count": 3,
   "metadata": {},
   "outputs": [
    {
     "name": "stdout",
     "output_type": "stream",
     "text": "fsds_1007219  v0.7.6 loaded.  Read the docs: https://fsds.readthedocs.io/en/latest/ \n"
    },
    {
     "data": {
      "text/html": "<style  type=\"text/css\" >\n</style><table id=\"T_674f261e_5021_11ea_a056_4865ee12e626\" ><caption>Loaded Packages and Handles</caption><thead>    <tr>        <th class=\"col_heading level0 col0\" >Handle</th>        <th class=\"col_heading level0 col1\" >Package</th>        <th class=\"col_heading level0 col2\" >Description</th>    </tr></thead><tbody>\n                <tr>\n                                <td id=\"T_674f261e_5021_11ea_a056_4865ee12e626row0_col0\" class=\"data row0 col0\" >dp</td>\n                        <td id=\"T_674f261e_5021_11ea_a056_4865ee12e626row0_col1\" class=\"data row0 col1\" >IPython.display</td>\n                        <td id=\"T_674f261e_5021_11ea_a056_4865ee12e626row0_col2\" class=\"data row0 col2\" >Display modules with helpful display and clearing commands.</td>\n            </tr>\n            <tr>\n                                <td id=\"T_674f261e_5021_11ea_a056_4865ee12e626row1_col0\" class=\"data row1 col0\" >fs</td>\n                        <td id=\"T_674f261e_5021_11ea_a056_4865ee12e626row1_col1\" class=\"data row1 col1\" >fsds_100719</td>\n                        <td id=\"T_674f261e_5021_11ea_a056_4865ee12e626row1_col2\" class=\"data row1 col2\" >Custom data science bootcamp student package</td>\n            </tr>\n            <tr>\n                                <td id=\"T_674f261e_5021_11ea_a056_4865ee12e626row2_col0\" class=\"data row2 col0\" >mpl</td>\n                        <td id=\"T_674f261e_5021_11ea_a056_4865ee12e626row2_col1\" class=\"data row2 col1\" >matplotlib</td>\n                        <td id=\"T_674f261e_5021_11ea_a056_4865ee12e626row2_col2\" class=\"data row2 col2\" >Matplotlib's base OOP module with formatting artists</td>\n            </tr>\n            <tr>\n                                <td id=\"T_674f261e_5021_11ea_a056_4865ee12e626row3_col0\" class=\"data row3 col0\" >plt</td>\n                        <td id=\"T_674f261e_5021_11ea_a056_4865ee12e626row3_col1\" class=\"data row3 col1\" >matplotlib.pyplot</td>\n                        <td id=\"T_674f261e_5021_11ea_a056_4865ee12e626row3_col2\" class=\"data row3 col2\" >Matplotlib's matlab-like plotting module</td>\n            </tr>\n            <tr>\n                                <td id=\"T_674f261e_5021_11ea_a056_4865ee12e626row4_col0\" class=\"data row4 col0\" >np</td>\n                        <td id=\"T_674f261e_5021_11ea_a056_4865ee12e626row4_col1\" class=\"data row4 col1\" >numpy</td>\n                        <td id=\"T_674f261e_5021_11ea_a056_4865ee12e626row4_col2\" class=\"data row4 col2\" >scientific computing with Python</td>\n            </tr>\n            <tr>\n                                <td id=\"T_674f261e_5021_11ea_a056_4865ee12e626row5_col0\" class=\"data row5 col0\" >pd</td>\n                        <td id=\"T_674f261e_5021_11ea_a056_4865ee12e626row5_col1\" class=\"data row5 col1\" >pandas</td>\n                        <td id=\"T_674f261e_5021_11ea_a056_4865ee12e626row5_col2\" class=\"data row5 col2\" >High performance data structures and tools</td>\n            </tr>\n            <tr>\n                                <td id=\"T_674f261e_5021_11ea_a056_4865ee12e626row6_col0\" class=\"data row6 col0\" >sns</td>\n                        <td id=\"T_674f261e_5021_11ea_a056_4865ee12e626row6_col1\" class=\"data row6 col1\" >seaborn</td>\n                        <td id=\"T_674f261e_5021_11ea_a056_4865ee12e626row6_col2\" class=\"data row6 col2\" >High-level data visualization library based on matplotlib</td>\n            </tr>\n    </tbody></table>",
      "text/plain": "<pandas.io.formats.style.Styler at 0x1a1e528b00>"
     },
     "metadata": {},
     "output_type": "display_data"
    },
    {
     "data": {
      "text/html": "        <script type=\"text/javascript\">\n        window.PlotlyConfig = {MathJaxConfig: 'local'};\n        if (window.MathJax) {MathJax.Hub.Config({SVG: {font: \"STIX-Web\"}});}\n        if (typeof require !== 'undefined') {\n        require.undef(\"plotly\");\n        requirejs.config({\n            paths: {\n                'plotly': ['https://cdn.plot.ly/plotly-latest.min']\n            }\n        });\n        require(['plotly'], function(Plotly) {\n            window._Plotly = Plotly;\n        });\n        }\n        </script>\n        "
     },
     "metadata": {},
     "output_type": "display_data"
    },
    {
     "name": "stdout",
     "output_type": "stream",
     "text": "['[i] Pandas .iplot() method activated.']\n"
    }
   ],
   "source": [
    "!pip install -U fsds_100719\n",
    "from fsds_100719.imports import *\n",
>>>>>>> 6652b6f1f5b6e28a48fc03f113f6c6d64acda20f
    "\n",
    "import pandas as pd"
   ]
  },
  {
   "cell_type": "code",
<<<<<<< HEAD
   "execution_count": 3,
   "metadata": {
    "ExecuteTime": {
     "end_time": "2020-01-31T00:26:48.243683Z",
     "start_time": "2020-01-31T00:26:48.241435Z"
    }
   },
=======
   "execution_count": 4,
   "metadata": {},
>>>>>>> 6652b6f1f5b6e28a48fc03f113f6c6d64acda20f
   "outputs": [],
   "source": [
    "# import functions as fn\n",
    "# help(fn)\n",
    "from functions import find_outliers_IQR,find_outliers_Z,prep_data_for_tukeys"
   ]
  },
  {
   "cell_type": "code",
<<<<<<< HEAD
   "execution_count": 4,
   "metadata": {
    "ExecuteTime": {
     "end_time": "2020-01-31T00:27:39.848908Z",
     "start_time": "2020-01-31T00:27:39.845403Z"
    }
   },
=======
   "execution_count": 5,
   "metadata": {},
>>>>>>> 6652b6f1f5b6e28a48fc03f113f6c6d64acda20f
   "outputs": [],
   "source": [
    "import sqlite3\n",
    "connect = sqlite3.connect('Northwind_small.sqlite')\n",
    "cur = connect.cursor()"
   ]
  },
  {
   "cell_type": "code",
<<<<<<< HEAD
   "execution_count": 5,
   "metadata": {
    "ExecuteTime": {
     "end_time": "2020-01-31T00:28:03.375218Z",
     "start_time": "2020-01-31T00:28:03.360094Z"
    }
   },
=======
   "execution_count": 10,
   "metadata": {},
>>>>>>> 6652b6f1f5b6e28a48fc03f113f6c6d64acda20f
   "outputs": [
    {
     "data": {
      "text/html": "<div>\n<style scoped>\n    .dataframe tbody tr th:only-of-type {\n        vertical-align: middle;\n    }\n\n    .dataframe tbody tr th {\n        vertical-align: top;\n    }\n\n    .dataframe thead th {\n        text-align: right;\n    }\n</style>\n<table border=\"1\" class=\"dataframe\">\n  <thead>\n    <tr style=\"text-align: right;\">\n      <th></th>\n      <th>Table</th>\n    </tr>\n  </thead>\n  <tbody>\n    <tr>\n      <td>0</td>\n      <td>Employee</td>\n    </tr>\n    <tr>\n      <td>1</td>\n      <td>Category</td>\n    </tr>\n    <tr>\n      <td>2</td>\n      <td>Customer</td>\n    </tr>\n    <tr>\n      <td>3</td>\n      <td>Shipper</td>\n    </tr>\n    <tr>\n      <td>4</td>\n      <td>Supplier</td>\n    </tr>\n    <tr>\n      <td>5</td>\n      <td>Order</td>\n    </tr>\n    <tr>\n      <td>6</td>\n      <td>Product</td>\n    </tr>\n    <tr>\n      <td>7</td>\n      <td>OrderDetail</td>\n    </tr>\n    <tr>\n      <td>8</td>\n      <td>CustomerCustomerDemo</td>\n    </tr>\n    <tr>\n      <td>9</td>\n      <td>CustomerDemographic</td>\n    </tr>\n    <tr>\n      <td>10</td>\n      <td>Region</td>\n    </tr>\n    <tr>\n      <td>11</td>\n      <td>Territory</td>\n    </tr>\n    <tr>\n      <td>12</td>\n      <td>EmployeeTerritory</td>\n    </tr>\n  </tbody>\n</table>\n</div>",
      "text/plain": "                   Table\n0               Employee\n1               Category\n2               Customer\n3                Shipper\n4               Supplier\n5                  Order\n6                Product\n7            OrderDetail\n8   CustomerCustomerDemo\n9    CustomerDemographic\n10                Region\n11             Territory\n12     EmployeeTerritory"
     },
<<<<<<< HEAD
     "execution_count": 5,
=======
     "execution_count": 10,
>>>>>>> 6652b6f1f5b6e28a48fc03f113f6c6d64acda20f
     "metadata": {},
     "output_type": "execute_result"
    }
   ],
   "source": [
    "## To see all tables\n",
    "cur.execute(\"\"\"SELECT name FROM sqlite_master WHERE type='table';\"\"\")\n",
    "df_tables = pd.DataFrame(cur.fetchall(), columns=['Table'])\n",
    "df_tables"
   ]
  },
  {
   "cell_type": "markdown",
   "execution_count": null,
   "metadata": {},
   "outputs": [],
   "source": [
    "# Hypothesis 1"
   ]
  },
  {
   "cell_type": "markdown",
   "execution_count": 1,
   "metadata": {},
   "outputs": [
    {
     "ename": "SyntaxError",
     "evalue": "invalid syntax (<ipython-input-1-bbfc063b1732>, line 3)",
     "output_type": "error",
     "traceback": [
      "\u001b[0;36m  File \u001b[0;32m\"<ipython-input-1-bbfc063b1732>\"\u001b[0;36m, line \u001b[0;32m3\u001b[0m\n\u001b[0;31m    - $H_0$:\u001b[0m\n\u001b[0m      ^\u001b[0m\n\u001b[0;31mSyntaxError\u001b[0m\u001b[0;31m:\u001b[0m invalid syntax\n"
     ]
    }
   ],
   "source": [
<<<<<<< HEAD
    "- $H_0$: A discount does not effect the quantity of a product in an order.\n",
    "- $H_1$: A discount does effect the quantity of a product in an order."
=======
    "> Does discount amount have a statistically significant effect on the quantity of a product in an order? If so, at what level(s) of discount?\n",
    "\n",
    "- $H_0$:\n",
    "- $H_A$:"
>>>>>>> 6652b6f1f5b6e28a48fc03f113f6c6d64acda20f
   ]
  },
  {
   "cell_type": "code",
   "execution_count": 6,
   "metadata": {},
   "outputs": [],
   "source": [
    "# Select all from Order Detail table\n",
    "\n",
    "# cur.execute(\"\"\"SELECT * FROM OrderDetail \"\"\")\n",
    "# names = [description[0] for description in cur.description]\n",
    "# df_disc = pd.DataFrame(cur.fetchall(), columns = names)\n",
    "# df_disc"
   ]
  },
  {
   "cell_type": "code",
   "execution_count": 44,
   "metadata": {},
   "outputs": [
    {
     "data": {
      "text/html": [
       "<div>\n",
       "<style scoped>\n",
       "    .dataframe tbody tr th:only-of-type {\n",
       "        vertical-align: middle;\n",
       "    }\n",
       "\n",
       "    .dataframe tbody tr th {\n",
       "        vertical-align: top;\n",
       "    }\n",
       "\n",
       "    .dataframe thead th {\n",
       "        text-align: right;\n",
       "    }\n",
       "</style>\n",
       "<table border=\"1\" class=\"dataframe\">\n",
       "  <thead>\n",
       "    <tr style=\"text-align: right;\">\n",
       "      <th></th>\n",
       "      <th>Id</th>\n",
       "      <th>OrderId</th>\n",
       "      <th>ProductId</th>\n",
       "      <th>UnitPrice</th>\n",
       "      <th>Quantity</th>\n",
       "      <th>Discount</th>\n",
       "    </tr>\n",
       "  </thead>\n",
       "  <tbody>\n",
       "    <tr>\n",
       "      <td>0</td>\n",
       "      <td>10248/11</td>\n",
       "      <td>10248</td>\n",
       "      <td>11</td>\n",
       "      <td>14.00</td>\n",
       "      <td>12</td>\n",
       "      <td>0.00</td>\n",
       "    </tr>\n",
       "    <tr>\n",
       "      <td>1</td>\n",
       "      <td>10248/42</td>\n",
       "      <td>10248</td>\n",
       "      <td>42</td>\n",
       "      <td>9.80</td>\n",
       "      <td>10</td>\n",
       "      <td>0.00</td>\n",
       "    </tr>\n",
       "    <tr>\n",
       "      <td>2</td>\n",
       "      <td>10248/72</td>\n",
       "      <td>10248</td>\n",
       "      <td>72</td>\n",
       "      <td>34.80</td>\n",
       "      <td>5</td>\n",
       "      <td>0.00</td>\n",
       "    </tr>\n",
       "    <tr>\n",
       "      <td>3</td>\n",
       "      <td>10249/14</td>\n",
       "      <td>10249</td>\n",
       "      <td>14</td>\n",
       "      <td>18.60</td>\n",
       "      <td>9</td>\n",
       "      <td>0.00</td>\n",
       "    </tr>\n",
       "    <tr>\n",
       "      <td>4</td>\n",
       "      <td>10249/51</td>\n",
       "      <td>10249</td>\n",
       "      <td>51</td>\n",
       "      <td>42.40</td>\n",
       "      <td>40</td>\n",
       "      <td>0.00</td>\n",
       "    </tr>\n",
       "    <tr>\n",
       "      <td>...</td>\n",
       "      <td>...</td>\n",
       "      <td>...</td>\n",
       "      <td>...</td>\n",
       "      <td>...</td>\n",
       "      <td>...</td>\n",
       "      <td>...</td>\n",
       "    </tr>\n",
       "    <tr>\n",
       "      <td>2150</td>\n",
       "      <td>11077/64</td>\n",
       "      <td>11077</td>\n",
       "      <td>64</td>\n",
       "      <td>33.25</td>\n",
       "      <td>2</td>\n",
       "      <td>0.03</td>\n",
       "    </tr>\n",
       "    <tr>\n",
       "      <td>2151</td>\n",
       "      <td>11077/66</td>\n",
       "      <td>11077</td>\n",
       "      <td>66</td>\n",
       "      <td>17.00</td>\n",
       "      <td>1</td>\n",
       "      <td>0.00</td>\n",
       "    </tr>\n",
       "    <tr>\n",
       "      <td>2152</td>\n",
       "      <td>11077/73</td>\n",
       "      <td>11077</td>\n",
       "      <td>73</td>\n",
       "      <td>15.00</td>\n",
       "      <td>2</td>\n",
       "      <td>0.01</td>\n",
       "    </tr>\n",
       "    <tr>\n",
       "      <td>2153</td>\n",
       "      <td>11077/75</td>\n",
       "      <td>11077</td>\n",
       "      <td>75</td>\n",
       "      <td>7.75</td>\n",
       "      <td>4</td>\n",
       "      <td>0.00</td>\n",
       "    </tr>\n",
       "    <tr>\n",
       "      <td>2154</td>\n",
       "      <td>11077/77</td>\n",
       "      <td>11077</td>\n",
       "      <td>77</td>\n",
       "      <td>13.00</td>\n",
       "      <td>2</td>\n",
       "      <td>0.00</td>\n",
       "    </tr>\n",
       "  </tbody>\n",
       "</table>\n",
       "<p>2155 rows × 6 columns</p>\n",
       "</div>"
      ],
      "text/plain": [
       "            Id  OrderId  ProductId  UnitPrice  Quantity  Discount\n",
       "0     10248/11    10248         11      14.00        12      0.00\n",
       "1     10248/42    10248         42       9.80        10      0.00\n",
       "2     10248/72    10248         72      34.80         5      0.00\n",
       "3     10249/14    10249         14      18.60         9      0.00\n",
       "4     10249/51    10249         51      42.40        40      0.00\n",
       "...        ...      ...        ...        ...       ...       ...\n",
       "2150  11077/64    11077         64      33.25         2      0.03\n",
       "2151  11077/66    11077         66      17.00         1      0.00\n",
       "2152  11077/73    11077         73      15.00         2      0.01\n",
       "2153  11077/75    11077         75       7.75         4      0.00\n",
       "2154  11077/77    11077         77      13.00         2      0.00\n",
       "\n",
       "[2155 rows x 6 columns]"
      ]
     },
     "execution_count": 44,
     "metadata": {},
     "output_type": "execute_result"
    }
   ],
   "source": [
    "cur.execute(\"\"\"SELECT * FROM OrderDetail \"\"\")\n",
    "names = [description[0] for description in cur.description]\n",
    "df_OrderDetail = pd.DataFrame(cur.fetchall(), columns = names)\n",
    "df_OrderDetail"
   ]
  },
  {
   "cell_type": "markdown",
   "metadata": {},
   "source": [
    "## Determine if data is numerical or categorical"
   ]
  },
  {
   "cell_type": "code",
   "execution_count": 45,
   "metadata": {
    "scrolled": true
   },
   "outputs": [
    {
     "data": {
      "text/plain": [
       "0.00    1317\n",
       "0.05     185\n",
       "0.10     173\n",
       "0.20     161\n",
       "0.15     157\n",
       "0.25     154\n",
       "0.03       3\n",
       "0.02       2\n",
       "0.01       1\n",
       "0.04       1\n",
       "0.06       1\n",
       "Name: Discount, dtype: int64"
      ]
     },
     "execution_count": 45,
     "metadata": {},
     "output_type": "execute_result"
    }
   ],
   "source": [
    "# Data is numerical.\n",
    "# Find quantity of discounted orders by discount amount.\n",
    "\n",
    "df_OrderDetail['Discount'].value_counts()"
   ]
  },
  {
   "cell_type": "markdown",
   "metadata": {},
   "source": [
    "## Determine how many groups to compare to establish which test to use."
   ]
  },
  {
   "cell_type": "markdown",
   "metadata": {},
   "source": [
    "### Two groups are being compared; use the 2 Sample T-Test."
   ]
  },
  {
   "cell_type": "code",
   "execution_count": 46,
   "metadata": {},
   "outputs": [
    {
     "data": {
      "text/html": [
       "<div>\n",
       "<style scoped>\n",
       "    .dataframe tbody tr th:only-of-type {\n",
       "        vertical-align: middle;\n",
       "    }\n",
       "\n",
       "    .dataframe tbody tr th {\n",
       "        vertical-align: top;\n",
       "    }\n",
       "\n",
       "    .dataframe thead th {\n",
       "        text-align: right;\n",
       "    }\n",
       "</style>\n",
       "<table border=\"1\" class=\"dataframe\">\n",
       "  <thead>\n",
       "    <tr style=\"text-align: right;\">\n",
       "      <th></th>\n",
       "      <th>Id</th>\n",
       "      <th>OrderId</th>\n",
       "      <th>ProductId</th>\n",
       "      <th>UnitPrice</th>\n",
       "      <th>Quantity</th>\n",
       "      <th>Discount</th>\n",
       "      <th>groups</th>\n",
       "      <th>group_num</th>\n",
       "    </tr>\n",
       "  </thead>\n",
       "  <tbody>\n",
       "    <tr>\n",
       "      <td>0</td>\n",
       "      <td>10248/11</td>\n",
       "      <td>10248</td>\n",
       "      <td>11</td>\n",
       "      <td>14.00</td>\n",
       "      <td>12</td>\n",
       "      <td>0.00</td>\n",
       "      <td>Full Price</td>\n",
       "      <td>0</td>\n",
       "    </tr>\n",
       "    <tr>\n",
       "      <td>1</td>\n",
       "      <td>10248/42</td>\n",
       "      <td>10248</td>\n",
       "      <td>42</td>\n",
       "      <td>9.80</td>\n",
       "      <td>10</td>\n",
       "      <td>0.00</td>\n",
       "      <td>Full Price</td>\n",
       "      <td>0</td>\n",
       "    </tr>\n",
       "    <tr>\n",
       "      <td>2</td>\n",
       "      <td>10248/72</td>\n",
       "      <td>10248</td>\n",
       "      <td>72</td>\n",
       "      <td>34.80</td>\n",
       "      <td>5</td>\n",
       "      <td>0.00</td>\n",
       "      <td>Full Price</td>\n",
       "      <td>0</td>\n",
       "    </tr>\n",
       "    <tr>\n",
       "      <td>3</td>\n",
       "      <td>10249/14</td>\n",
       "      <td>10249</td>\n",
       "      <td>14</td>\n",
       "      <td>18.60</td>\n",
       "      <td>9</td>\n",
       "      <td>0.00</td>\n",
       "      <td>Full Price</td>\n",
       "      <td>0</td>\n",
       "    </tr>\n",
       "    <tr>\n",
       "      <td>4</td>\n",
       "      <td>10249/51</td>\n",
       "      <td>10249</td>\n",
       "      <td>51</td>\n",
       "      <td>42.40</td>\n",
       "      <td>40</td>\n",
       "      <td>0.00</td>\n",
       "      <td>Full Price</td>\n",
       "      <td>0</td>\n",
       "    </tr>\n",
       "    <tr>\n",
       "      <td>...</td>\n",
       "      <td>...</td>\n",
       "      <td>...</td>\n",
       "      <td>...</td>\n",
       "      <td>...</td>\n",
       "      <td>...</td>\n",
       "      <td>...</td>\n",
       "      <td>...</td>\n",
       "      <td>...</td>\n",
       "    </tr>\n",
       "    <tr>\n",
       "      <td>2150</td>\n",
       "      <td>11077/64</td>\n",
       "      <td>11077</td>\n",
       "      <td>64</td>\n",
       "      <td>33.25</td>\n",
       "      <td>2</td>\n",
       "      <td>0.03</td>\n",
       "      <td>Discounted</td>\n",
       "      <td>1</td>\n",
       "    </tr>\n",
       "    <tr>\n",
       "      <td>2151</td>\n",
       "      <td>11077/66</td>\n",
       "      <td>11077</td>\n",
       "      <td>66</td>\n",
       "      <td>17.00</td>\n",
       "      <td>1</td>\n",
       "      <td>0.00</td>\n",
       "      <td>Full Price</td>\n",
       "      <td>0</td>\n",
       "    </tr>\n",
       "    <tr>\n",
       "      <td>2152</td>\n",
       "      <td>11077/73</td>\n",
       "      <td>11077</td>\n",
       "      <td>73</td>\n",
       "      <td>15.00</td>\n",
       "      <td>2</td>\n",
       "      <td>0.01</td>\n",
       "      <td>Discounted</td>\n",
       "      <td>1</td>\n",
       "    </tr>\n",
       "    <tr>\n",
       "      <td>2153</td>\n",
       "      <td>11077/75</td>\n",
       "      <td>11077</td>\n",
       "      <td>75</td>\n",
       "      <td>7.75</td>\n",
       "      <td>4</td>\n",
       "      <td>0.00</td>\n",
       "      <td>Full Price</td>\n",
       "      <td>0</td>\n",
       "    </tr>\n",
       "    <tr>\n",
       "      <td>2154</td>\n",
       "      <td>11077/77</td>\n",
       "      <td>11077</td>\n",
       "      <td>77</td>\n",
       "      <td>13.00</td>\n",
       "      <td>2</td>\n",
       "      <td>0.00</td>\n",
       "      <td>Full Price</td>\n",
       "      <td>0</td>\n",
       "    </tr>\n",
       "  </tbody>\n",
       "</table>\n",
       "<p>2155 rows × 8 columns</p>\n",
       "</div>"
      ],
      "text/plain": [
       "            Id  OrderId  ProductId  UnitPrice  Quantity  Discount      groups  \\\n",
       "0     10248/11    10248         11      14.00        12      0.00  Full Price   \n",
       "1     10248/42    10248         42       9.80        10      0.00  Full Price   \n",
       "2     10248/72    10248         72      34.80         5      0.00  Full Price   \n",
       "3     10249/14    10249         14      18.60         9      0.00  Full Price   \n",
       "4     10249/51    10249         51      42.40        40      0.00  Full Price   \n",
       "...        ...      ...        ...        ...       ...       ...         ...   \n",
       "2150  11077/64    11077         64      33.25         2      0.03  Discounted   \n",
       "2151  11077/66    11077         66      17.00         1      0.00  Full Price   \n",
       "2152  11077/73    11077         73      15.00         2      0.01  Discounted   \n",
       "2153  11077/75    11077         75       7.75         4      0.00  Full Price   \n",
       "2154  11077/77    11077         77      13.00         2      0.00  Full Price   \n",
       "\n",
       "      group_num  \n",
       "0             0  \n",
       "1             0  \n",
       "2             0  \n",
       "3             0  \n",
       "4             0  \n",
       "...         ...  \n",
       "2150          1  \n",
       "2151          0  \n",
       "2152          1  \n",
       "2153          0  \n",
       "2154          0  \n",
       "\n",
       "[2155 rows x 8 columns]"
      ]
     },
     "execution_count": 46,
     "metadata": {},
     "output_type": "execute_result"
    }
   ],
   "source": [
    "# Assign 'Discounted' and 'Full Price' to 'groups' column.\n",
    "# Assign '0' to 'Full Price' and '1' to 'Discounted' in the 'group_num' column.\n",
    "\n",
    "df_OrderDetail['groups'] = df_OrderDetail['Discount'] >0 \n",
    "df_OrderDetail['groups'] = df_OrderDetail['groups'].map({True:'Discounted', False:'Full Price'})\n",
    "df_OrderDetail['group_num'] = df_OrderDetail['groups'].map({'Discounted':1,\"Full Price\": 0})\n",
    "\n",
    "df_OrderDetail"
   ]
  },
  {
   "cell_type": "markdown",
   "metadata": {},
   "source": [
    "### Check data to see if it meets test assumptions."
   ]
  },
  {
   "cell_type": "code",
   "execution_count": 47,
   "metadata": {},
   "outputs": [
    {
     "data": {
      "text/plain": [
       "<matplotlib.axes._subplots.AxesSubplot at 0x1a2700a160>"
      ]
     },
     "execution_count": 47,
     "metadata": {},
     "output_type": "execute_result"
    },
    {
     "data": {
      "image/png": "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\n",
      "text/plain": [
       "<Figure size 432x288 with 1 Axes>"
      ]
     },
     "metadata": {
      "needs_background": "light"
     },
     "output_type": "display_data"
    }
   ],
   "source": [
    "# View barplot to see if the categories are statistically different and compare standard error of the mean.\n",
    "# Discounted products sold in larger quantities.\n",
    "\n",
    "sns.barplot(data=df_OrderDetail, x='groups', y='Quantity', ci=68 )"
   ]
  },
  {
   "cell_type": "code",
   "execution_count": 48,
   "metadata": {},
   "outputs": [
    {
     "data": {
      "text/plain": [
       "{'Full Price': 0       12\n",
       " 1       10\n",
       " 2        5\n",
       " 3        9\n",
       " 4       40\n",
       "         ..\n",
       " 2147     2\n",
       " 2148     2\n",
       " 2151     1\n",
       " 2153     4\n",
       " 2154     2\n",
       " Name: Quantity, Length: 1317, dtype: int64, 'Discounted': 6       35\n",
       " 7       15\n",
       " 8        6\n",
       " 9       15\n",
       " 11      40\n",
       "         ..\n",
       " 2144     2\n",
       " 2146     3\n",
       " 2149     2\n",
       " 2150     2\n",
       " 2152     2\n",
       " Name: Quantity, Length: 838, dtype: int64}"
      ]
     },
     "execution_count": 48,
     "metadata": {},
     "output_type": "execute_result"
    }
   ],
   "source": [
    "# Create 'grps' dictionary to seperate 'quantity' into 'Full Price' and 'Discounted' categories.\n",
    "\n",
    "grps = {}\n",
    "for grp_name in df_OrderDetail['groups'].unique():\n",
    "    grps[grp_name] = df_OrderDetail.groupby('groups').get_group(grp_name)['Quantity']\n",
    "grps"
   ]
  },
  {
   "cell_type": "markdown",
   "metadata": {},
   "source": [
    "### Check for outliers."
   ]
  },
  {
   "cell_type": "code",
   "execution_count": 49,
   "metadata": {},
   "outputs": [
    {
     "data": {
      "text/plain": [
       "[Text(0, 0.5, 'Density'),\n",
       " Text(0.5, 1.0, 'Total Ordered by Discounted and Full Price Group')]"
      ]
     },
     "execution_count": 49,
     "metadata": {},
     "output_type": "execute_result"
    },
    {
     "data": {
      "image/png": "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\n",
      "text/plain": [
       "<Figure size 432x288 with 1 Axes>"
      ]
     },
     "metadata": {
      "needs_background": "light"
     },
     "output_type": "display_data"
    }
   ],
   "source": [
    "# Show Distribution Plot of both groups to determine if normailty assumption is met.\n",
    "\n",
    "for grp_name,grp_data in grps.items():\n",
    "    sns.distplot(grp_data,label=grp_name)\n",
    "    \n",
    "    \n",
    "ax= plt.gca()\n",
    "ax.legend()\n",
    "ax.set(title='Total Ordered by Discounted and Full Price Group', ylabel='Density')"
   ]
  },
  {
   "cell_type": "code",
   "execution_count": 50,
   "metadata": {},
   "outputs": [],
   "source": [
    "orig_grps = grps.copy()"
   ]
  },
  {
   "cell_type": "code",
   "execution_count": 51,
   "metadata": {},
   "outputs": [
    {
     "name": "stdout",
     "output_type": "stream",
     "text": [
      "Found 20 outliers in Full Price using Z-scores\n",
      "Found 34 outliers in Full Price using IQR\n",
      "\n",
      "\n",
      "Found 15 outliers in Discounted using Z-scores\n",
      "Found 29 outliers in Discounted using IQR\n",
      "\n",
      "\n"
     ]
    }
   ],
   "source": [
    "# Identify how many outliers found in each group using Z-Scores and IQR.\n",
    "\n",
    "for grp_name, grp_data in grps.items():\n",
    "    idx_outs =find_outliers_Z(grp_data)\n",
    "    print(f\"Found {idx_outs.sum()} outliers in {grp_name} using Z-scores\")\n",
    "    grps[grp_name] = grp_data [~idx_outs]\n",
    "    idx_outs =find_outliers_IQR(grp_data)\n",
    "\n",
    "    print(f\"Found {idx_outs.sum()} outliers in {grp_name} using IQR\")\n",
    "    print('\\n')"
   ]
  },
  {
   "cell_type": "code",
   "execution_count": 52,
   "metadata": {},
   "outputs": [
    {
     "data": {
      "text/plain": [
       "6       35\n",
       "7       15\n",
       "8        6\n",
       "9       15\n",
       "11      40\n",
       "        ..\n",
       "2144     2\n",
       "2146     3\n",
       "2149     2\n",
       "2150     2\n",
       "2152     2\n",
       "Name: Quantity, Length: 809, dtype: int64"
      ]
     },
     "execution_count": 52,
     "metadata": {},
     "output_type": "execute_result"
    }
   ],
   "source": [
    "# Remove outliers.\n",
    "\n",
    "grp_data [~idx_outs]"
   ]
  },
  {
   "cell_type": "code",
   "execution_count": 16,
   "metadata": {},
   "outputs": [
    {
     "data": {
      "text/plain": [
       "[Text(0, 0.5, 'Density'),\n",
       " Text(0.5, 1.0, 'Total Quantity for Full Price vs Discounted Products')]"
      ]
     },
     "execution_count": 16,
     "metadata": {},
     "output_type": "execute_result"
    },
    {
     "data": {
      "image/png": "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\n",
      "text/plain": [
       "<Figure size 576x288 with 1 Axes>"
      ]
     },
     "metadata": {
      "needs_background": "light"
     },
     "output_type": "display_data"
    }
   ],
   "source": [
    "# Check for normality after removing outliers.\n",
    "\n",
    "fig,ax=plt.subplots(figsize=(8,4))\n",
    "for grp_name,grp_data in grps.items():\n",
    "    sns.distplot(grp_data,label=grp_name, ax=ax)\n",
    "    \n",
    "    \n",
    "ax.legend()\n",
    "ax.set(title='Total Quantity for Full Price vs Discounted Products', ylabel='Density')"
   ]
  },
  {
   "cell_type": "markdown",
   "metadata": {},
   "source": [
    "### Confirm normality with scipy normal test."
   ]
  },
  {
   "cell_type": "code",
   "execution_count": 53,
   "metadata": {},
   "outputs": [],
   "source": [
    "import scipy.stats as stats"
   ]
  },
  {
   "cell_type": "code",
   "execution_count": 54,
   "metadata": {},
   "outputs": [
    {
     "name": "stdout",
     "output_type": "stream",
     "text": [
      "Group Full Price Normaltest p-value = 0.0\n",
      "\t-The data is is NOT normal.\n",
      "Group Discounted Normaltest p-value = 0.0\n",
      "\t-The data is is NOT normal.\n"
     ]
    }
   ],
   "source": [
    "for k,v in grps.items():\n",
    "    stat,p = stats.normaltest(v)\n",
    "    print(f\"Group {k} Normaltest p-value = {round(p,4)}\")\n",
    "    sig = 'is NOT' if p<.05 else 'IS'\n",
    "    print(f\"\\t-The data is {sig} normal.\")"
   ]
  },
  {
   "cell_type": "code",
   "execution_count": 19,
   "metadata": {},
   "outputs": [],
   "source": [
    "# Failed normality test; check sample sizes to see if large enough to bypass normality assumption.\n"
   ]
  },
  {
   "cell_type": "code",
   "execution_count": 55,
   "metadata": {},
   "outputs": [
    {
     "data": {
      "text/plain": [
       "(1297, 823)"
      ]
     },
     "execution_count": 55,
     "metadata": {},
     "output_type": "execute_result"
    }
   ],
   "source": [
    "# Each group is greater than 15; safe to ignore normality assumption.\n",
    "\n",
    "len(grps['Full Price']), len(grps['Discounted'])"
   ]
  },
  {
   "cell_type": "markdown",
   "metadata": {},
   "source": [
    "## Check for equal variance."
   ]
  },
  {
   "cell_type": "code",
   "execution_count": 56,
   "metadata": {},
   "outputs": [
    {
     "data": {
      "text/plain": [
       "0       12\n",
       "1       10\n",
       "2        5\n",
       "3        9\n",
       "4       40\n",
       "        ..\n",
       "2147     2\n",
       "2148     2\n",
       "2151     1\n",
       "2153     4\n",
       "2154     2\n",
       "Name: Quantity, Length: 1297, dtype: int64"
      ]
     },
     "execution_count": 56,
     "metadata": {},
     "output_type": "execute_result"
    }
   ],
   "source": [
    "# Prepare data for levene test to check for equal variance.\n",
    "\n",
    "data = []\n",
    "for k,v in grps.items():\n",
    "    data.append(v)\n",
    "data[0]"
   ]
  },
  {
   "cell_type": "code",
   "execution_count": 57,
   "metadata": {},
   "outputs": [
    {
     "data": {
      "text/plain": [
       "LeveneResult(statistic=19.187113832590878, pvalue=1.2429073348187694e-05)"
      ]
     },
     "execution_count": 57,
     "metadata": {},
     "output_type": "execute_result"
    }
   ],
   "source": [
    "stats.levene(data[0],data[1])"
   ]
  },
  {
   "cell_type": "code",
   "execution_count": 58,
   "metadata": {},
   "outputs": [
    {
     "name": "stdout",
     "output_type": "stream",
     "text": [
      "Levene' Test for Equal Variance p-value=0.0\n",
      "\t- The groups do NOT have equal variance.\n"
     ]
    }
   ],
   "source": [
    "# Does not pass Levene test.\n",
    "\n",
    "stat, p = stats.levene(*data)\n",
    "print(f\"Levene' Test for Equal Variance p-value={round(p,4)}\")\n",
    "sig = 'do NOT' if p<.05 else 'DO'\n",
    "\n",
    "print(f\"\\t- The groups {sig} have equal variance.\")"
   ]
  },
  {
   "cell_type": "code",
   "execution_count": 59,
   "metadata": {},
   "outputs": [
    {
     "name": "stdout",
     "output_type": "stream",
     "text": [
      "Welch's t-test p value=0.0\n"
     ]
    }
   ],
   "source": [
    "# Test using alternative Welch's T-Test for equal variance.\n",
    "# P value is less than 0.05; reject null hypothesis that the groups have identical average values.\n",
    "\n",
    "stat,p = stats.ttest_ind(grps['Full Price'], grps['Discounted'], equal_var=False)\n",
    "print(f\"Welch's t-test p value={round(p,4)}\")"
   ]
  },
  {
   "cell_type": "code",
   "execution_count": 60,
   "metadata": {},
   "outputs": [
    {
     "data": {
      "text/plain": [
       "-0.32001140965727837"
      ]
     },
     "execution_count": 60,
     "metadata": {},
     "output_type": "execute_result"
    }
   ],
   "source": [
    "# Check for effect size.\n",
    "# Effect size is small, indicating the difference in means is trivial.\n",
    "Cohen_d(grps['Full Price'],grps['Discounted'])"
   ]
  },
  {
   "cell_type": "code",
   "execution_count": 62,
   "metadata": {},
   "outputs": [
    {
     "data": {
      "text/html": [
       "<table class=\"simpletable\">\n",
       "<caption>Multiple Comparison of Means - Tukey HSD, FWER=0.05</caption>\n",
       "<tr>\n",
       "  <th>group1</th> <th>group2</th> <th>meandiff</th>  <th>p-adj</th>   <th>lower</th>   <th>upper</th>  <th>reject</th>\n",
       "</tr>\n",
       "<tr>\n",
       "    <td>0.0</td>   <td>0.01</td>  <td>-19.7153</td>   <td>0.9</td>  <td>-80.3306</td> <td>40.9001</td>  <td>False</td>\n",
       "</tr>\n",
       "<tr>\n",
       "    <td>0.0</td>   <td>0.02</td>  <td>-19.7153</td>   <td>0.9</td>   <td>-62.593</td> <td>23.1625</td>  <td>False</td>\n",
       "</tr>\n",
       "<tr>\n",
       "    <td>0.0</td>   <td>0.03</td>  <td>-20.0486</td>  <td>0.725</td> <td>-55.0714</td> <td>14.9742</td>  <td>False</td>\n",
       "</tr>\n",
       "<tr>\n",
       "    <td>0.0</td>   <td>0.04</td>  <td>-20.7153</td>   <td>0.9</td>  <td>-81.3306</td> <td>39.9001</td>  <td>False</td>\n",
       "</tr>\n",
       "<tr>\n",
       "    <td>0.0</td>   <td>0.05</td>   <td>6.2955</td>  <td>0.0011</td>  <td>1.5381</td>  <td>11.053</td>   <td>True</td> \n",
       "</tr>\n",
       "<tr>\n",
       "    <td>0.0</td>   <td>0.06</td>  <td>-19.7153</td>   <td>0.9</td>  <td>-80.3306</td> <td>40.9001</td>  <td>False</td>\n",
       "</tr>\n",
       "<tr>\n",
       "    <td>0.0</td>    <td>0.1</td>   <td>3.5217</td>  <td>0.4269</td>  <td>-1.3783</td> <td>8.4217</td>   <td>False</td>\n",
       "</tr>\n",
       "<tr>\n",
       "    <td>0.0</td>   <td>0.15</td>   <td>6.6669</td>  <td>0.0014</td>   <td>1.551</td>  <td>11.7828</td>  <td>True</td> \n",
       "</tr>\n",
       "<tr>\n",
       "    <td>0.0</td>    <td>0.2</td>   <td>5.3096</td>  <td>0.0303</td>  <td>0.2508</td>  <td>10.3684</td>  <td>True</td> \n",
       "</tr>\n",
       "<tr>\n",
       "    <td>0.0</td>   <td>0.25</td>    <td>6.525</td>  <td>0.0023</td>  <td>1.3647</td>  <td>11.6852</td>  <td>True</td> \n",
       "</tr>\n",
       "<tr>\n",
       "   <td>0.01</td>   <td>0.02</td>     <td>0.0</td>     <td>0.9</td>  <td>-74.2101</td> <td>74.2101</td>  <td>False</td>\n",
       "</tr>\n",
       "<tr>\n",
       "   <td>0.01</td>   <td>0.03</td>   <td>-0.3333</td>   <td>0.9</td>  <td>-70.2993</td> <td>69.6326</td>  <td>False</td>\n",
       "</tr>\n",
       "<tr>\n",
       "   <td>0.01</td>   <td>0.04</td>    <td>-1.0</td>     <td>0.9</td>  <td>-86.6905</td> <td>84.6905</td>  <td>False</td>\n",
       "</tr>\n",
       "<tr>\n",
       "   <td>0.01</td>   <td>0.05</td>   <td>26.0108</td>   <td>0.9</td>   <td>-34.745</td> <td>86.7667</td>  <td>False</td>\n",
       "</tr>\n",
       "<tr>\n",
       "   <td>0.01</td>   <td>0.06</td>     <td>0.0</td>     <td>0.9</td>  <td>-85.6905</td> <td>85.6905</td>  <td>False</td>\n",
       "</tr>\n",
       "<tr>\n",
       "   <td>0.01</td>    <td>0.1</td>   <td>23.237</td>    <td>0.9</td>  <td>-37.5302</td> <td>84.0042</td>  <td>False</td>\n",
       "</tr>\n",
       "<tr>\n",
       "   <td>0.01</td>   <td>0.15</td>   <td>26.3822</td>   <td>0.9</td>  <td>-34.4028</td> <td>87.1671</td>  <td>False</td>\n",
       "</tr>\n",
       "<tr>\n",
       "   <td>0.01</td>    <td>0.2</td>   <td>25.0248</td>   <td>0.9</td>  <td>-35.7554</td> <td>85.805</td>   <td>False</td>\n",
       "</tr>\n",
       "<tr>\n",
       "   <td>0.01</td>   <td>0.25</td>   <td>26.2403</td>   <td>0.9</td>  <td>-34.5485</td> <td>87.029</td>   <td>False</td>\n",
       "</tr>\n",
       "<tr>\n",
       "   <td>0.02</td>   <td>0.03</td>   <td>-0.3333</td>   <td>0.9</td>  <td>-55.6463</td> <td>54.9796</td>  <td>False</td>\n",
       "</tr>\n",
       "<tr>\n",
       "   <td>0.02</td>   <td>0.04</td>    <td>-1.0</td>     <td>0.9</td>  <td>-75.2101</td> <td>73.2101</td>  <td>False</td>\n",
       "</tr>\n",
       "<tr>\n",
       "   <td>0.02</td>   <td>0.05</td>   <td>26.0108</td> <td>0.6622</td> <td>-17.0654</td> <td>69.087</td>   <td>False</td>\n",
       "</tr>\n",
       "<tr>\n",
       "   <td>0.02</td>   <td>0.06</td>     <td>0.0</td>     <td>0.9</td>  <td>-74.2101</td> <td>74.2101</td>  <td>False</td>\n",
       "</tr>\n",
       "<tr>\n",
       "   <td>0.02</td>    <td>0.1</td>   <td>23.237</td>  <td>0.7914</td> <td>-19.8552</td> <td>66.3292</td>  <td>False</td>\n",
       "</tr>\n",
       "<tr>\n",
       "   <td>0.02</td>   <td>0.15</td>   <td>26.3822</td> <td>0.6461</td> <td>-16.7351</td> <td>69.4994</td>  <td>False</td>\n",
       "</tr>\n",
       "<tr>\n",
       "   <td>0.02</td>    <td>0.2</td>   <td>25.0248</td> <td>0.7089</td> <td>-18.0857</td> <td>68.1354</td>  <td>False</td>\n",
       "</tr>\n",
       "<tr>\n",
       "   <td>0.02</td>   <td>0.25</td>   <td>26.2403</td> <td>0.6528</td> <td>-16.8823</td> <td>69.3628</td>  <td>False</td>\n",
       "</tr>\n",
       "<tr>\n",
       "   <td>0.03</td>   <td>0.04</td>   <td>-0.6667</td>   <td>0.9</td>  <td>-70.6326</td> <td>69.2993</td>  <td>False</td>\n",
       "</tr>\n",
       "<tr>\n",
       "   <td>0.03</td>   <td>0.05</td>   <td>26.3441</td> <td>0.3639</td>  <td>-8.9214</td> <td>61.6096</td>  <td>False</td>\n",
       "</tr>\n",
       "<tr>\n",
       "   <td>0.03</td>   <td>0.06</td>   <td>0.3333</td>    <td>0.9</td>  <td>-69.6326</td> <td>70.2993</td>  <td>False</td>\n",
       "</tr>\n",
       "<tr>\n",
       "   <td>0.03</td>    <td>0.1</td>   <td>23.5703</td> <td>0.5338</td> <td>-11.7147</td> <td>58.8553</td>  <td>False</td>\n",
       "</tr>\n",
       "<tr>\n",
       "   <td>0.03</td>   <td>0.15</td>   <td>26.7155</td> <td>0.3436</td>  <td>-8.6001</td> <td>62.0311</td>  <td>False</td>\n",
       "</tr>\n",
       "<tr>\n",
       "   <td>0.03</td>    <td>0.2</td>   <td>25.3582</td>  <td>0.428</td>  <td>-9.9492</td> <td>60.6656</td>  <td>False</td>\n",
       "</tr>\n",
       "<tr>\n",
       "   <td>0.03</td>   <td>0.25</td>   <td>26.5736</td> <td>0.3525</td>  <td>-8.7485</td> <td>61.8957</td>  <td>False</td>\n",
       "</tr>\n",
       "<tr>\n",
       "   <td>0.04</td>   <td>0.05</td>   <td>27.0108</td>   <td>0.9</td>   <td>-33.745</td> <td>87.7667</td>  <td>False</td>\n",
       "</tr>\n",
       "<tr>\n",
       "   <td>0.04</td>   <td>0.06</td>     <td>1.0</td>     <td>0.9</td>  <td>-84.6905</td> <td>86.6905</td>  <td>False</td>\n",
       "</tr>\n",
       "<tr>\n",
       "   <td>0.04</td>    <td>0.1</td>   <td>24.237</td>    <td>0.9</td>  <td>-36.5302</td> <td>85.0042</td>  <td>False</td>\n",
       "</tr>\n",
       "<tr>\n",
       "   <td>0.04</td>   <td>0.15</td>   <td>27.3822</td>   <td>0.9</td>  <td>-33.4028</td> <td>88.1671</td>  <td>False</td>\n",
       "</tr>\n",
       "<tr>\n",
       "   <td>0.04</td>    <td>0.2</td>   <td>26.0248</td>   <td>0.9</td>  <td>-34.7554</td> <td>86.805</td>   <td>False</td>\n",
       "</tr>\n",
       "<tr>\n",
       "   <td>0.04</td>   <td>0.25</td>   <td>27.2403</td>   <td>0.9</td>  <td>-33.5485</td> <td>88.029</td>   <td>False</td>\n",
       "</tr>\n",
       "<tr>\n",
       "   <td>0.05</td>   <td>0.06</td>  <td>-26.0108</td>   <td>0.9</td>  <td>-86.7667</td> <td>34.745</td>   <td>False</td>\n",
       "</tr>\n",
       "<tr>\n",
       "   <td>0.05</td>    <td>0.1</td>   <td>-2.7738</td>   <td>0.9</td>   <td>-9.1822</td> <td>3.6346</td>   <td>False</td>\n",
       "</tr>\n",
       "<tr>\n",
       "   <td>0.05</td>   <td>0.15</td>   <td>0.3714</td>    <td>0.9</td>   <td>-6.2036</td> <td>6.9463</td>   <td>False</td>\n",
       "</tr>\n",
       "<tr>\n",
       "   <td>0.05</td>    <td>0.2</td>   <td>-0.986</td>    <td>0.9</td>   <td>-7.5166</td> <td>5.5447</td>   <td>False</td>\n",
       "</tr>\n",
       "<tr>\n",
       "   <td>0.05</td>   <td>0.25</td>   <td>0.2294</td>    <td>0.9</td>   <td>-6.3801</td>  <td>6.839</td>   <td>False</td>\n",
       "</tr>\n",
       "<tr>\n",
       "   <td>0.06</td>    <td>0.1</td>   <td>23.237</td>    <td>0.9</td>  <td>-37.5302</td> <td>84.0042</td>  <td>False</td>\n",
       "</tr>\n",
       "<tr>\n",
       "   <td>0.06</td>   <td>0.15</td>   <td>26.3822</td>   <td>0.9</td>  <td>-34.4028</td> <td>87.1671</td>  <td>False</td>\n",
       "</tr>\n",
       "<tr>\n",
       "   <td>0.06</td>    <td>0.2</td>   <td>25.0248</td>   <td>0.9</td>  <td>-35.7554</td> <td>85.805</td>   <td>False</td>\n",
       "</tr>\n",
       "<tr>\n",
       "   <td>0.06</td>   <td>0.25</td>   <td>26.2403</td>   <td>0.9</td>  <td>-34.5485</td> <td>87.029</td>   <td>False</td>\n",
       "</tr>\n",
       "<tr>\n",
       "    <td>0.1</td>   <td>0.15</td>   <td>3.1452</td>    <td>0.9</td>   <td>-3.5337</td>  <td>9.824</td>   <td>False</td>\n",
       "</tr>\n",
       "<tr>\n",
       "    <td>0.1</td>    <td>0.2</td>   <td>1.7879</td>    <td>0.9</td>   <td>-4.8474</td> <td>8.4231</td>   <td>False</td>\n",
       "</tr>\n",
       "<tr>\n",
       "    <td>0.1</td>   <td>0.25</td>   <td>3.0033</td>    <td>0.9</td>   <td>-3.7096</td> <td>9.7161</td>   <td>False</td>\n",
       "</tr>\n",
       "<tr>\n",
       "   <td>0.15</td>    <td>0.2</td>   <td>-1.3573</td>   <td>0.9</td>   <td>-8.1536</td> <td>5.4389</td>   <td>False</td>\n",
       "</tr>\n",
       "<tr>\n",
       "   <td>0.15</td>   <td>0.25</td>   <td>-0.1419</td>   <td>0.9</td>   <td>-7.014</td>  <td>6.7302</td>   <td>False</td>\n",
       "</tr>\n",
       "<tr>\n",
       "    <td>0.2</td>   <td>0.25</td>   <td>1.2154</td>    <td>0.9</td>   <td>-5.6143</td> <td>8.0451</td>   <td>False</td>\n",
       "</tr>\n",
       "</table>"
      ],
      "text/plain": [
       "<class 'statsmodels.iolib.table.SimpleTable'>"
      ]
     },
     "execution_count": 62,
     "metadata": {},
     "output_type": "execute_result"
    }
   ],
   "source": [
    "from statsmodels.stats.multicomp import pairwise_tukeyhsd\n",
    "model = pairwise_tukeyhsd(df_OrderDetail['Quantity'],df_OrderDetail['Discount'])\n",
    "model.summary()"
   ]
  },
  {
   "cell_type": "code",
   "execution_count": 63,
   "metadata": {},
   "outputs": [
    {
     "data": {
      "text/plain": [
       "<matplotlib.axes._subplots.AxesSubplot at 0x1a273ce860>"
      ]
     },
     "execution_count": 63,
     "metadata": {},
     "output_type": "execute_result"
    },
    {
     "data": {
      "image/png": "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\n",
      "text/plain": [
       "<Figure size 432x288 with 1 Axes>"
      ]
     },
     "metadata": {
      "needs_background": "light"
     },
     "output_type": "display_data"
    }
   ],
   "source": [
    "sns.barplot(data=df_OrderDetail,x='Discount',y='Quantity',ci=68)"
   ]
  },
  {
   "cell_type": "markdown",
   "metadata": {},
   "source": [
    "# HYPOTHESIS 2"
   ]
  },
  {
   "cell_type": "markdown",
   "metadata": {},
   "source": [
    "> ***Do order quantities of individual countries differ when discounted?***"
   ]
  },
  {
   "cell_type": "markdown",
   "metadata": {},
   "source": [
    "- $H_0$: Order quantities of individual countries are the same when discounted.\n",
    "- $H_1$: Order quantities of individual countries are not the same when discounted."
   ]
  },
  {
   "cell_type": "code",
   "execution_count": 125,
   "metadata": {},
   "outputs": [
    {
     "data": {
      "text/html": [
       "<div>\n",
       "<style scoped>\n",
       "    .dataframe tbody tr th:only-of-type {\n",
       "        vertical-align: middle;\n",
       "    }\n",
       "\n",
       "    .dataframe tbody tr th {\n",
       "        vertical-align: top;\n",
       "    }\n",
       "\n",
       "    .dataframe thead th {\n",
       "        text-align: right;\n",
       "    }\n",
       "</style>\n",
       "<table border=\"1\" class=\"dataframe\">\n",
       "  <thead>\n",
       "    <tr style=\"text-align: right;\">\n",
       "      <th></th>\n",
       "      <th>Id</th>\n",
       "      <th>CustomerId</th>\n",
       "      <th>EmployeeId</th>\n",
       "      <th>OrderDate</th>\n",
       "      <th>RequiredDate</th>\n",
       "      <th>ShippedDate</th>\n",
       "      <th>ShipVia</th>\n",
       "      <th>Freight</th>\n",
       "      <th>ShipName</th>\n",
       "      <th>ShipAddress</th>\n",
       "      <th>ShipCity</th>\n",
       "      <th>ShipRegion</th>\n",
       "      <th>ShipPostalCode</th>\n",
       "      <th>ShipCountry</th>\n",
       "    </tr>\n",
       "  </thead>\n",
       "  <tbody>\n",
       "    <tr>\n",
       "      <td>0</td>\n",
       "      <td>10248</td>\n",
       "      <td>VINET</td>\n",
       "      <td>5</td>\n",
       "      <td>2012-07-04</td>\n",
       "      <td>2012-08-01</td>\n",
       "      <td>2012-07-16</td>\n",
       "      <td>3</td>\n",
       "      <td>32.38</td>\n",
       "      <td>Vins et alcools Chevalier</td>\n",
       "      <td>59 rue de l'Abbaye</td>\n",
       "      <td>Reims</td>\n",
       "      <td>Western Europe</td>\n",
       "      <td>51100</td>\n",
       "      <td>France</td>\n",
       "    </tr>\n",
       "    <tr>\n",
       "      <td>1</td>\n",
       "      <td>10249</td>\n",
       "      <td>TOMSP</td>\n",
       "      <td>6</td>\n",
       "      <td>2012-07-05</td>\n",
       "      <td>2012-08-16</td>\n",
       "      <td>2012-07-10</td>\n",
       "      <td>1</td>\n",
       "      <td>11.61</td>\n",
       "      <td>Toms Spezialitäten</td>\n",
       "      <td>Luisenstr. 48</td>\n",
       "      <td>Münster</td>\n",
       "      <td>Western Europe</td>\n",
       "      <td>44087</td>\n",
       "      <td>Germany</td>\n",
       "    </tr>\n",
       "    <tr>\n",
       "      <td>2</td>\n",
       "      <td>10250</td>\n",
       "      <td>HANAR</td>\n",
       "      <td>4</td>\n",
       "      <td>2012-07-08</td>\n",
       "      <td>2012-08-05</td>\n",
       "      <td>2012-07-12</td>\n",
       "      <td>2</td>\n",
       "      <td>65.83</td>\n",
       "      <td>Hanari Carnes</td>\n",
       "      <td>Rua do Paço, 67</td>\n",
       "      <td>Rio de Janeiro</td>\n",
       "      <td>South America</td>\n",
       "      <td>05454-876</td>\n",
       "      <td>Brazil</td>\n",
       "    </tr>\n",
       "    <tr>\n",
       "      <td>3</td>\n",
       "      <td>10251</td>\n",
       "      <td>VICTE</td>\n",
       "      <td>3</td>\n",
       "      <td>2012-07-08</td>\n",
       "      <td>2012-08-05</td>\n",
       "      <td>2012-07-15</td>\n",
       "      <td>1</td>\n",
       "      <td>41.34</td>\n",
       "      <td>Victuailles en stock</td>\n",
       "      <td>2, rue du Commerce</td>\n",
       "      <td>Lyon</td>\n",
       "      <td>Western Europe</td>\n",
       "      <td>69004</td>\n",
       "      <td>France</td>\n",
       "    </tr>\n",
       "    <tr>\n",
       "      <td>4</td>\n",
       "      <td>10252</td>\n",
       "      <td>SUPRD</td>\n",
       "      <td>4</td>\n",
       "      <td>2012-07-09</td>\n",
       "      <td>2012-08-06</td>\n",
       "      <td>2012-07-11</td>\n",
       "      <td>2</td>\n",
       "      <td>51.30</td>\n",
       "      <td>Suprêmes délices</td>\n",
       "      <td>Boulevard Tirou, 255</td>\n",
       "      <td>Charleroi</td>\n",
       "      <td>Western Europe</td>\n",
       "      <td>B-6000</td>\n",
       "      <td>Belgium</td>\n",
       "    </tr>\n",
       "  </tbody>\n",
       "</table>\n",
       "</div>"
      ],
      "text/plain": [
       "      Id CustomerId  EmployeeId   OrderDate RequiredDate ShippedDate  ShipVia  \\\n",
       "0  10248      VINET           5  2012-07-04   2012-08-01  2012-07-16        3   \n",
       "1  10249      TOMSP           6  2012-07-05   2012-08-16  2012-07-10        1   \n",
       "2  10250      HANAR           4  2012-07-08   2012-08-05  2012-07-12        2   \n",
       "3  10251      VICTE           3  2012-07-08   2012-08-05  2012-07-15        1   \n",
       "4  10252      SUPRD           4  2012-07-09   2012-08-06  2012-07-11        2   \n",
       "\n",
       "   Freight                   ShipName           ShipAddress        ShipCity  \\\n",
       "0    32.38  Vins et alcools Chevalier    59 rue de l'Abbaye           Reims   \n",
       "1    11.61         Toms Spezialitäten         Luisenstr. 48         Münster   \n",
       "2    65.83              Hanari Carnes       Rua do Paço, 67  Rio de Janeiro   \n",
       "3    41.34       Victuailles en stock    2, rue du Commerce            Lyon   \n",
       "4    51.30           Suprêmes délices  Boulevard Tirou, 255       Charleroi   \n",
       "\n",
       "       ShipRegion ShipPostalCode ShipCountry  \n",
       "0  Western Europe          51100      France  \n",
       "1  Western Europe          44087     Germany  \n",
       "2   South America      05454-876      Brazil  \n",
       "3  Western Europe          69004      France  \n",
       "4  Western Europe         B-6000     Belgium  "
      ]
     },
     "metadata": {},
     "output_type": "display_data"
    }
   ],
   "source": [
    "cur.execute(\"\"\"SELECT * FROM 'Order'\"\"\")\n",
    "names = [description[0] for description in cur.description]\n",
    "df_order = pd.DataFrame(cur.fetchall(), columns = names)\n",
    "display(df_order.head())"
   ]
  },
  {
   "cell_type": "code",
   "execution_count": 126,
   "metadata": {},
   "outputs": [
    {
     "data": {
      "text/html": [
       "<div>\n",
       "<style scoped>\n",
       "    .dataframe tbody tr th:only-of-type {\n",
       "        vertical-align: middle;\n",
       "    }\n",
       "\n",
       "    .dataframe tbody tr th {\n",
       "        vertical-align: top;\n",
       "    }\n",
       "\n",
       "    .dataframe thead th {\n",
       "        text-align: right;\n",
       "    }\n",
       "</style>\n",
       "<table border=\"1\" class=\"dataframe\">\n",
       "  <thead>\n",
       "    <tr style=\"text-align: right;\">\n",
       "      <th></th>\n",
       "      <th>Id</th>\n",
       "      <th>OrderId</th>\n",
       "      <th>ProductId</th>\n",
       "      <th>UnitPrice</th>\n",
       "      <th>Quantity</th>\n",
       "      <th>Discount</th>\n",
       "      <th>groups</th>\n",
       "      <th>group_num</th>\n",
       "    </tr>\n",
       "  </thead>\n",
       "  <tbody>\n",
       "    <tr>\n",
       "      <td>0</td>\n",
       "      <td>10248/11</td>\n",
       "      <td>10248</td>\n",
       "      <td>11</td>\n",
       "      <td>14.0</td>\n",
       "      <td>12</td>\n",
       "      <td>0.0</td>\n",
       "      <td>Full Price</td>\n",
       "      <td>0</td>\n",
       "    </tr>\n",
       "    <tr>\n",
       "      <td>1</td>\n",
       "      <td>10248/42</td>\n",
       "      <td>10248</td>\n",
       "      <td>42</td>\n",
       "      <td>9.8</td>\n",
       "      <td>10</td>\n",
       "      <td>0.0</td>\n",
       "      <td>Full Price</td>\n",
       "      <td>0</td>\n",
       "    </tr>\n",
       "    <tr>\n",
       "      <td>2</td>\n",
       "      <td>10248/72</td>\n",
       "      <td>10248</td>\n",
       "      <td>72</td>\n",
       "      <td>34.8</td>\n",
       "      <td>5</td>\n",
       "      <td>0.0</td>\n",
       "      <td>Full Price</td>\n",
       "      <td>0</td>\n",
       "    </tr>\n",
       "    <tr>\n",
       "      <td>3</td>\n",
       "      <td>10249/14</td>\n",
       "      <td>10249</td>\n",
       "      <td>14</td>\n",
       "      <td>18.6</td>\n",
       "      <td>9</td>\n",
       "      <td>0.0</td>\n",
       "      <td>Full Price</td>\n",
       "      <td>0</td>\n",
       "    </tr>\n",
       "    <tr>\n",
       "      <td>4</td>\n",
       "      <td>10249/51</td>\n",
       "      <td>10249</td>\n",
       "      <td>51</td>\n",
       "      <td>42.4</td>\n",
       "      <td>40</td>\n",
       "      <td>0.0</td>\n",
       "      <td>Full Price</td>\n",
       "      <td>0</td>\n",
       "    </tr>\n",
       "  </tbody>\n",
       "</table>\n",
       "</div>"
      ],
      "text/plain": [
       "         Id  OrderId  ProductId  UnitPrice  Quantity  Discount      groups  \\\n",
       "0  10248/11    10248         11       14.0        12       0.0  Full Price   \n",
       "1  10248/42    10248         42        9.8        10       0.0  Full Price   \n",
       "2  10248/72    10248         72       34.8         5       0.0  Full Price   \n",
       "3  10249/14    10249         14       18.6         9       0.0  Full Price   \n",
       "4  10249/51    10249         51       42.4        40       0.0  Full Price   \n",
       "\n",
       "   group_num  \n",
       "0          0  \n",
       "1          0  \n",
       "2          0  \n",
       "3          0  \n",
       "4          0  "
      ]
     },
     "execution_count": 126,
     "metadata": {},
     "output_type": "execute_result"
    }
   ],
   "source": [
    "df_OrderDetail.head()"
   ]
  },
  {
   "cell_type": "code",
   "execution_count": 127,
   "metadata": {},
   "outputs": [
    {
     "data": {
      "text/html": [
       "<div>\n",
       "<style scoped>\n",
       "    .dataframe tbody tr th:only-of-type {\n",
       "        vertical-align: middle;\n",
       "    }\n",
       "\n",
       "    .dataframe tbody tr th {\n",
       "        vertical-align: top;\n",
       "    }\n",
       "\n",
       "    .dataframe thead th {\n",
       "        text-align: right;\n",
       "    }\n",
       "</style>\n",
       "<table border=\"1\" class=\"dataframe\">\n",
       "  <thead>\n",
       "    <tr style=\"text-align: right;\">\n",
       "      <th></th>\n",
       "      <th>OrderId</th>\n",
       "      <th>CustomerId</th>\n",
       "      <th>EmployeeId</th>\n",
       "      <th>OrderDate</th>\n",
       "      <th>RequiredDate</th>\n",
       "      <th>ShippedDate</th>\n",
       "      <th>ShipVia</th>\n",
       "      <th>Freight</th>\n",
       "      <th>ShipName</th>\n",
       "      <th>ShipAddress</th>\n",
       "      <th>ShipCity</th>\n",
       "      <th>ShipRegion</th>\n",
       "      <th>ShipPostalCode</th>\n",
       "      <th>ShipCountry</th>\n",
       "    </tr>\n",
       "  </thead>\n",
       "  <tbody>\n",
       "    <tr>\n",
       "      <td>0</td>\n",
       "      <td>10248</td>\n",
       "      <td>VINET</td>\n",
       "      <td>5</td>\n",
       "      <td>2012-07-04</td>\n",
       "      <td>2012-08-01</td>\n",
       "      <td>2012-07-16</td>\n",
       "      <td>3</td>\n",
       "      <td>32.38</td>\n",
       "      <td>Vins et alcools Chevalier</td>\n",
       "      <td>59 rue de l'Abbaye</td>\n",
       "      <td>Reims</td>\n",
       "      <td>Western Europe</td>\n",
       "      <td>51100</td>\n",
       "      <td>France</td>\n",
       "    </tr>\n",
       "    <tr>\n",
       "      <td>1</td>\n",
       "      <td>10249</td>\n",
       "      <td>TOMSP</td>\n",
       "      <td>6</td>\n",
       "      <td>2012-07-05</td>\n",
       "      <td>2012-08-16</td>\n",
       "      <td>2012-07-10</td>\n",
       "      <td>1</td>\n",
       "      <td>11.61</td>\n",
       "      <td>Toms Spezialitäten</td>\n",
       "      <td>Luisenstr. 48</td>\n",
       "      <td>Münster</td>\n",
       "      <td>Western Europe</td>\n",
       "      <td>44087</td>\n",
       "      <td>Germany</td>\n",
       "    </tr>\n",
       "    <tr>\n",
       "      <td>2</td>\n",
       "      <td>10250</td>\n",
       "      <td>HANAR</td>\n",
       "      <td>4</td>\n",
       "      <td>2012-07-08</td>\n",
       "      <td>2012-08-05</td>\n",
       "      <td>2012-07-12</td>\n",
       "      <td>2</td>\n",
       "      <td>65.83</td>\n",
       "      <td>Hanari Carnes</td>\n",
       "      <td>Rua do Paço, 67</td>\n",
       "      <td>Rio de Janeiro</td>\n",
       "      <td>South America</td>\n",
       "      <td>05454-876</td>\n",
       "      <td>Brazil</td>\n",
       "    </tr>\n",
       "    <tr>\n",
       "      <td>3</td>\n",
       "      <td>10251</td>\n",
       "      <td>VICTE</td>\n",
       "      <td>3</td>\n",
       "      <td>2012-07-08</td>\n",
       "      <td>2012-08-05</td>\n",
       "      <td>2012-07-15</td>\n",
       "      <td>1</td>\n",
       "      <td>41.34</td>\n",
       "      <td>Victuailles en stock</td>\n",
       "      <td>2, rue du Commerce</td>\n",
       "      <td>Lyon</td>\n",
       "      <td>Western Europe</td>\n",
       "      <td>69004</td>\n",
       "      <td>France</td>\n",
       "    </tr>\n",
       "    <tr>\n",
       "      <td>4</td>\n",
       "      <td>10252</td>\n",
       "      <td>SUPRD</td>\n",
       "      <td>4</td>\n",
       "      <td>2012-07-09</td>\n",
       "      <td>2012-08-06</td>\n",
       "      <td>2012-07-11</td>\n",
       "      <td>2</td>\n",
       "      <td>51.30</td>\n",
       "      <td>Suprêmes délices</td>\n",
       "      <td>Boulevard Tirou, 255</td>\n",
       "      <td>Charleroi</td>\n",
       "      <td>Western Europe</td>\n",
       "      <td>B-6000</td>\n",
       "      <td>Belgium</td>\n",
       "    </tr>\n",
       "  </tbody>\n",
       "</table>\n",
       "</div>"
      ],
      "text/plain": [
       "   OrderId CustomerId  EmployeeId   OrderDate RequiredDate ShippedDate  \\\n",
       "0    10248      VINET           5  2012-07-04   2012-08-01  2012-07-16   \n",
       "1    10249      TOMSP           6  2012-07-05   2012-08-16  2012-07-10   \n",
       "2    10250      HANAR           4  2012-07-08   2012-08-05  2012-07-12   \n",
       "3    10251      VICTE           3  2012-07-08   2012-08-05  2012-07-15   \n",
       "4    10252      SUPRD           4  2012-07-09   2012-08-06  2012-07-11   \n",
       "\n",
       "   ShipVia  Freight                   ShipName           ShipAddress  \\\n",
       "0        3    32.38  Vins et alcools Chevalier    59 rue de l'Abbaye   \n",
       "1        1    11.61         Toms Spezialitäten         Luisenstr. 48   \n",
       "2        2    65.83              Hanari Carnes       Rua do Paço, 67   \n",
       "3        1    41.34       Victuailles en stock    2, rue du Commerce   \n",
       "4        2    51.30           Suprêmes délices  Boulevard Tirou, 255   \n",
       "\n",
       "         ShipCity      ShipRegion ShipPostalCode ShipCountry  \n",
       "0           Reims  Western Europe          51100      France  \n",
       "1         Münster  Western Europe          44087     Germany  \n",
       "2  Rio de Janeiro   South America      05454-876      Brazil  \n",
       "3            Lyon  Western Europe          69004      France  \n",
       "4       Charleroi  Western Europe         B-6000     Belgium  "
      ]
     },
     "execution_count": 127,
     "metadata": {},
     "output_type": "execute_result"
    }
   ],
   "source": [
    "# Prepare df_order to merge with df_OrderDetail.\n",
    "df_order.rename({'Id':'OrderId'}, axis=1, inplace=True)\n",
    "df_order.head()"
   ]
  },
  {
   "cell_type": "code",
   "execution_count": 128,
   "metadata": {},
   "outputs": [
    {
     "data": {
      "text/html": [
       "<div>\n",
       "<style scoped>\n",
       "    .dataframe tbody tr th:only-of-type {\n",
       "        vertical-align: middle;\n",
       "    }\n",
       "\n",
       "    .dataframe tbody tr th {\n",
       "        vertical-align: top;\n",
       "    }\n",
       "\n",
       "    .dataframe thead th {\n",
       "        text-align: right;\n",
       "    }\n",
       "</style>\n",
       "<table border=\"1\" class=\"dataframe\">\n",
       "  <thead>\n",
       "    <tr style=\"text-align: right;\">\n",
       "      <th></th>\n",
       "      <th>Id</th>\n",
       "      <th>OrderId</th>\n",
       "      <th>ProductId</th>\n",
       "      <th>UnitPrice</th>\n",
       "      <th>Quantity</th>\n",
       "      <th>Discount</th>\n",
       "      <th>groups</th>\n",
       "      <th>group_num</th>\n",
       "      <th>CustomerId</th>\n",
       "      <th>EmployeeId</th>\n",
       "      <th>...</th>\n",
       "      <th>RequiredDate</th>\n",
       "      <th>ShippedDate</th>\n",
       "      <th>ShipVia</th>\n",
       "      <th>Freight</th>\n",
       "      <th>ShipName</th>\n",
       "      <th>ShipAddress</th>\n",
       "      <th>ShipCity</th>\n",
       "      <th>ShipRegion</th>\n",
       "      <th>ShipPostalCode</th>\n",
       "      <th>ShipCountry</th>\n",
       "    </tr>\n",
       "  </thead>\n",
       "  <tbody>\n",
       "    <tr>\n",
       "      <td>0</td>\n",
       "      <td>10248/11</td>\n",
       "      <td>10248</td>\n",
       "      <td>11</td>\n",
       "      <td>14.0</td>\n",
       "      <td>12</td>\n",
       "      <td>0.0</td>\n",
       "      <td>Full Price</td>\n",
       "      <td>0</td>\n",
       "      <td>VINET</td>\n",
       "      <td>5</td>\n",
       "      <td>...</td>\n",
       "      <td>2012-08-01</td>\n",
       "      <td>2012-07-16</td>\n",
       "      <td>3</td>\n",
       "      <td>32.38</td>\n",
       "      <td>Vins et alcools Chevalier</td>\n",
       "      <td>59 rue de l'Abbaye</td>\n",
       "      <td>Reims</td>\n",
       "      <td>Western Europe</td>\n",
       "      <td>51100</td>\n",
       "      <td>France</td>\n",
       "    </tr>\n",
       "    <tr>\n",
       "      <td>1</td>\n",
       "      <td>10248/42</td>\n",
       "      <td>10248</td>\n",
       "      <td>42</td>\n",
       "      <td>9.8</td>\n",
       "      <td>10</td>\n",
       "      <td>0.0</td>\n",
       "      <td>Full Price</td>\n",
       "      <td>0</td>\n",
       "      <td>VINET</td>\n",
       "      <td>5</td>\n",
       "      <td>...</td>\n",
       "      <td>2012-08-01</td>\n",
       "      <td>2012-07-16</td>\n",
       "      <td>3</td>\n",
       "      <td>32.38</td>\n",
       "      <td>Vins et alcools Chevalier</td>\n",
       "      <td>59 rue de l'Abbaye</td>\n",
       "      <td>Reims</td>\n",
       "      <td>Western Europe</td>\n",
       "      <td>51100</td>\n",
       "      <td>France</td>\n",
       "    </tr>\n",
       "    <tr>\n",
       "      <td>2</td>\n",
       "      <td>10248/72</td>\n",
       "      <td>10248</td>\n",
       "      <td>72</td>\n",
       "      <td>34.8</td>\n",
       "      <td>5</td>\n",
       "      <td>0.0</td>\n",
       "      <td>Full Price</td>\n",
       "      <td>0</td>\n",
       "      <td>VINET</td>\n",
       "      <td>5</td>\n",
       "      <td>...</td>\n",
       "      <td>2012-08-01</td>\n",
       "      <td>2012-07-16</td>\n",
       "      <td>3</td>\n",
       "      <td>32.38</td>\n",
       "      <td>Vins et alcools Chevalier</td>\n",
       "      <td>59 rue de l'Abbaye</td>\n",
       "      <td>Reims</td>\n",
       "      <td>Western Europe</td>\n",
       "      <td>51100</td>\n",
       "      <td>France</td>\n",
       "    </tr>\n",
       "    <tr>\n",
       "      <td>3</td>\n",
       "      <td>10249/14</td>\n",
       "      <td>10249</td>\n",
       "      <td>14</td>\n",
       "      <td>18.6</td>\n",
       "      <td>9</td>\n",
       "      <td>0.0</td>\n",
       "      <td>Full Price</td>\n",
       "      <td>0</td>\n",
       "      <td>TOMSP</td>\n",
       "      <td>6</td>\n",
       "      <td>...</td>\n",
       "      <td>2012-08-16</td>\n",
       "      <td>2012-07-10</td>\n",
       "      <td>1</td>\n",
       "      <td>11.61</td>\n",
       "      <td>Toms Spezialitäten</td>\n",
       "      <td>Luisenstr. 48</td>\n",
       "      <td>Münster</td>\n",
       "      <td>Western Europe</td>\n",
       "      <td>44087</td>\n",
       "      <td>Germany</td>\n",
       "    </tr>\n",
       "    <tr>\n",
       "      <td>4</td>\n",
       "      <td>10249/51</td>\n",
       "      <td>10249</td>\n",
       "      <td>51</td>\n",
       "      <td>42.4</td>\n",
       "      <td>40</td>\n",
       "      <td>0.0</td>\n",
       "      <td>Full Price</td>\n",
       "      <td>0</td>\n",
       "      <td>TOMSP</td>\n",
       "      <td>6</td>\n",
       "      <td>...</td>\n",
       "      <td>2012-08-16</td>\n",
       "      <td>2012-07-10</td>\n",
       "      <td>1</td>\n",
       "      <td>11.61</td>\n",
       "      <td>Toms Spezialitäten</td>\n",
       "      <td>Luisenstr. 48</td>\n",
       "      <td>Münster</td>\n",
       "      <td>Western Europe</td>\n",
       "      <td>44087</td>\n",
       "      <td>Germany</td>\n",
       "    </tr>\n",
       "  </tbody>\n",
       "</table>\n",
       "<p>5 rows × 21 columns</p>\n",
       "</div>"
      ],
      "text/plain": [
       "         Id  OrderId  ProductId  UnitPrice  Quantity  Discount      groups  \\\n",
       "0  10248/11    10248         11       14.0        12       0.0  Full Price   \n",
       "1  10248/42    10248         42        9.8        10       0.0  Full Price   \n",
       "2  10248/72    10248         72       34.8         5       0.0  Full Price   \n",
       "3  10249/14    10249         14       18.6         9       0.0  Full Price   \n",
       "4  10249/51    10249         51       42.4        40       0.0  Full Price   \n",
       "\n",
       "   group_num CustomerId  EmployeeId  ... RequiredDate ShippedDate ShipVia  \\\n",
       "0          0      VINET           5  ...   2012-08-01  2012-07-16       3   \n",
       "1          0      VINET           5  ...   2012-08-01  2012-07-16       3   \n",
       "2          0      VINET           5  ...   2012-08-01  2012-07-16       3   \n",
       "3          0      TOMSP           6  ...   2012-08-16  2012-07-10       1   \n",
       "4          0      TOMSP           6  ...   2012-08-16  2012-07-10       1   \n",
       "\n",
       "   Freight                   ShipName         ShipAddress ShipCity  \\\n",
       "0    32.38  Vins et alcools Chevalier  59 rue de l'Abbaye    Reims   \n",
       "1    32.38  Vins et alcools Chevalier  59 rue de l'Abbaye    Reims   \n",
       "2    32.38  Vins et alcools Chevalier  59 rue de l'Abbaye    Reims   \n",
       "3    11.61         Toms Spezialitäten       Luisenstr. 48  Münster   \n",
       "4    11.61         Toms Spezialitäten       Luisenstr. 48  Münster   \n",
       "\n",
       "       ShipRegion ShipPostalCode ShipCountry  \n",
       "0  Western Europe          51100      France  \n",
       "1  Western Europe          51100      France  \n",
       "2  Western Europe          51100      France  \n",
       "3  Western Europe          44087     Germany  \n",
       "4  Western Europe          44087     Germany  \n",
       "\n",
       "[5 rows x 21 columns]"
      ]
     },
     "execution_count": 128,
     "metadata": {},
     "output_type": "execute_result"
    }
   ],
   "source": [
    "df_merge = df_OrderDetail.merge(df_order, on='OrderId', copy=True)\n",
    "df_merge.head()"
   ]
  },
  {
   "cell_type": "markdown",
   "metadata": {},
   "source": [
    "## Determine if data is numerical or categorical"
   ]
  },
  {
   "cell_type": "code",
   "execution_count": 129,
   "metadata": {
    "scrolled": true
   },
   "outputs": [
    {
     "data": {
      "text/html": [
       "<div>\n",
       "<style scoped>\n",
       "    .dataframe tbody tr th:only-of-type {\n",
       "        vertical-align: middle;\n",
       "    }\n",
       "\n",
       "    .dataframe tbody tr th {\n",
       "        vertical-align: top;\n",
       "    }\n",
       "\n",
       "    .dataframe thead th {\n",
       "        text-align: right;\n",
       "    }\n",
       "</style>\n",
       "<table border=\"1\" class=\"dataframe\">\n",
       "  <thead>\n",
       "    <tr style=\"text-align: right;\">\n",
       "      <th></th>\n",
       "      <th>Quantity</th>\n",
       "    </tr>\n",
       "    <tr>\n",
       "      <th>ShipCountry</th>\n",
       "      <th></th>\n",
       "    </tr>\n",
       "  </thead>\n",
       "  <tbody>\n",
       "    <tr>\n",
       "      <td>Austria</td>\n",
       "      <td>2504</td>\n",
       "    </tr>\n",
       "    <tr>\n",
       "      <td>Belgium</td>\n",
       "      <td>410</td>\n",
       "    </tr>\n",
       "    <tr>\n",
       "      <td>Brazil</td>\n",
       "      <td>1898</td>\n",
       "    </tr>\n",
       "    <tr>\n",
       "      <td>Canada</td>\n",
       "      <td>1073</td>\n",
       "    </tr>\n",
       "    <tr>\n",
       "      <td>Denmark</td>\n",
       "      <td>475</td>\n",
       "    </tr>\n",
       "  </tbody>\n",
       "</table>\n",
       "</div>"
      ],
      "text/plain": [
       "             Quantity\n",
       "ShipCountry          \n",
       "Austria          2504\n",
       "Belgium           410\n",
       "Brazil           1898\n",
       "Canada           1073\n",
       "Denmark           475"
      ]
     },
     "execution_count": 129,
     "metadata": {},
     "output_type": "execute_result"
    }
   ],
   "source": [
    "# Data is numerical.\n",
    "# Find quantity of orders by country.\n",
    "\n",
    "df_ShipCountry = df_merge[df_merge['group_num'] == 1][['ShipCountry', 'Quantity']].groupby(['ShipCountry']).sum()\n",
    "\n",
    "df_ShipCountry.head()"
   ]
  },
  {
   "cell_type": "code",
   "execution_count": 130,
   "metadata": {},
   "outputs": [],
   "source": [
    "df_countries = df_merge[df_merge['group_num'] == 1][['ShipCountry', 'Quantity']]"
   ]
  },
  {
   "cell_type": "markdown",
   "metadata": {},
   "source": [
    "## Determine how many groups to compare to establish which test to use."
   ]
  },
  {
   "cell_type": "markdown",
   "metadata": {},
   "source": [
    "### More than two groups are being compared; use the ANOVA or Tukey test."
   ]
  },
  {
   "cell_type": "markdown",
   "metadata": {},
   "source": [
    "### Check data to see if it meets test assumptions."
   ]
  },
  {
   "cell_type": "code",
   "execution_count": 131,
   "metadata": {},
   "outputs": [
    {
     "data": {
      "text/plain": [
       "<matplotlib.axes._subplots.AxesSubplot at 0x1a29cd49e8>"
      ]
     },
     "execution_count": 131,
     "metadata": {},
     "output_type": "execute_result"
    },
    {
     "data": {
      "image/png": "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\n",
      "text/plain": [
       "<Figure size 432x288 with 1 Axes>"
      ]
     },
     "metadata": {
      "needs_background": "light"
     },
     "output_type": "display_data"
    }
   ],
   "source": [
    "# View barplot to see if the categories are statistically different and compare standard error of the mean.\n",
    "# Many countries bought discounted products in different quantities.\n",
    "sns.barplot(data=df_countries, x='Quantity', y='ShipCountry', ci=68,)"
   ]
  },
  {
   "cell_type": "code",
   "execution_count": 133,
   "metadata": {},
   "outputs": [
    {
     "data": {
      "text/plain": [
       "{'Full Price': 0       12\n",
       " 1       10\n",
       " 2        5\n",
       " 3        9\n",
       " 4       40\n",
       "         ..\n",
       " 2147     2\n",
       " 2148     2\n",
       " 2151     1\n",
       " 2153     4\n",
       " 2154     2\n",
       " Name: Quantity, Length: 1317, dtype: int64, 'Discounted': 6       35\n",
       " 7       15\n",
       " 8        6\n",
       " 9       15\n",
       " 11      40\n",
       "         ..\n",
       " 2144     2\n",
       " 2146     3\n",
       " 2149     2\n",
       " 2150     2\n",
       " 2152     2\n",
       " Name: Quantity, Length: 838, dtype: int64}"
      ]
     },
     "execution_count": 133,
     "metadata": {},
     "output_type": "execute_result"
    }
   ],
   "source": [
    "# Create 'grps' dictionary to seperate 'quantity' into 'Full Price' and 'Discounted' categories.\n",
    "\n",
    "grps = {}\n",
    "for grp_name in df_merge['groups'].unique():\n",
    "    grps[grp_name] = df_merge.groupby('groups').get_group(grp_name)['Quantity']\n",
    "grps"
   ]
  },
  {
   "cell_type": "markdown",
   "metadata": {},
   "source": [
    "### Check for outliers."
   ]
  },
  {
   "cell_type": "code",
   "execution_count": 134,
   "metadata": {},
   "outputs": [
    {
     "data": {
      "text/plain": [
       "[Text(0, 0.5, 'Density'), Text(0.5, 1.0, 'Total Ordered by Discount')]"
      ]
     },
     "execution_count": 134,
     "metadata": {},
     "output_type": "execute_result"
    },
    {
     "data": {
      "image/png": "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\n",
      "text/plain": [
       "<Figure size 432x288 with 1 Axes>"
      ]
     },
     "metadata": {
      "needs_background": "light"
     },
     "output_type": "display_data"
    }
   ],
   "source": [
    "# Show Distribution Plot of both groups to determine if normailty assumption is met.\n",
    "\n",
    "sns.distplot(grp_data,label=grp_name)\n",
    "      \n",
    "ax= plt.gca()\n",
    "ax.legend()\n",
    "ax.set(title='Total Ordered by Discount', ylabel='Density')"
   ]
  },
  {
   "cell_type": "code",
   "execution_count": 13,
   "metadata": {},
   "outputs": [],
   "source": [
    "orig_grps = grps.copy()"
   ]
  },
  {
   "cell_type": "code",
   "execution_count": 135,
   "metadata": {},
   "outputs": [
    {
     "name": "stdout",
     "output_type": "stream",
     "text": [
      "Found 15 outliers in Discounted using Z-scores\n",
      "Found 29 outliers in Discounted using IQR\n",
      "\n",
      "\n"
     ]
    }
   ],
   "source": [
    "# Identify how many outliers found in each group using Z-Scores and IQR.\n",
    "\n",
    "idx_outs =find_outliers_Z(grp_data)\n",
    "print(f\"Found {idx_outs.sum()} outliers in Discounted using Z-scores\")\n",
    "grps = grp_data [~idx_outs]\n",
    "idx_outs =find_outliers_IQR(grp_data)\n",
    "\n",
    "print(f\"Found {idx_outs.sum()} outliers in Discounted using IQR\")\n",
    "print('\\n')"
   ]
  },
  {
   "cell_type": "code",
   "execution_count": 136,
   "metadata": {},
   "outputs": [
    {
     "data": {
      "text/plain": [
       "6       35\n",
       "7       15\n",
       "8        6\n",
       "9       15\n",
       "11      40\n",
       "        ..\n",
       "2144     2\n",
       "2146     3\n",
       "2149     2\n",
       "2150     2\n",
       "2152     2\n",
       "Name: Quantity, Length: 809, dtype: int64"
      ]
     },
     "execution_count": 136,
     "metadata": {},
     "output_type": "execute_result"
    }
   ],
   "source": [
    "# Remove outliers.\n",
    "\n",
    "grp_data [~idx_outs]"
   ]
  },
  {
   "cell_type": "code",
   "execution_count": 137,
   "metadata": {},
   "outputs": [
    {
     "data": {
      "text/plain": [
       "[Text(0, 0.5, 'Density'),\n",
       " Text(0.5, 1.0, 'Total Quantity for Discounted Products')]"
      ]
     },
     "execution_count": 137,
     "metadata": {},
     "output_type": "execute_result"
    },
    {
     "data": {
      "image/png": "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\n",
      "text/plain": [
       "<Figure size 576x288 with 1 Axes>"
      ]
     },
     "metadata": {
      "needs_background": "light"
     },
     "output_type": "display_data"
    }
   ],
   "source": [
    "# Check for normality after removing outliers.\n",
    "\n",
    "fig,ax=plt.subplots(figsize=(8,4))\n",
    "sns.distplot(grps,label=grp_name, ax=ax)\n",
    "    \n",
    "    \n",
    "ax.legend()\n",
    "ax.set(title='Total Quantity for Discounted Products', ylabel='Density')"
   ]
  },
  {
   "cell_type": "markdown",
   "metadata": {},
   "source": [
    "### Confirm normality with scipy normal test."
   ]
  },
  {
   "cell_type": "code",
   "execution_count": 17,
   "metadata": {},
   "outputs": [],
   "source": [
    "import scipy.stats as stats"
   ]
  },
  {
   "cell_type": "code",
   "execution_count": 18,
   "metadata": {},
   "outputs": [
    {
     "name": "stdout",
     "output_type": "stream",
     "text": [
      "Group Full Price Normaltest p-value = 0.0\n",
      "\t-The data is is NOT normal.\n",
      "Group Discounted Normaltest p-value = 0.0\n",
      "\t-The data is is NOT normal.\n"
     ]
    }
   ],
   "source": [
    "for k,v in grps.items():\n",
    "    stat,p = stats.normaltest(v)\n",
    "    print(f\"Group {k} Normaltest p-value = {round(p,4)}\")\n",
    "    sig = 'is NOT' if p<.05 else 'IS'\n",
    "    print(f\"\\t-The data is {sig} normal.\")"
   ]
  },
  {
   "cell_type": "code",
   "execution_count": 19,
   "metadata": {},
   "outputs": [],
   "source": [
    "# Failed normality test; check sample sizes to see if large enough to bypass normality assumption.\n"
   ]
  },
  {
   "cell_type": "code",
   "execution_count": 20,
   "metadata": {},
   "outputs": [
    {
     "data": {
      "text/plain": [
       "(1297, 823)"
      ]
     },
     "execution_count": 20,
     "metadata": {},
     "output_type": "execute_result"
    }
   ],
   "source": [
    "# Each group is greater than 15; safe to ignore normality assumption.\n",
    "\n",
    "len(grps['Full Price']), len(grps['Discounted'])"
   ]
  },
  {
   "cell_type": "markdown",
   "metadata": {},
   "source": [
    "## Check for equal variance."
   ]
  },
  {
   "cell_type": "code",
   "execution_count": 21,
   "metadata": {},
   "outputs": [
    {
     "data": {
      "text/plain": [
       "0       12\n",
       "1       10\n",
       "2        5\n",
       "3        9\n",
       "4       40\n",
       "        ..\n",
       "2147     2\n",
       "2148     2\n",
       "2151     1\n",
       "2153     4\n",
       "2154     2\n",
       "Name: Quantity, Length: 1297, dtype: int64"
      ]
     },
     "execution_count": 21,
     "metadata": {},
     "output_type": "execute_result"
    }
   ],
   "source": [
    "# Prepare data for levene test to check for equal variance.\n",
    "\n",
    "data = []\n",
    "for k,v in grps.items():\n",
    "    data.append(v)\n",
    "data[0]"
   ]
  },
  {
   "cell_type": "code",
   "execution_count": 22,
   "metadata": {},
   "outputs": [
    {
     "data": {
      "text/plain": [
       "LeveneResult(statistic=19.187113832590878, pvalue=1.2429073348187694e-05)"
      ]
     },
     "execution_count": 22,
     "metadata": {},
     "output_type": "execute_result"
    }
   ],
   "source": [
    "stats.levene(data[0],data[1])"
   ]
  },
  {
   "cell_type": "code",
   "execution_count": 23,
   "metadata": {},
   "outputs": [
    {
     "name": "stdout",
     "output_type": "stream",
     "text": [
      "Levene' Test for Equal Variance p-value=0.0\n",
      "\t- The groups do NOT have equal variance.\n"
     ]
    }
   ],
   "source": [
    "# Does not pass Levene test.\n",
    "\n",
    "stat, p = stats.levene(*data)\n",
    "print(f\"Levene' Test for Equal Variance p-value={round(p,4)}\")\n",
    "sig = 'do NOT' if p<.05 else 'DO'\n",
    "\n",
    "print(f\"\\t- The groups {sig} have equal variance.\")"
   ]
  },
  {
   "cell_type": "code",
   "execution_count": 24,
   "metadata": {},
   "outputs": [
    {
     "name": "stdout",
     "output_type": "stream",
     "text": [
      "Welch's t-test p value=0.0\n"
     ]
    }
   ],
   "source": [
    "# Test using alternative Welch's T-Test for equal variance.\n",
    "# P value is less than 0.05; reject null hypothesis that the groups have identical average values.\n",
    "\n",
    "stat,p = stats.ttest_ind(grps['Full Price'], grps['Discounted'], equal_var=False)\n",
    "print(f\"Welch's t-test p value={round(p,4)}\")"
   ]
  },
  {
   "cell_type": "code",
   "execution_count": 24,
   "metadata": {},
   "outputs": [
    {
     "data": {
      "text/plain": [
       "-0.2862724481729282"
      ]
     },
     "execution_count": 24,
     "metadata": {},
     "output_type": "execute_result"
    }
   ],
   "source": [
    "# Check for effect size.\n",
    "# Effect size is small, indicating the difference in means is trivial.\n",
    "Cohen_d(grps['Full Price'],grps['Discounted'])"
   ]
  },
  {
   "cell_type": "code",
   "execution_count": 25,
   "metadata": {},
   "outputs": [
    {
     "data": {
      "text/html": [
       "<table class=\"simpletable\">\n",
       "<caption>Multiple Comparison of Means - Tukey HSD, FWER=0.05</caption>\n",
       "<tr>\n",
       "  <th>group1</th> <th>group2</th> <th>meandiff</th>  <th>p-adj</th>   <th>lower</th>   <th>upper</th>  <th>reject</th>\n",
       "</tr>\n",
       "<tr>\n",
       "    <td>0.0</td>   <td>0.01</td>  <td>-19.7153</td>   <td>0.9</td>  <td>-80.3306</td> <td>40.9001</td>  <td>False</td>\n",
       "</tr>\n",
       "<tr>\n",
       "    <td>0.0</td>   <td>0.02</td>  <td>-19.7153</td>   <td>0.9</td>   <td>-62.593</td> <td>23.1625</td>  <td>False</td>\n",
       "</tr>\n",
       "<tr>\n",
       "    <td>0.0</td>   <td>0.03</td>  <td>-20.0486</td>  <td>0.725</td> <td>-55.0714</td> <td>14.9742</td>  <td>False</td>\n",
       "</tr>\n",
       "<tr>\n",
       "    <td>0.0</td>   <td>0.04</td>  <td>-20.7153</td>   <td>0.9</td>  <td>-81.3306</td> <td>39.9001</td>  <td>False</td>\n",
       "</tr>\n",
       "<tr>\n",
       "    <td>0.0</td>   <td>0.05</td>   <td>6.2955</td>  <td>0.0011</td>  <td>1.5381</td>  <td>11.053</td>   <td>True</td> \n",
       "</tr>\n",
       "<tr>\n",
       "    <td>0.0</td>   <td>0.06</td>  <td>-19.7153</td>   <td>0.9</td>  <td>-80.3306</td> <td>40.9001</td>  <td>False</td>\n",
       "</tr>\n",
       "<tr>\n",
       "    <td>0.0</td>    <td>0.1</td>   <td>3.5217</td>  <td>0.4269</td>  <td>-1.3783</td> <td>8.4217</td>   <td>False</td>\n",
       "</tr>\n",
       "<tr>\n",
       "    <td>0.0</td>   <td>0.15</td>   <td>6.6669</td>  <td>0.0014</td>   <td>1.551</td>  <td>11.7828</td>  <td>True</td> \n",
       "</tr>\n",
       "<tr>\n",
       "    <td>0.0</td>    <td>0.2</td>   <td>5.3096</td>  <td>0.0303</td>  <td>0.2508</td>  <td>10.3684</td>  <td>True</td> \n",
       "</tr>\n",
       "<tr>\n",
       "    <td>0.0</td>   <td>0.25</td>    <td>6.525</td>  <td>0.0023</td>  <td>1.3647</td>  <td>11.6852</td>  <td>True</td> \n",
       "</tr>\n",
       "<tr>\n",
       "   <td>0.01</td>   <td>0.02</td>     <td>0.0</td>     <td>0.9</td>  <td>-74.2101</td> <td>74.2101</td>  <td>False</td>\n",
       "</tr>\n",
       "<tr>\n",
       "   <td>0.01</td>   <td>0.03</td>   <td>-0.3333</td>   <td>0.9</td>  <td>-70.2993</td> <td>69.6326</td>  <td>False</td>\n",
       "</tr>\n",
       "<tr>\n",
       "   <td>0.01</td>   <td>0.04</td>    <td>-1.0</td>     <td>0.9</td>  <td>-86.6905</td> <td>84.6905</td>  <td>False</td>\n",
       "</tr>\n",
       "<tr>\n",
       "   <td>0.01</td>   <td>0.05</td>   <td>26.0108</td>   <td>0.9</td>   <td>-34.745</td> <td>86.7667</td>  <td>False</td>\n",
       "</tr>\n",
       "<tr>\n",
       "   <td>0.01</td>   <td>0.06</td>     <td>0.0</td>     <td>0.9</td>  <td>-85.6905</td> <td>85.6905</td>  <td>False</td>\n",
       "</tr>\n",
       "<tr>\n",
       "   <td>0.01</td>    <td>0.1</td>   <td>23.237</td>    <td>0.9</td>  <td>-37.5302</td> <td>84.0042</td>  <td>False</td>\n",
       "</tr>\n",
       "<tr>\n",
       "   <td>0.01</td>   <td>0.15</td>   <td>26.3822</td>   <td>0.9</td>  <td>-34.4028</td> <td>87.1671</td>  <td>False</td>\n",
       "</tr>\n",
       "<tr>\n",
       "   <td>0.01</td>    <td>0.2</td>   <td>25.0248</td>   <td>0.9</td>  <td>-35.7554</td> <td>85.805</td>   <td>False</td>\n",
       "</tr>\n",
       "<tr>\n",
       "   <td>0.01</td>   <td>0.25</td>   <td>26.2403</td>   <td>0.9</td>  <td>-34.5485</td> <td>87.029</td>   <td>False</td>\n",
       "</tr>\n",
       "<tr>\n",
       "   <td>0.02</td>   <td>0.03</td>   <td>-0.3333</td>   <td>0.9</td>  <td>-55.6463</td> <td>54.9796</td>  <td>False</td>\n",
       "</tr>\n",
       "<tr>\n",
       "   <td>0.02</td>   <td>0.04</td>    <td>-1.0</td>     <td>0.9</td>  <td>-75.2101</td> <td>73.2101</td>  <td>False</td>\n",
       "</tr>\n",
       "<tr>\n",
       "   <td>0.02</td>   <td>0.05</td>   <td>26.0108</td> <td>0.6622</td> <td>-17.0654</td> <td>69.087</td>   <td>False</td>\n",
       "</tr>\n",
       "<tr>\n",
       "   <td>0.02</td>   <td>0.06</td>     <td>0.0</td>     <td>0.9</td>  <td>-74.2101</td> <td>74.2101</td>  <td>False</td>\n",
       "</tr>\n",
       "<tr>\n",
       "   <td>0.02</td>    <td>0.1</td>   <td>23.237</td>  <td>0.7914</td> <td>-19.8552</td> <td>66.3292</td>  <td>False</td>\n",
       "</tr>\n",
       "<tr>\n",
       "   <td>0.02</td>   <td>0.15</td>   <td>26.3822</td> <td>0.6461</td> <td>-16.7351</td> <td>69.4994</td>  <td>False</td>\n",
       "</tr>\n",
       "<tr>\n",
       "   <td>0.02</td>    <td>0.2</td>   <td>25.0248</td> <td>0.7089</td> <td>-18.0857</td> <td>68.1354</td>  <td>False</td>\n",
       "</tr>\n",
       "<tr>\n",
       "   <td>0.02</td>   <td>0.25</td>   <td>26.2403</td> <td>0.6528</td> <td>-16.8823</td> <td>69.3628</td>  <td>False</td>\n",
       "</tr>\n",
       "<tr>\n",
       "   <td>0.03</td>   <td>0.04</td>   <td>-0.6667</td>   <td>0.9</td>  <td>-70.6326</td> <td>69.2993</td>  <td>False</td>\n",
       "</tr>\n",
       "<tr>\n",
       "   <td>0.03</td>   <td>0.05</td>   <td>26.3441</td> <td>0.3639</td>  <td>-8.9214</td> <td>61.6096</td>  <td>False</td>\n",
       "</tr>\n",
       "<tr>\n",
       "   <td>0.03</td>   <td>0.06</td>   <td>0.3333</td>    <td>0.9</td>  <td>-69.6326</td> <td>70.2993</td>  <td>False</td>\n",
       "</tr>\n",
       "<tr>\n",
       "   <td>0.03</td>    <td>0.1</td>   <td>23.5703</td> <td>0.5338</td> <td>-11.7147</td> <td>58.8553</td>  <td>False</td>\n",
       "</tr>\n",
       "<tr>\n",
       "   <td>0.03</td>   <td>0.15</td>   <td>26.7155</td> <td>0.3436</td>  <td>-8.6001</td> <td>62.0311</td>  <td>False</td>\n",
       "</tr>\n",
       "<tr>\n",
       "   <td>0.03</td>    <td>0.2</td>   <td>25.3582</td>  <td>0.428</td>  <td>-9.9492</td> <td>60.6656</td>  <td>False</td>\n",
       "</tr>\n",
       "<tr>\n",
       "   <td>0.03</td>   <td>0.25</td>   <td>26.5736</td> <td>0.3525</td>  <td>-8.7485</td> <td>61.8957</td>  <td>False</td>\n",
       "</tr>\n",
       "<tr>\n",
       "   <td>0.04</td>   <td>0.05</td>   <td>27.0108</td>   <td>0.9</td>   <td>-33.745</td> <td>87.7667</td>  <td>False</td>\n",
       "</tr>\n",
       "<tr>\n",
       "   <td>0.04</td>   <td>0.06</td>     <td>1.0</td>     <td>0.9</td>  <td>-84.6905</td> <td>86.6905</td>  <td>False</td>\n",
       "</tr>\n",
       "<tr>\n",
       "   <td>0.04</td>    <td>0.1</td>   <td>24.237</td>    <td>0.9</td>  <td>-36.5302</td> <td>85.0042</td>  <td>False</td>\n",
       "</tr>\n",
       "<tr>\n",
       "   <td>0.04</td>   <td>0.15</td>   <td>27.3822</td>   <td>0.9</td>  <td>-33.4028</td> <td>88.1671</td>  <td>False</td>\n",
       "</tr>\n",
       "<tr>\n",
       "   <td>0.04</td>    <td>0.2</td>   <td>26.0248</td>   <td>0.9</td>  <td>-34.7554</td> <td>86.805</td>   <td>False</td>\n",
       "</tr>\n",
       "<tr>\n",
       "   <td>0.04</td>   <td>0.25</td>   <td>27.2403</td>   <td>0.9</td>  <td>-33.5485</td> <td>88.029</td>   <td>False</td>\n",
       "</tr>\n",
       "<tr>\n",
       "   <td>0.05</td>   <td>0.06</td>  <td>-26.0108</td>   <td>0.9</td>  <td>-86.7667</td> <td>34.745</td>   <td>False</td>\n",
       "</tr>\n",
       "<tr>\n",
       "   <td>0.05</td>    <td>0.1</td>   <td>-2.7738</td>   <td>0.9</td>   <td>-9.1822</td> <td>3.6346</td>   <td>False</td>\n",
       "</tr>\n",
       "<tr>\n",
       "   <td>0.05</td>   <td>0.15</td>   <td>0.3714</td>    <td>0.9</td>   <td>-6.2036</td> <td>6.9463</td>   <td>False</td>\n",
       "</tr>\n",
       "<tr>\n",
       "   <td>0.05</td>    <td>0.2</td>   <td>-0.986</td>    <td>0.9</td>   <td>-7.5166</td> <td>5.5447</td>   <td>False</td>\n",
       "</tr>\n",
       "<tr>\n",
       "   <td>0.05</td>   <td>0.25</td>   <td>0.2294</td>    <td>0.9</td>   <td>-6.3801</td>  <td>6.839</td>   <td>False</td>\n",
       "</tr>\n",
       "<tr>\n",
       "   <td>0.06</td>    <td>0.1</td>   <td>23.237</td>    <td>0.9</td>  <td>-37.5302</td> <td>84.0042</td>  <td>False</td>\n",
       "</tr>\n",
       "<tr>\n",
       "   <td>0.06</td>   <td>0.15</td>   <td>26.3822</td>   <td>0.9</td>  <td>-34.4028</td> <td>87.1671</td>  <td>False</td>\n",
       "</tr>\n",
       "<tr>\n",
       "   <td>0.06</td>    <td>0.2</td>   <td>25.0248</td>   <td>0.9</td>  <td>-35.7554</td> <td>85.805</td>   <td>False</td>\n",
       "</tr>\n",
       "<tr>\n",
       "   <td>0.06</td>   <td>0.25</td>   <td>26.2403</td>   <td>0.9</td>  <td>-34.5485</td> <td>87.029</td>   <td>False</td>\n",
       "</tr>\n",
       "<tr>\n",
       "    <td>0.1</td>   <td>0.15</td>   <td>3.1452</td>    <td>0.9</td>   <td>-3.5337</td>  <td>9.824</td>   <td>False</td>\n",
       "</tr>\n",
       "<tr>\n",
       "    <td>0.1</td>    <td>0.2</td>   <td>1.7879</td>    <td>0.9</td>   <td>-4.8474</td> <td>8.4231</td>   <td>False</td>\n",
       "</tr>\n",
       "<tr>\n",
       "    <td>0.1</td>   <td>0.25</td>   <td>3.0033</td>    <td>0.9</td>   <td>-3.7096</td> <td>9.7161</td>   <td>False</td>\n",
       "</tr>\n",
       "<tr>\n",
       "   <td>0.15</td>    <td>0.2</td>   <td>-1.3573</td>   <td>0.9</td>   <td>-8.1536</td> <td>5.4389</td>   <td>False</td>\n",
       "</tr>\n",
       "<tr>\n",
       "   <td>0.15</td>   <td>0.25</td>   <td>-0.1419</td>   <td>0.9</td>   <td>-7.014</td>  <td>6.7302</td>   <td>False</td>\n",
       "</tr>\n",
       "<tr>\n",
       "    <td>0.2</td>   <td>0.25</td>   <td>1.2154</td>    <td>0.9</td>   <td>-5.6143</td> <td>8.0451</td>   <td>False</td>\n",
       "</tr>\n",
       "</table>"
      ],
      "text/plain": [
       "<class 'statsmodels.iolib.table.SimpleTable'>"
      ]
     },
     "execution_count": 25,
     "metadata": {},
     "output_type": "execute_result"
    }
   ],
   "source": [
    "from statsmodels.stats.multicomp import pairwise_tukeyhsd\n",
    "model = pairwise_tukeyhsd(df_order['Quantity'],df_order['Discount'])\n",
    "model.summary()"
   ]
  },
  {
   "cell_type": "code",
   "execution_count": 26,
   "metadata": {},
   "outputs": [
    {
     "data": {
      "text/plain": [
       "<matplotlib.axes._subplots.AxesSubplot at 0x1a1e269438>"
      ]
     },
     "execution_count": 26,
     "metadata": {},
     "output_type": "execute_result"
    },
    {
     "data": {
      "image/png": "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\n",
      "text/plain": [
       "<Figure size 432x288 with 1 Axes>"
      ]
     },
     "metadata": {
      "needs_background": "light"
     },
     "output_type": "display_data"
    }
   ],
   "source": [
    "sns.barplot(data=df_order,x='Discount',y='Quantity',ci=68)"
   ]
  },
  {
   "cell_type": "markdown",
   "metadata": {},
   "source": [
    "# HYPOTHESIS 3"
   ]
  },
  {
   "cell_type": "markdown",
   "metadata": {},
   "source": [
    "> ***Does discount amount have a statistically significant effect on the quantity of a product in an order? If so, at what level(s) of discount?***"
   ]
  },
  {
   "cell_type": "markdown",
   "metadata": {},
   "source": [
    "- $H_0$: A discount does not effect the quantity of a product in an order.\n",
    "- $H_1$: A discount does effect the quantity of a product in an order."
   ]
  },
  {
   "cell_type": "code",
   "execution_count": 6,
   "metadata": {},
   "outputs": [],
   "source": [
    "# Select all from Order Detail table\n",
    "\n",
    "# cur.execute(\"\"\"SELECT * FROM OrderDetail \"\"\")\n",
    "# names = [description[0] for description in cur.description]\n",
    "# df_disc = pd.DataFrame(cur.fetchall(), columns = names)\n",
    "# df_disc"
   ]
  },
  {
   "cell_type": "code",
   "execution_count": 7,
   "metadata": {},
   "outputs": [
    {
     "data": {
      "text/html": [
       "<div>\n",
       "<style scoped>\n",
       "    .dataframe tbody tr th:only-of-type {\n",
       "        vertical-align: middle;\n",
       "    }\n",
       "\n",
       "    .dataframe tbody tr th {\n",
       "        vertical-align: top;\n",
       "    }\n",
       "\n",
       "    .dataframe thead th {\n",
       "        text-align: right;\n",
       "    }\n",
       "</style>\n",
       "<table border=\"1\" class=\"dataframe\">\n",
       "  <thead>\n",
       "    <tr style=\"text-align: right;\">\n",
       "      <th></th>\n",
       "      <th>Id</th>\n",
       "      <th>OrderId</th>\n",
       "      <th>ProductId</th>\n",
       "      <th>UnitPrice</th>\n",
       "      <th>Quantity</th>\n",
       "      <th>Discount</th>\n",
       "    </tr>\n",
       "  </thead>\n",
       "  <tbody>\n",
       "    <tr>\n",
       "      <td>0</td>\n",
       "      <td>10248/11</td>\n",
       "      <td>10248</td>\n",
       "      <td>11</td>\n",
       "      <td>14.00</td>\n",
       "      <td>12</td>\n",
       "      <td>0.00</td>\n",
       "    </tr>\n",
       "    <tr>\n",
       "      <td>1</td>\n",
       "      <td>10248/42</td>\n",
       "      <td>10248</td>\n",
       "      <td>42</td>\n",
       "      <td>9.80</td>\n",
       "      <td>10</td>\n",
       "      <td>0.00</td>\n",
       "    </tr>\n",
       "    <tr>\n",
       "      <td>2</td>\n",
       "      <td>10248/72</td>\n",
       "      <td>10248</td>\n",
       "      <td>72</td>\n",
       "      <td>34.80</td>\n",
       "      <td>5</td>\n",
       "      <td>0.00</td>\n",
       "    </tr>\n",
       "    <tr>\n",
       "      <td>3</td>\n",
       "      <td>10249/14</td>\n",
       "      <td>10249</td>\n",
       "      <td>14</td>\n",
       "      <td>18.60</td>\n",
       "      <td>9</td>\n",
       "      <td>0.00</td>\n",
       "    </tr>\n",
       "    <tr>\n",
       "      <td>4</td>\n",
       "      <td>10249/51</td>\n",
       "      <td>10249</td>\n",
       "      <td>51</td>\n",
       "      <td>42.40</td>\n",
       "      <td>40</td>\n",
       "      <td>0.00</td>\n",
       "    </tr>\n",
       "    <tr>\n",
       "      <td>...</td>\n",
       "      <td>...</td>\n",
       "      <td>...</td>\n",
       "      <td>...</td>\n",
       "      <td>...</td>\n",
       "      <td>...</td>\n",
       "      <td>...</td>\n",
       "    </tr>\n",
       "    <tr>\n",
       "      <td>2150</td>\n",
       "      <td>11077/64</td>\n",
       "      <td>11077</td>\n",
       "      <td>64</td>\n",
       "      <td>33.25</td>\n",
       "      <td>2</td>\n",
       "      <td>0.03</td>\n",
       "    </tr>\n",
       "    <tr>\n",
       "      <td>2151</td>\n",
       "      <td>11077/66</td>\n",
       "      <td>11077</td>\n",
       "      <td>66</td>\n",
       "      <td>17.00</td>\n",
       "      <td>1</td>\n",
       "      <td>0.00</td>\n",
       "    </tr>\n",
       "    <tr>\n",
       "      <td>2152</td>\n",
       "      <td>11077/73</td>\n",
       "      <td>11077</td>\n",
       "      <td>73</td>\n",
       "      <td>15.00</td>\n",
       "      <td>2</td>\n",
       "      <td>0.01</td>\n",
       "    </tr>\n",
       "    <tr>\n",
       "      <td>2153</td>\n",
       "      <td>11077/75</td>\n",
       "      <td>11077</td>\n",
       "      <td>75</td>\n",
       "      <td>7.75</td>\n",
       "      <td>4</td>\n",
       "      <td>0.00</td>\n",
       "    </tr>\n",
       "    <tr>\n",
       "      <td>2154</td>\n",
       "      <td>11077/77</td>\n",
       "      <td>11077</td>\n",
       "      <td>77</td>\n",
       "      <td>13.00</td>\n",
       "      <td>2</td>\n",
       "      <td>0.00</td>\n",
       "    </tr>\n",
       "  </tbody>\n",
       "</table>\n",
       "<p>2155 rows × 6 columns</p>\n",
       "</div>"
      ],
      "text/plain": [
       "            Id  OrderId  ProductId  UnitPrice  Quantity  Discount\n",
       "0     10248/11    10248         11      14.00        12      0.00\n",
       "1     10248/42    10248         42       9.80        10      0.00\n",
       "2     10248/72    10248         72      34.80         5      0.00\n",
       "3     10249/14    10249         14      18.60         9      0.00\n",
       "4     10249/51    10249         51      42.40        40      0.00\n",
       "...        ...      ...        ...        ...       ...       ...\n",
       "2150  11077/64    11077         64      33.25         2      0.03\n",
       "2151  11077/66    11077         66      17.00         1      0.00\n",
       "2152  11077/73    11077         73      15.00         2      0.01\n",
       "2153  11077/75    11077         75       7.75         4      0.00\n",
       "2154  11077/77    11077         77      13.00         2      0.00\n",
       "\n",
       "[2155 rows x 6 columns]"
      ]
     },
     "execution_count": 7,
     "metadata": {},
     "output_type": "execute_result"
    }
   ],
   "source": [
    "cur.execute(\"\"\"SELECT * FROM OrderDetail \"\"\")\n",
    "names = [description[0] for description in cur.description]\n",
    "df_order = pd.DataFrame(cur.fetchall(), columns = names)\n",
    "df_order"
   ]
  },
  {
   "cell_type": "markdown",
   "metadata": {},
   "source": [
    "## Determine if data is numerical or categorical"
   ]
  },
  {
   "cell_type": "code",
   "execution_count": 8,
   "metadata": {
    "scrolled": true
   },
   "outputs": [
    {
     "data": {
      "text/plain": [
       "0.00    1317\n",
       "0.05     185\n",
       "0.10     173\n",
       "0.20     161\n",
       "0.15     157\n",
       "0.25     154\n",
       "0.03       3\n",
       "0.02       2\n",
       "0.01       1\n",
       "0.04       1\n",
       "0.06       1\n",
       "Name: Discount, dtype: int64"
      ]
     },
     "execution_count": 8,
     "metadata": {},
     "output_type": "execute_result"
    }
   ],
   "source": [
    "# Data is numerical.\n",
    "# Find quantity of discounted orders by discount amount.\n",
    "\n",
    "df_order['Discount'].value_counts()"
   ]
  },
  {
   "cell_type": "markdown",
   "metadata": {},
   "source": [
    "## Determine how many groups to compare to establish which test to use."
   ]
  },
  {
   "cell_type": "markdown",
   "metadata": {},
   "source": [
    "### Two groups are being compared; use the 2 Sample T-Test."
   ]
  },
  {
   "cell_type": "code",
   "execution_count": 9,
   "metadata": {},
   "outputs": [
    {
     "data": {
      "text/html": [
       "<div>\n",
       "<style scoped>\n",
       "    .dataframe tbody tr th:only-of-type {\n",
       "        vertical-align: middle;\n",
       "    }\n",
       "\n",
       "    .dataframe tbody tr th {\n",
       "        vertical-align: top;\n",
       "    }\n",
       "\n",
       "    .dataframe thead th {\n",
       "        text-align: right;\n",
       "    }\n",
       "</style>\n",
       "<table border=\"1\" class=\"dataframe\">\n",
       "  <thead>\n",
       "    <tr style=\"text-align: right;\">\n",
       "      <th></th>\n",
       "      <th>Id</th>\n",
       "      <th>OrderId</th>\n",
       "      <th>ProductId</th>\n",
       "      <th>UnitPrice</th>\n",
       "      <th>Quantity</th>\n",
       "      <th>Discount</th>\n",
       "      <th>groups</th>\n",
       "      <th>group_num</th>\n",
       "    </tr>\n",
       "  </thead>\n",
       "  <tbody>\n",
       "    <tr>\n",
       "      <td>0</td>\n",
       "      <td>10248/11</td>\n",
       "      <td>10248</td>\n",
       "      <td>11</td>\n",
       "      <td>14.00</td>\n",
       "      <td>12</td>\n",
       "      <td>0.00</td>\n",
       "      <td>Full Price</td>\n",
       "      <td>0</td>\n",
       "    </tr>\n",
       "    <tr>\n",
       "      <td>1</td>\n",
       "      <td>10248/42</td>\n",
       "      <td>10248</td>\n",
       "      <td>42</td>\n",
       "      <td>9.80</td>\n",
       "      <td>10</td>\n",
       "      <td>0.00</td>\n",
       "      <td>Full Price</td>\n",
       "      <td>0</td>\n",
       "    </tr>\n",
       "    <tr>\n",
       "      <td>2</td>\n",
       "      <td>10248/72</td>\n",
       "      <td>10248</td>\n",
       "      <td>72</td>\n",
       "      <td>34.80</td>\n",
       "      <td>5</td>\n",
       "      <td>0.00</td>\n",
       "      <td>Full Price</td>\n",
       "      <td>0</td>\n",
       "    </tr>\n",
       "    <tr>\n",
       "      <td>3</td>\n",
       "      <td>10249/14</td>\n",
       "      <td>10249</td>\n",
       "      <td>14</td>\n",
       "      <td>18.60</td>\n",
       "      <td>9</td>\n",
       "      <td>0.00</td>\n",
       "      <td>Full Price</td>\n",
       "      <td>0</td>\n",
       "    </tr>\n",
       "    <tr>\n",
       "      <td>4</td>\n",
       "      <td>10249/51</td>\n",
       "      <td>10249</td>\n",
       "      <td>51</td>\n",
       "      <td>42.40</td>\n",
       "      <td>40</td>\n",
       "      <td>0.00</td>\n",
       "      <td>Full Price</td>\n",
       "      <td>0</td>\n",
       "    </tr>\n",
       "    <tr>\n",
       "      <td>...</td>\n",
       "      <td>...</td>\n",
       "      <td>...</td>\n",
       "      <td>...</td>\n",
       "      <td>...</td>\n",
       "      <td>...</td>\n",
       "      <td>...</td>\n",
       "      <td>...</td>\n",
       "      <td>...</td>\n",
       "    </tr>\n",
       "    <tr>\n",
       "      <td>2150</td>\n",
       "      <td>11077/64</td>\n",
       "      <td>11077</td>\n",
       "      <td>64</td>\n",
       "      <td>33.25</td>\n",
       "      <td>2</td>\n",
       "      <td>0.03</td>\n",
       "      <td>Discounted</td>\n",
       "      <td>1</td>\n",
       "    </tr>\n",
       "    <tr>\n",
       "      <td>2151</td>\n",
       "      <td>11077/66</td>\n",
       "      <td>11077</td>\n",
       "      <td>66</td>\n",
       "      <td>17.00</td>\n",
       "      <td>1</td>\n",
       "      <td>0.00</td>\n",
       "      <td>Full Price</td>\n",
       "      <td>0</td>\n",
       "    </tr>\n",
       "    <tr>\n",
       "      <td>2152</td>\n",
       "      <td>11077/73</td>\n",
       "      <td>11077</td>\n",
       "      <td>73</td>\n",
       "      <td>15.00</td>\n",
       "      <td>2</td>\n",
       "      <td>0.01</td>\n",
       "      <td>Discounted</td>\n",
       "      <td>1</td>\n",
       "    </tr>\n",
       "    <tr>\n",
       "      <td>2153</td>\n",
       "      <td>11077/75</td>\n",
       "      <td>11077</td>\n",
       "      <td>75</td>\n",
       "      <td>7.75</td>\n",
       "      <td>4</td>\n",
       "      <td>0.00</td>\n",
       "      <td>Full Price</td>\n",
       "      <td>0</td>\n",
       "    </tr>\n",
       "    <tr>\n",
       "      <td>2154</td>\n",
       "      <td>11077/77</td>\n",
       "      <td>11077</td>\n",
       "      <td>77</td>\n",
       "      <td>13.00</td>\n",
       "      <td>2</td>\n",
       "      <td>0.00</td>\n",
       "      <td>Full Price</td>\n",
       "      <td>0</td>\n",
       "    </tr>\n",
       "  </tbody>\n",
       "</table>\n",
       "<p>2155 rows × 8 columns</p>\n",
       "</div>"
      ],
      "text/plain": [
       "            Id  OrderId  ProductId  UnitPrice  Quantity  Discount      groups  \\\n",
       "0     10248/11    10248         11      14.00        12      0.00  Full Price   \n",
       "1     10248/42    10248         42       9.80        10      0.00  Full Price   \n",
       "2     10248/72    10248         72      34.80         5      0.00  Full Price   \n",
       "3     10249/14    10249         14      18.60         9      0.00  Full Price   \n",
       "4     10249/51    10249         51      42.40        40      0.00  Full Price   \n",
       "...        ...      ...        ...        ...       ...       ...         ...   \n",
       "2150  11077/64    11077         64      33.25         2      0.03  Discounted   \n",
       "2151  11077/66    11077         66      17.00         1      0.00  Full Price   \n",
       "2152  11077/73    11077         73      15.00         2      0.01  Discounted   \n",
       "2153  11077/75    11077         75       7.75         4      0.00  Full Price   \n",
       "2154  11077/77    11077         77      13.00         2      0.00  Full Price   \n",
       "\n",
       "      group_num  \n",
       "0             0  \n",
       "1             0  \n",
       "2             0  \n",
       "3             0  \n",
       "4             0  \n",
       "...         ...  \n",
       "2150          1  \n",
       "2151          0  \n",
       "2152          1  \n",
       "2153          0  \n",
       "2154          0  \n",
       "\n",
       "[2155 rows x 8 columns]"
      ]
     },
     "execution_count": 9,
     "metadata": {},
     "output_type": "execute_result"
    }
   ],
   "source": [
    "# Assign 'Discounted' and 'Full Price' to 'groups' column.\n",
    "# Assign '0' to 'Full Price' and '1' to 'Discounted' in the 'group_num' column.\n",
    "\n",
    "df_order['groups'] = df_order['Discount'] >0 \n",
    "df_order['groups'] = df_order['groups'].map({True:'Discounted', False:'Full Price'})\n",
    "df_order['group_num'] = df_order['groups'].map({'Discounted':1,\"Full Price\": 0})\n",
    "\n",
    "df_order"
   ]
  },
  {
   "cell_type": "markdown",
   "metadata": {},
   "source": [
    "### Check data to see if it meets test assumptions."
   ]
  },
  {
   "cell_type": "code",
   "execution_count": 10,
   "metadata": {},
   "outputs": [
    {
     "data": {
      "text/plain": [
       "<matplotlib.axes._subplots.AxesSubplot at 0x1a213adcc0>"
      ]
     },
     "execution_count": 10,
     "metadata": {},
     "output_type": "execute_result"
    },
    {
     "data": {
      "image/png": "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\n",
      "text/plain": [
       "<Figure size 432x288 with 1 Axes>"
      ]
     },
     "metadata": {
      "needs_background": "light"
     },
     "output_type": "display_data"
    }
   ],
   "source": [
    "# View barplot to see if the categories are statistically different and compare standard error of the mean.\n",
    "# Discounted products sold in larger quantities.\n",
    "\n",
    "sns.barplot(data=df_order, x='groups', y='Quantity', ci=68 )"
   ]
  },
  {
   "cell_type": "code",
   "execution_count": 11,
   "metadata": {},
   "outputs": [
    {
     "data": {
      "text/plain": [
       "{'Full Price': 0       12\n",
       " 1       10\n",
       " 2        5\n",
       " 3        9\n",
       " 4       40\n",
       "         ..\n",
       " 2147     2\n",
       " 2148     2\n",
       " 2151     1\n",
       " 2153     4\n",
       " 2154     2\n",
       " Name: Quantity, Length: 1317, dtype: int64, 'Discounted': 6       35\n",
       " 7       15\n",
       " 8        6\n",
       " 9       15\n",
       " 11      40\n",
       "         ..\n",
       " 2144     2\n",
       " 2146     3\n",
       " 2149     2\n",
       " 2150     2\n",
       " 2152     2\n",
       " Name: Quantity, Length: 838, dtype: int64}"
      ]
     },
     "execution_count": 11,
     "metadata": {},
     "output_type": "execute_result"
    }
   ],
   "source": [
    "# Create 'grps' dictionary to seperate 'quantity' into 'Full Price' and 'Discounted' categories.\n",
    "\n",
    "grps = {}\n",
    "for grp_name in df_order['groups'].unique():\n",
    "    grps[grp_name] = df_order.groupby('groups').get_group(grp_name)['Quantity']\n",
    "grps"
   ]
  },
  {
   "cell_type": "markdown",
   "metadata": {},
   "source": [
    "### Check for outliers."
   ]
  },
  {
   "cell_type": "code",
   "execution_count": 12,
   "metadata": {},
   "outputs": [
    {
     "data": {
      "text/plain": [
       "[Text(0, 0.5, 'Density'),\n",
       " Text(0.5, 1.0, 'Total Ordered by Discounted and Full Price Group')]"
      ]
     },
     "execution_count": 12,
     "metadata": {},
     "output_type": "execute_result"
    },
    {
     "data": {
      "image/png": "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\n",
      "text/plain": [
       "<Figure size 432x288 with 1 Axes>"
      ]
     },
     "metadata": {
      "needs_background": "light"
     },
     "output_type": "display_data"
    }
   ],
   "source": [
    "# Show Distribution Plot of both groups to determine if normailty assumption is met.\n",
    "\n",
    "for grp_name,grp_data in grps.items():\n",
    "    sns.distplot(grp_data,label=grp_name)\n",
    "    \n",
    "    \n",
    "ax= plt.gca()\n",
    "ax.legend()\n",
    "ax.set(title='Total Ordered by Discounted and Full Price Group', ylabel='Density')"
   ]
  },
  {
   "cell_type": "code",
   "execution_count": 13,
   "metadata": {},
   "outputs": [],
   "source": [
    "orig_grps = grps.copy()"
   ]
  },
  {
   "cell_type": "code",
   "execution_count": 14,
   "metadata": {},
   "outputs": [
    {
     "name": "stdout",
     "output_type": "stream",
     "text": [
      "Found 20 outliers in Full Price using Z-scores\n",
      "Found 34 outliers in Full Price using IQR\n",
      "\n",
      "\n",
      "Found 15 outliers in Discounted using Z-scores\n",
      "Found 29 outliers in Discounted using IQR\n",
      "\n",
      "\n"
     ]
    }
   ],
   "source": [
    "# Identify how many outliers found in each group using Z-Scores and IQR.\n",
    "\n",
    "for grp_name, grp_data in grps.items():\n",
    "    idx_outs =find_outliers_Z(grp_data)\n",
    "    print(f\"Found {idx_outs.sum()} outliers in {grp_name} using Z-scores\")\n",
    "    grps[grp_name] = grp_data [~idx_outs]\n",
    "    idx_outs =find_outliers_IQR(grp_data)\n",
    "\n",
    "    print(f\"Found {idx_outs.sum()} outliers in {grp_name} using IQR\")\n",
    "    print('\\n')"
   ]
  },
  {
   "cell_type": "code",
   "execution_count": 15,
   "metadata": {},
   "outputs": [
    {
     "data": {
      "text/plain": [
       "6       35\n",
       "7       15\n",
       "8        6\n",
       "9       15\n",
       "11      40\n",
       "        ..\n",
       "2144     2\n",
       "2146     3\n",
       "2149     2\n",
       "2150     2\n",
       "2152     2\n",
       "Name: Quantity, Length: 809, dtype: int64"
      ]
     },
     "execution_count": 15,
     "metadata": {},
     "output_type": "execute_result"
    }
   ],
   "source": [
    "# Remove outliers.\n",
    "\n",
    "grp_data [~idx_outs]"
   ]
  },
  {
   "cell_type": "code",
   "execution_count": 16,
   "metadata": {},
   "outputs": [
    {
     "data": {
      "text/plain": [
       "[Text(0, 0.5, 'Density'),\n",
       " Text(0.5, 1.0, 'Total Quantity for Full Price vs Discounted Products')]"
      ]
     },
     "execution_count": 16,
     "metadata": {},
     "output_type": "execute_result"
    },
    {
     "data": {
      "image/png": "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\n",
      "text/plain": [
       "<Figure size 576x288 with 1 Axes>"
      ]
     },
     "metadata": {
      "needs_background": "light"
     },
     "output_type": "display_data"
    }
   ],
   "source": [
    "# Check for normality after removing outliers.\n",
    "\n",
    "fig,ax=plt.subplots(figsize=(8,4))\n",
    "for grp_name,grp_data in grps.items():\n",
    "    sns.distplot(grp_data,label=grp_name, ax=ax)\n",
    "    \n",
    "    \n",
    "ax.legend()\n",
    "ax.set(title='Total Quantity for Full Price vs Discounted Products', ylabel='Density')"
   ]
  },
  {
   "cell_type": "markdown",
   "metadata": {},
   "source": [
    "### Confirm normality with scipy normal test."
   ]
  },
  {
   "cell_type": "code",
   "execution_count": 17,
   "metadata": {},
   "outputs": [],
   "source": [
    "import scipy.stats as stats"
   ]
  },
  {
   "cell_type": "code",
   "execution_count": 18,
   "metadata": {},
   "outputs": [
    {
     "name": "stdout",
     "output_type": "stream",
     "text": [
      "Group Full Price Normaltest p-value = 0.0\n",
      "\t-The data is is NOT normal.\n",
      "Group Discounted Normaltest p-value = 0.0\n",
      "\t-The data is is NOT normal.\n"
     ]
    }
   ],
   "source": [
    "for k,v in grps.items():\n",
    "    stat,p = stats.normaltest(v)\n",
    "    print(f\"Group {k} Normaltest p-value = {round(p,4)}\")\n",
    "    sig = 'is NOT' if p<.05 else 'IS'\n",
    "    print(f\"\\t-The data is {sig} normal.\")"
   ]
  },
  {
   "cell_type": "code",
   "execution_count": 19,
   "metadata": {},
   "outputs": [],
   "source": [
    "# Failed normality test; check sample sizes to see if large enough to bypass normality assumption.\n"
   ]
  },
  {
   "cell_type": "code",
   "execution_count": 20,
   "metadata": {},
   "outputs": [
    {
     "data": {
      "text/plain": [
       "(1297, 823)"
      ]
     },
     "execution_count": 20,
     "metadata": {},
     "output_type": "execute_result"
    }
   ],
   "source": [
    "# Each group is greater than 15; safe to ignore normality assumption.\n",
    "\n",
    "len(grps['Full Price']), len(grps['Discounted'])"
   ]
  },
  {
   "cell_type": "markdown",
   "metadata": {},
   "source": [
    "## Check for equal variance."
   ]
  },
  {
   "cell_type": "code",
   "execution_count": 21,
   "metadata": {},
   "outputs": [
    {
     "data": {
      "text/plain": [
       "0       12\n",
       "1       10\n",
       "2        5\n",
       "3        9\n",
       "4       40\n",
       "        ..\n",
       "2147     2\n",
       "2148     2\n",
       "2151     1\n",
       "2153     4\n",
       "2154     2\n",
       "Name: Quantity, Length: 1297, dtype: int64"
      ]
     },
     "execution_count": 21,
     "metadata": {},
     "output_type": "execute_result"
    }
   ],
   "source": [
    "# Prepare data for levene test to check for equal variance.\n",
    "\n",
    "data = []\n",
    "for k,v in grps.items():\n",
    "    data.append(v)\n",
    "data[0]"
   ]
  },
  {
   "cell_type": "code",
   "execution_count": 22,
   "metadata": {},
   "outputs": [
    {
     "data": {
      "text/plain": [
       "LeveneResult(statistic=19.187113832590878, pvalue=1.2429073348187694e-05)"
      ]
     },
     "execution_count": 22,
     "metadata": {},
     "output_type": "execute_result"
    }
   ],
   "source": [
    "stats.levene(data[0],data[1])"
   ]
  },
  {
   "cell_type": "code",
   "execution_count": 23,
   "metadata": {},
   "outputs": [
    {
     "name": "stdout",
     "output_type": "stream",
     "text": [
      "Levene' Test for Equal Variance p-value=0.0\n",
      "\t- The groups do NOT have equal variance.\n"
     ]
    }
   ],
   "source": [
    "# Does not pass Levene test.\n",
    "\n",
    "stat, p = stats.levene(*data)\n",
    "print(f\"Levene' Test for Equal Variance p-value={round(p,4)}\")\n",
    "sig = 'do NOT' if p<.05 else 'DO'\n",
    "\n",
    "print(f\"\\t- The groups {sig} have equal variance.\")"
   ]
  },
  {
   "cell_type": "code",
   "execution_count": 24,
   "metadata": {},
   "outputs": [
    {
     "name": "stdout",
     "output_type": "stream",
     "text": [
      "Welch's t-test p value=0.0\n"
     ]
    }
   ],
   "source": [
    "# Test using alternative Welch's T-Test for equal variance.\n",
    "# P value is less than 0.05; reject null hypothesis that the groups have identical average values.\n",
    "\n",
    "stat,p = stats.ttest_ind(grps['Full Price'], grps['Discounted'], equal_var=False)\n",
    "print(f\"Welch's t-test p value={round(p,4)}\")"
   ]
  },
  {
   "cell_type": "code",
   "execution_count": 24,
   "metadata": {},
   "outputs": [
    {
     "data": {
      "text/plain": [
       "-0.2862724481729282"
      ]
     },
     "execution_count": 24,
     "metadata": {},
     "output_type": "execute_result"
    }
   ],
   "source": [
    "# Check for effect size.\n",
    "# Effect size is small, indicating the difference in means is trivial.\n",
    "Cohen_d(grps['Full Price'],grps['Discounted'])"
   ]
  },
  {
   "cell_type": "code",
   "execution_count": 25,
   "metadata": {},
   "outputs": [
    {
     "data": {
      "text/html": [
       "<table class=\"simpletable\">\n",
       "<caption>Multiple Comparison of Means - Tukey HSD, FWER=0.05</caption>\n",
       "<tr>\n",
       "  <th>group1</th> <th>group2</th> <th>meandiff</th>  <th>p-adj</th>   <th>lower</th>   <th>upper</th>  <th>reject</th>\n",
       "</tr>\n",
       "<tr>\n",
       "    <td>0.0</td>   <td>0.01</td>  <td>-19.7153</td>   <td>0.9</td>  <td>-80.3306</td> <td>40.9001</td>  <td>False</td>\n",
       "</tr>\n",
       "<tr>\n",
       "    <td>0.0</td>   <td>0.02</td>  <td>-19.7153</td>   <td>0.9</td>   <td>-62.593</td> <td>23.1625</td>  <td>False</td>\n",
       "</tr>\n",
       "<tr>\n",
       "    <td>0.0</td>   <td>0.03</td>  <td>-20.0486</td>  <td>0.725</td> <td>-55.0714</td> <td>14.9742</td>  <td>False</td>\n",
       "</tr>\n",
       "<tr>\n",
       "    <td>0.0</td>   <td>0.04</td>  <td>-20.7153</td>   <td>0.9</td>  <td>-81.3306</td> <td>39.9001</td>  <td>False</td>\n",
       "</tr>\n",
       "<tr>\n",
       "    <td>0.0</td>   <td>0.05</td>   <td>6.2955</td>  <td>0.0011</td>  <td>1.5381</td>  <td>11.053</td>   <td>True</td> \n",
       "</tr>\n",
       "<tr>\n",
       "    <td>0.0</td>   <td>0.06</td>  <td>-19.7153</td>   <td>0.9</td>  <td>-80.3306</td> <td>40.9001</td>  <td>False</td>\n",
       "</tr>\n",
       "<tr>\n",
       "    <td>0.0</td>    <td>0.1</td>   <td>3.5217</td>  <td>0.4269</td>  <td>-1.3783</td> <td>8.4217</td>   <td>False</td>\n",
       "</tr>\n",
       "<tr>\n",
       "    <td>0.0</td>   <td>0.15</td>   <td>6.6669</td>  <td>0.0014</td>   <td>1.551</td>  <td>11.7828</td>  <td>True</td> \n",
       "</tr>\n",
       "<tr>\n",
       "    <td>0.0</td>    <td>0.2</td>   <td>5.3096</td>  <td>0.0303</td>  <td>0.2508</td>  <td>10.3684</td>  <td>True</td> \n",
       "</tr>\n",
       "<tr>\n",
       "    <td>0.0</td>   <td>0.25</td>    <td>6.525</td>  <td>0.0023</td>  <td>1.3647</td>  <td>11.6852</td>  <td>True</td> \n",
       "</tr>\n",
       "<tr>\n",
       "   <td>0.01</td>   <td>0.02</td>     <td>0.0</td>     <td>0.9</td>  <td>-74.2101</td> <td>74.2101</td>  <td>False</td>\n",
       "</tr>\n",
       "<tr>\n",
       "   <td>0.01</td>   <td>0.03</td>   <td>-0.3333</td>   <td>0.9</td>  <td>-70.2993</td> <td>69.6326</td>  <td>False</td>\n",
       "</tr>\n",
       "<tr>\n",
       "   <td>0.01</td>   <td>0.04</td>    <td>-1.0</td>     <td>0.9</td>  <td>-86.6905</td> <td>84.6905</td>  <td>False</td>\n",
       "</tr>\n",
       "<tr>\n",
       "   <td>0.01</td>   <td>0.05</td>   <td>26.0108</td>   <td>0.9</td>   <td>-34.745</td> <td>86.7667</td>  <td>False</td>\n",
       "</tr>\n",
       "<tr>\n",
       "   <td>0.01</td>   <td>0.06</td>     <td>0.0</td>     <td>0.9</td>  <td>-85.6905</td> <td>85.6905</td>  <td>False</td>\n",
       "</tr>\n",
       "<tr>\n",
       "   <td>0.01</td>    <td>0.1</td>   <td>23.237</td>    <td>0.9</td>  <td>-37.5302</td> <td>84.0042</td>  <td>False</td>\n",
       "</tr>\n",
       "<tr>\n",
       "   <td>0.01</td>   <td>0.15</td>   <td>26.3822</td>   <td>0.9</td>  <td>-34.4028</td> <td>87.1671</td>  <td>False</td>\n",
       "</tr>\n",
       "<tr>\n",
       "   <td>0.01</td>    <td>0.2</td>   <td>25.0248</td>   <td>0.9</td>  <td>-35.7554</td> <td>85.805</td>   <td>False</td>\n",
       "</tr>\n",
       "<tr>\n",
       "   <td>0.01</td>   <td>0.25</td>   <td>26.2403</td>   <td>0.9</td>  <td>-34.5485</td> <td>87.029</td>   <td>False</td>\n",
       "</tr>\n",
       "<tr>\n",
       "   <td>0.02</td>   <td>0.03</td>   <td>-0.3333</td>   <td>0.9</td>  <td>-55.6463</td> <td>54.9796</td>  <td>False</td>\n",
       "</tr>\n",
       "<tr>\n",
       "   <td>0.02</td>   <td>0.04</td>    <td>-1.0</td>     <td>0.9</td>  <td>-75.2101</td> <td>73.2101</td>  <td>False</td>\n",
       "</tr>\n",
       "<tr>\n",
       "   <td>0.02</td>   <td>0.05</td>   <td>26.0108</td> <td>0.6622</td> <td>-17.0654</td> <td>69.087</td>   <td>False</td>\n",
       "</tr>\n",
       "<tr>\n",
       "   <td>0.02</td>   <td>0.06</td>     <td>0.0</td>     <td>0.9</td>  <td>-74.2101</td> <td>74.2101</td>  <td>False</td>\n",
       "</tr>\n",
       "<tr>\n",
       "   <td>0.02</td>    <td>0.1</td>   <td>23.237</td>  <td>0.7914</td> <td>-19.8552</td> <td>66.3292</td>  <td>False</td>\n",
       "</tr>\n",
       "<tr>\n",
       "   <td>0.02</td>   <td>0.15</td>   <td>26.3822</td> <td>0.6461</td> <td>-16.7351</td> <td>69.4994</td>  <td>False</td>\n",
       "</tr>\n",
       "<tr>\n",
       "   <td>0.02</td>    <td>0.2</td>   <td>25.0248</td> <td>0.7089</td> <td>-18.0857</td> <td>68.1354</td>  <td>False</td>\n",
       "</tr>\n",
       "<tr>\n",
       "   <td>0.02</td>   <td>0.25</td>   <td>26.2403</td> <td>0.6528</td> <td>-16.8823</td> <td>69.3628</td>  <td>False</td>\n",
       "</tr>\n",
       "<tr>\n",
       "   <td>0.03</td>   <td>0.04</td>   <td>-0.6667</td>   <td>0.9</td>  <td>-70.6326</td> <td>69.2993</td>  <td>False</td>\n",
       "</tr>\n",
       "<tr>\n",
       "   <td>0.03</td>   <td>0.05</td>   <td>26.3441</td> <td>0.3639</td>  <td>-8.9214</td> <td>61.6096</td>  <td>False</td>\n",
       "</tr>\n",
       "<tr>\n",
       "   <td>0.03</td>   <td>0.06</td>   <td>0.3333</td>    <td>0.9</td>  <td>-69.6326</td> <td>70.2993</td>  <td>False</td>\n",
       "</tr>\n",
       "<tr>\n",
       "   <td>0.03</td>    <td>0.1</td>   <td>23.5703</td> <td>0.5338</td> <td>-11.7147</td> <td>58.8553</td>  <td>False</td>\n",
       "</tr>\n",
       "<tr>\n",
       "   <td>0.03</td>   <td>0.15</td>   <td>26.7155</td> <td>0.3436</td>  <td>-8.6001</td> <td>62.0311</td>  <td>False</td>\n",
       "</tr>\n",
       "<tr>\n",
       "   <td>0.03</td>    <td>0.2</td>   <td>25.3582</td>  <td>0.428</td>  <td>-9.9492</td> <td>60.6656</td>  <td>False</td>\n",
       "</tr>\n",
       "<tr>\n",
       "   <td>0.03</td>   <td>0.25</td>   <td>26.5736</td> <td>0.3525</td>  <td>-8.7485</td> <td>61.8957</td>  <td>False</td>\n",
       "</tr>\n",
       "<tr>\n",
       "   <td>0.04</td>   <td>0.05</td>   <td>27.0108</td>   <td>0.9</td>   <td>-33.745</td> <td>87.7667</td>  <td>False</td>\n",
       "</tr>\n",
       "<tr>\n",
       "   <td>0.04</td>   <td>0.06</td>     <td>1.0</td>     <td>0.9</td>  <td>-84.6905</td> <td>86.6905</td>  <td>False</td>\n",
       "</tr>\n",
       "<tr>\n",
       "   <td>0.04</td>    <td>0.1</td>   <td>24.237</td>    <td>0.9</td>  <td>-36.5302</td> <td>85.0042</td>  <td>False</td>\n",
       "</tr>\n",
       "<tr>\n",
       "   <td>0.04</td>   <td>0.15</td>   <td>27.3822</td>   <td>0.9</td>  <td>-33.4028</td> <td>88.1671</td>  <td>False</td>\n",
       "</tr>\n",
       "<tr>\n",
       "   <td>0.04</td>    <td>0.2</td>   <td>26.0248</td>   <td>0.9</td>  <td>-34.7554</td> <td>86.805</td>   <td>False</td>\n",
       "</tr>\n",
       "<tr>\n",
       "   <td>0.04</td>   <td>0.25</td>   <td>27.2403</td>   <td>0.9</td>  <td>-33.5485</td> <td>88.029</td>   <td>False</td>\n",
       "</tr>\n",
       "<tr>\n",
       "   <td>0.05</td>   <td>0.06</td>  <td>-26.0108</td>   <td>0.9</td>  <td>-86.7667</td> <td>34.745</td>   <td>False</td>\n",
       "</tr>\n",
       "<tr>\n",
       "   <td>0.05</td>    <td>0.1</td>   <td>-2.7738</td>   <td>0.9</td>   <td>-9.1822</td> <td>3.6346</td>   <td>False</td>\n",
       "</tr>\n",
       "<tr>\n",
       "   <td>0.05</td>   <td>0.15</td>   <td>0.3714</td>    <td>0.9</td>   <td>-6.2036</td> <td>6.9463</td>   <td>False</td>\n",
       "</tr>\n",
       "<tr>\n",
       "   <td>0.05</td>    <td>0.2</td>   <td>-0.986</td>    <td>0.9</td>   <td>-7.5166</td> <td>5.5447</td>   <td>False</td>\n",
       "</tr>\n",
       "<tr>\n",
       "   <td>0.05</td>   <td>0.25</td>   <td>0.2294</td>    <td>0.9</td>   <td>-6.3801</td>  <td>6.839</td>   <td>False</td>\n",
       "</tr>\n",
       "<tr>\n",
       "   <td>0.06</td>    <td>0.1</td>   <td>23.237</td>    <td>0.9</td>  <td>-37.5302</td> <td>84.0042</td>  <td>False</td>\n",
       "</tr>\n",
       "<tr>\n",
       "   <td>0.06</td>   <td>0.15</td>   <td>26.3822</td>   <td>0.9</td>  <td>-34.4028</td> <td>87.1671</td>  <td>False</td>\n",
       "</tr>\n",
       "<tr>\n",
       "   <td>0.06</td>    <td>0.2</td>   <td>25.0248</td>   <td>0.9</td>  <td>-35.7554</td> <td>85.805</td>   <td>False</td>\n",
       "</tr>\n",
       "<tr>\n",
       "   <td>0.06</td>   <td>0.25</td>   <td>26.2403</td>   <td>0.9</td>  <td>-34.5485</td> <td>87.029</td>   <td>False</td>\n",
       "</tr>\n",
       "<tr>\n",
       "    <td>0.1</td>   <td>0.15</td>   <td>3.1452</td>    <td>0.9</td>   <td>-3.5337</td>  <td>9.824</td>   <td>False</td>\n",
       "</tr>\n",
       "<tr>\n",
       "    <td>0.1</td>    <td>0.2</td>   <td>1.7879</td>    <td>0.9</td>   <td>-4.8474</td> <td>8.4231</td>   <td>False</td>\n",
       "</tr>\n",
       "<tr>\n",
       "    <td>0.1</td>   <td>0.25</td>   <td>3.0033</td>    <td>0.9</td>   <td>-3.7096</td> <td>9.7161</td>   <td>False</td>\n",
       "</tr>\n",
       "<tr>\n",
       "   <td>0.15</td>    <td>0.2</td>   <td>-1.3573</td>   <td>0.9</td>   <td>-8.1536</td> <td>5.4389</td>   <td>False</td>\n",
       "</tr>\n",
       "<tr>\n",
       "   <td>0.15</td>   <td>0.25</td>   <td>-0.1419</td>   <td>0.9</td>   <td>-7.014</td>  <td>6.7302</td>   <td>False</td>\n",
       "</tr>\n",
       "<tr>\n",
       "    <td>0.2</td>   <td>0.25</td>   <td>1.2154</td>    <td>0.9</td>   <td>-5.6143</td> <td>8.0451</td>   <td>False</td>\n",
       "</tr>\n",
       "</table>"
      ],
      "text/plain": [
       "<class 'statsmodels.iolib.table.SimpleTable'>"
      ]
     },
     "execution_count": 25,
     "metadata": {},
     "output_type": "execute_result"
    }
   ],
   "source": [
    "from statsmodels.stats.multicomp import pairwise_tukeyhsd\n",
    "model = pairwise_tukeyhsd(df_order['Quantity'],df_order['Discount'])\n",
    "model.summary()"
   ]
  },
  {
   "cell_type": "code",
   "execution_count": 26,
   "metadata": {},
   "outputs": [
    {
     "data": {
      "text/plain": [
       "<matplotlib.axes._subplots.AxesSubplot at 0x1a1e269438>"
      ]
     },
     "execution_count": 26,
     "metadata": {},
     "output_type": "execute_result"
    },
    {
     "data": {
      "image/png": "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\n",
      "text/plain": [
       "<Figure size 432x288 with 1 Axes>"
      ]
     },
     "metadata": {
      "needs_background": "light"
     },
     "output_type": "display_data"
    }
   ],
   "source": [
    "sns.barplot(data=df_order,x='Discount',y='Quantity',ci=68)"
   ]
  },
  {
   "cell_type": "markdown",
   "metadata": {},
   "source": [
    "# HYPOTHESIS 4"
   ]
  },
  {
   "cell_type": "markdown",
   "metadata": {},
   "source": [
    "> ***Does discount amount have a statistically significant effect on the quantity of a product in an order? If so, at what level(s) of discount?***"
   ]
  },
  {
   "cell_type": "markdown",
   "metadata": {},
   "source": [
    "- $H_0$: A discount does not effect the quantity of a product in an order.\n",
    "- $H_1$: A discount does effect the quantity of a product in an order."
   ]
  },
  {
   "cell_type": "code",
   "execution_count": 6,
   "metadata": {},
   "outputs": [],
   "source": [
    "# Select all from Order Detail table\n",
    "\n",
    "# cur.execute(\"\"\"SELECT * FROM OrderDetail \"\"\")\n",
    "# names = [description[0] for description in cur.description]\n",
    "# df_disc = pd.DataFrame(cur.fetchall(), columns = names)\n",
    "# df_disc"
   ]
  },
  {
   "cell_type": "code",
   "execution_count": 7,
   "metadata": {},
   "outputs": [
    {
     "data": {
      "text/html": [
       "<div>\n",
       "<style scoped>\n",
       "    .dataframe tbody tr th:only-of-type {\n",
       "        vertical-align: middle;\n",
       "    }\n",
       "\n",
       "    .dataframe tbody tr th {\n",
       "        vertical-align: top;\n",
       "    }\n",
       "\n",
       "    .dataframe thead th {\n",
       "        text-align: right;\n",
       "    }\n",
       "</style>\n",
       "<table border=\"1\" class=\"dataframe\">\n",
       "  <thead>\n",
       "    <tr style=\"text-align: right;\">\n",
       "      <th></th>\n",
       "      <th>Id</th>\n",
       "      <th>OrderId</th>\n",
       "      <th>ProductId</th>\n",
       "      <th>UnitPrice</th>\n",
       "      <th>Quantity</th>\n",
       "      <th>Discount</th>\n",
       "    </tr>\n",
       "  </thead>\n",
       "  <tbody>\n",
       "    <tr>\n",
       "      <td>0</td>\n",
       "      <td>10248/11</td>\n",
       "      <td>10248</td>\n",
       "      <td>11</td>\n",
       "      <td>14.00</td>\n",
       "      <td>12</td>\n",
       "      <td>0.00</td>\n",
       "    </tr>\n",
       "    <tr>\n",
       "      <td>1</td>\n",
       "      <td>10248/42</td>\n",
       "      <td>10248</td>\n",
       "      <td>42</td>\n",
       "      <td>9.80</td>\n",
       "      <td>10</td>\n",
       "      <td>0.00</td>\n",
       "    </tr>\n",
       "    <tr>\n",
       "      <td>2</td>\n",
       "      <td>10248/72</td>\n",
       "      <td>10248</td>\n",
       "      <td>72</td>\n",
       "      <td>34.80</td>\n",
       "      <td>5</td>\n",
       "      <td>0.00</td>\n",
       "    </tr>\n",
       "    <tr>\n",
       "      <td>3</td>\n",
       "      <td>10249/14</td>\n",
       "      <td>10249</td>\n",
       "      <td>14</td>\n",
       "      <td>18.60</td>\n",
       "      <td>9</td>\n",
       "      <td>0.00</td>\n",
       "    </tr>\n",
       "    <tr>\n",
       "      <td>4</td>\n",
       "      <td>10249/51</td>\n",
       "      <td>10249</td>\n",
       "      <td>51</td>\n",
       "      <td>42.40</td>\n",
       "      <td>40</td>\n",
       "      <td>0.00</td>\n",
       "    </tr>\n",
       "    <tr>\n",
       "      <td>...</td>\n",
       "      <td>...</td>\n",
       "      <td>...</td>\n",
       "      <td>...</td>\n",
       "      <td>...</td>\n",
       "      <td>...</td>\n",
       "      <td>...</td>\n",
       "    </tr>\n",
       "    <tr>\n",
       "      <td>2150</td>\n",
       "      <td>11077/64</td>\n",
       "      <td>11077</td>\n",
       "      <td>64</td>\n",
       "      <td>33.25</td>\n",
       "      <td>2</td>\n",
       "      <td>0.03</td>\n",
       "    </tr>\n",
       "    <tr>\n",
       "      <td>2151</td>\n",
       "      <td>11077/66</td>\n",
       "      <td>11077</td>\n",
       "      <td>66</td>\n",
       "      <td>17.00</td>\n",
       "      <td>1</td>\n",
       "      <td>0.00</td>\n",
       "    </tr>\n",
       "    <tr>\n",
       "      <td>2152</td>\n",
       "      <td>11077/73</td>\n",
       "      <td>11077</td>\n",
       "      <td>73</td>\n",
       "      <td>15.00</td>\n",
       "      <td>2</td>\n",
       "      <td>0.01</td>\n",
       "    </tr>\n",
       "    <tr>\n",
       "      <td>2153</td>\n",
       "      <td>11077/75</td>\n",
       "      <td>11077</td>\n",
       "      <td>75</td>\n",
       "      <td>7.75</td>\n",
       "      <td>4</td>\n",
       "      <td>0.00</td>\n",
       "    </tr>\n",
       "    <tr>\n",
       "      <td>2154</td>\n",
       "      <td>11077/77</td>\n",
       "      <td>11077</td>\n",
       "      <td>77</td>\n",
       "      <td>13.00</td>\n",
       "      <td>2</td>\n",
       "      <td>0.00</td>\n",
       "    </tr>\n",
       "  </tbody>\n",
       "</table>\n",
       "<p>2155 rows × 6 columns</p>\n",
       "</div>"
      ],
      "text/plain": [
       "            Id  OrderId  ProductId  UnitPrice  Quantity  Discount\n",
       "0     10248/11    10248         11      14.00        12      0.00\n",
       "1     10248/42    10248         42       9.80        10      0.00\n",
       "2     10248/72    10248         72      34.80         5      0.00\n",
       "3     10249/14    10249         14      18.60         9      0.00\n",
       "4     10249/51    10249         51      42.40        40      0.00\n",
       "...        ...      ...        ...        ...       ...       ...\n",
       "2150  11077/64    11077         64      33.25         2      0.03\n",
       "2151  11077/66    11077         66      17.00         1      0.00\n",
       "2152  11077/73    11077         73      15.00         2      0.01\n",
       "2153  11077/75    11077         75       7.75         4      0.00\n",
       "2154  11077/77    11077         77      13.00         2      0.00\n",
       "\n",
       "[2155 rows x 6 columns]"
      ]
     },
     "execution_count": 7,
     "metadata": {},
     "output_type": "execute_result"
    }
   ],
   "source": [
    "cur.execute(\"\"\"SELECT * FROM OrderDetail \"\"\")\n",
    "names = [description[0] for description in cur.description]\n",
    "df_order = pd.DataFrame(cur.fetchall(), columns = names)\n",
    "df_order"
   ]
  },
  {
   "cell_type": "markdown",
   "metadata": {},
   "source": [
    "## Determine if data is numerical or categorical"
   ]
  },
  {
   "cell_type": "code",
   "execution_count": 8,
   "metadata": {
    "scrolled": true
   },
   "outputs": [
    {
     "data": {
      "text/plain": [
       "0.00    1317\n",
       "0.05     185\n",
       "0.10     173\n",
       "0.20     161\n",
       "0.15     157\n",
       "0.25     154\n",
       "0.03       3\n",
       "0.02       2\n",
       "0.01       1\n",
       "0.04       1\n",
       "0.06       1\n",
       "Name: Discount, dtype: int64"
      ]
     },
     "execution_count": 8,
     "metadata": {},
     "output_type": "execute_result"
    }
   ],
   "source": [
    "# Data is numerical.\n",
    "# Find quantity of discounted orders by discount amount.\n",
    "\n",
    "df_order['Discount'].value_counts()"
   ]
  },
  {
   "cell_type": "markdown",
   "metadata": {},
   "source": [
    "## Determine how many groups to compare to establish which test to use."
   ]
  },
  {
   "cell_type": "markdown",
   "metadata": {},
   "source": [
    "### Two groups are being compared; use the 2 Sample T-Test."
   ]
  },
  {
   "cell_type": "code",
   "execution_count": 9,
   "metadata": {},
   "outputs": [
    {
     "data": {
      "text/html": [
       "<div>\n",
       "<style scoped>\n",
       "    .dataframe tbody tr th:only-of-type {\n",
       "        vertical-align: middle;\n",
       "    }\n",
       "\n",
       "    .dataframe tbody tr th {\n",
       "        vertical-align: top;\n",
       "    }\n",
       "\n",
       "    .dataframe thead th {\n",
       "        text-align: right;\n",
       "    }\n",
       "</style>\n",
       "<table border=\"1\" class=\"dataframe\">\n",
       "  <thead>\n",
       "    <tr style=\"text-align: right;\">\n",
       "      <th></th>\n",
       "      <th>Id</th>\n",
       "      <th>OrderId</th>\n",
       "      <th>ProductId</th>\n",
       "      <th>UnitPrice</th>\n",
       "      <th>Quantity</th>\n",
       "      <th>Discount</th>\n",
       "      <th>groups</th>\n",
       "      <th>group_num</th>\n",
       "    </tr>\n",
       "  </thead>\n",
       "  <tbody>\n",
       "    <tr>\n",
       "      <td>0</td>\n",
       "      <td>10248/11</td>\n",
       "      <td>10248</td>\n",
       "      <td>11</td>\n",
       "      <td>14.00</td>\n",
       "      <td>12</td>\n",
       "      <td>0.00</td>\n",
       "      <td>Full Price</td>\n",
       "      <td>0</td>\n",
       "    </tr>\n",
       "    <tr>\n",
       "      <td>1</td>\n",
       "      <td>10248/42</td>\n",
       "      <td>10248</td>\n",
       "      <td>42</td>\n",
       "      <td>9.80</td>\n",
       "      <td>10</td>\n",
       "      <td>0.00</td>\n",
       "      <td>Full Price</td>\n",
       "      <td>0</td>\n",
       "    </tr>\n",
       "    <tr>\n",
       "      <td>2</td>\n",
       "      <td>10248/72</td>\n",
       "      <td>10248</td>\n",
       "      <td>72</td>\n",
       "      <td>34.80</td>\n",
       "      <td>5</td>\n",
       "      <td>0.00</td>\n",
       "      <td>Full Price</td>\n",
       "      <td>0</td>\n",
       "    </tr>\n",
       "    <tr>\n",
       "      <td>3</td>\n",
       "      <td>10249/14</td>\n",
       "      <td>10249</td>\n",
       "      <td>14</td>\n",
       "      <td>18.60</td>\n",
       "      <td>9</td>\n",
       "      <td>0.00</td>\n",
       "      <td>Full Price</td>\n",
       "      <td>0</td>\n",
       "    </tr>\n",
       "    <tr>\n",
       "      <td>4</td>\n",
       "      <td>10249/51</td>\n",
       "      <td>10249</td>\n",
       "      <td>51</td>\n",
       "      <td>42.40</td>\n",
       "      <td>40</td>\n",
       "      <td>0.00</td>\n",
       "      <td>Full Price</td>\n",
       "      <td>0</td>\n",
       "    </tr>\n",
       "    <tr>\n",
       "      <td>...</td>\n",
       "      <td>...</td>\n",
       "      <td>...</td>\n",
       "      <td>...</td>\n",
       "      <td>...</td>\n",
       "      <td>...</td>\n",
       "      <td>...</td>\n",
       "      <td>...</td>\n",
       "      <td>...</td>\n",
       "    </tr>\n",
       "    <tr>\n",
       "      <td>2150</td>\n",
       "      <td>11077/64</td>\n",
       "      <td>11077</td>\n",
       "      <td>64</td>\n",
       "      <td>33.25</td>\n",
       "      <td>2</td>\n",
       "      <td>0.03</td>\n",
       "      <td>Discounted</td>\n",
       "      <td>1</td>\n",
       "    </tr>\n",
       "    <tr>\n",
       "      <td>2151</td>\n",
       "      <td>11077/66</td>\n",
       "      <td>11077</td>\n",
       "      <td>66</td>\n",
       "      <td>17.00</td>\n",
       "      <td>1</td>\n",
       "      <td>0.00</td>\n",
       "      <td>Full Price</td>\n",
       "      <td>0</td>\n",
       "    </tr>\n",
       "    <tr>\n",
       "      <td>2152</td>\n",
       "      <td>11077/73</td>\n",
       "      <td>11077</td>\n",
       "      <td>73</td>\n",
       "      <td>15.00</td>\n",
       "      <td>2</td>\n",
       "      <td>0.01</td>\n",
       "      <td>Discounted</td>\n",
       "      <td>1</td>\n",
       "    </tr>\n",
       "    <tr>\n",
       "      <td>2153</td>\n",
       "      <td>11077/75</td>\n",
       "      <td>11077</td>\n",
       "      <td>75</td>\n",
       "      <td>7.75</td>\n",
       "      <td>4</td>\n",
       "      <td>0.00</td>\n",
       "      <td>Full Price</td>\n",
       "      <td>0</td>\n",
       "    </tr>\n",
       "    <tr>\n",
       "      <td>2154</td>\n",
       "      <td>11077/77</td>\n",
       "      <td>11077</td>\n",
       "      <td>77</td>\n",
       "      <td>13.00</td>\n",
       "      <td>2</td>\n",
       "      <td>0.00</td>\n",
       "      <td>Full Price</td>\n",
       "      <td>0</td>\n",
       "    </tr>\n",
       "  </tbody>\n",
       "</table>\n",
       "<p>2155 rows × 8 columns</p>\n",
       "</div>"
      ],
      "text/plain": [
       "            Id  OrderId  ProductId  UnitPrice  Quantity  Discount      groups  \\\n",
       "0     10248/11    10248         11      14.00        12      0.00  Full Price   \n",
       "1     10248/42    10248         42       9.80        10      0.00  Full Price   \n",
       "2     10248/72    10248         72      34.80         5      0.00  Full Price   \n",
       "3     10249/14    10249         14      18.60         9      0.00  Full Price   \n",
       "4     10249/51    10249         51      42.40        40      0.00  Full Price   \n",
       "...        ...      ...        ...        ...       ...       ...         ...   \n",
       "2150  11077/64    11077         64      33.25         2      0.03  Discounted   \n",
       "2151  11077/66    11077         66      17.00         1      0.00  Full Price   \n",
       "2152  11077/73    11077         73      15.00         2      0.01  Discounted   \n",
       "2153  11077/75    11077         75       7.75         4      0.00  Full Price   \n",
       "2154  11077/77    11077         77      13.00         2      0.00  Full Price   \n",
       "\n",
       "      group_num  \n",
       "0             0  \n",
       "1             0  \n",
       "2             0  \n",
       "3             0  \n",
       "4             0  \n",
       "...         ...  \n",
       "2150          1  \n",
       "2151          0  \n",
       "2152          1  \n",
       "2153          0  \n",
       "2154          0  \n",
       "\n",
       "[2155 rows x 8 columns]"
      ]
     },
     "execution_count": 9,
     "metadata": {},
     "output_type": "execute_result"
    }
   ],
   "source": [
    "# Assign 'Discounted' and 'Full Price' to 'groups' column.\n",
    "# Assign '0' to 'Full Price' and '1' to 'Discounted' in the 'group_num' column.\n",
    "\n",
    "df_order['groups'] = df_order['Discount'] >0 \n",
    "df_order['groups'] = df_order['groups'].map({True:'Discounted', False:'Full Price'})\n",
    "df_order['group_num'] = df_order['groups'].map({'Discounted':1,\"Full Price\": 0})\n",
    "\n",
    "df_order"
   ]
  },
  {
   "cell_type": "markdown",
   "metadata": {},
   "source": [
    "### Check data to see if it meets test assumptions."
   ]
  },
  {
   "cell_type": "code",
   "execution_count": 10,
   "metadata": {},
   "outputs": [
    {
     "data": {
      "text/plain": [
       "<matplotlib.axes._subplots.AxesSubplot at 0x1a213adcc0>"
      ]
     },
     "execution_count": 10,
     "metadata": {},
     "output_type": "execute_result"
    },
    {
     "data": {
      "image/png": "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\n",
      "text/plain": [
       "<Figure size 432x288 with 1 Axes>"
      ]
     },
     "metadata": {
      "needs_background": "light"
     },
     "output_type": "display_data"
    }
   ],
   "source": [
    "# View barplot to see if the categories are statistically different and compare standard error of the mean.\n",
    "# Discounted products sold in larger quantities.\n",
    "\n",
    "sns.barplot(data=df_order, x='groups', y='Quantity', ci=68 )"
   ]
  },
  {
   "cell_type": "code",
   "execution_count": 11,
   "metadata": {},
   "outputs": [
    {
     "data": {
      "text/plain": [
       "{'Full Price': 0       12\n",
       " 1       10\n",
       " 2        5\n",
       " 3        9\n",
       " 4       40\n",
       "         ..\n",
       " 2147     2\n",
       " 2148     2\n",
       " 2151     1\n",
       " 2153     4\n",
       " 2154     2\n",
       " Name: Quantity, Length: 1317, dtype: int64, 'Discounted': 6       35\n",
       " 7       15\n",
       " 8        6\n",
       " 9       15\n",
       " 11      40\n",
       "         ..\n",
       " 2144     2\n",
       " 2146     3\n",
       " 2149     2\n",
       " 2150     2\n",
       " 2152     2\n",
       " Name: Quantity, Length: 838, dtype: int64}"
      ]
     },
     "execution_count": 11,
     "metadata": {},
     "output_type": "execute_result"
    }
   ],
   "source": [
    "# Create 'grps' dictionary to seperate 'quantity' into 'Full Price' and 'Discounted' categories.\n",
    "\n",
    "grps = {}\n",
    "for grp_name in df_order['groups'].unique():\n",
    "    grps[grp_name] = df_order.groupby('groups').get_group(grp_name)['Quantity']\n",
    "grps"
   ]
  },
  {
   "cell_type": "markdown",
   "metadata": {},
   "source": [
    "### Check for outliers."
   ]
  },
  {
   "cell_type": "code",
   "execution_count": 12,
   "metadata": {},
   "outputs": [
    {
     "data": {
      "text/plain": [
       "[Text(0, 0.5, 'Density'),\n",
       " Text(0.5, 1.0, 'Total Ordered by Discounted and Full Price Group')]"
      ]
     },
     "execution_count": 12,
     "metadata": {},
     "output_type": "execute_result"
    },
    {
     "data": {
      "image/png": "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\n",
      "text/plain": [
       "<Figure size 432x288 with 1 Axes>"
      ]
     },
     "metadata": {
      "needs_background": "light"
     },
     "output_type": "display_data"
    }
   ],
   "source": [
    "# Show Distribution Plot of both groups to determine if normailty assumption is met.\n",
    "\n",
    "for grp_name,grp_data in grps.items():\n",
    "    sns.distplot(grp_data,label=grp_name)\n",
    "    \n",
    "    \n",
    "ax= plt.gca()\n",
    "ax.legend()\n",
    "ax.set(title='Total Ordered by Discounted and Full Price Group', ylabel='Density')"
   ]
  },
  {
   "cell_type": "code",
   "execution_count": 13,
   "metadata": {},
   "outputs": [],
   "source": [
    "orig_grps = grps.copy()"
   ]
  },
  {
   "cell_type": "code",
   "execution_count": 14,
   "metadata": {},
   "outputs": [
    {
     "name": "stdout",
     "output_type": "stream",
     "text": [
      "Found 20 outliers in Full Price using Z-scores\n",
      "Found 34 outliers in Full Price using IQR\n",
      "\n",
      "\n",
      "Found 15 outliers in Discounted using Z-scores\n",
      "Found 29 outliers in Discounted using IQR\n",
      "\n",
      "\n"
     ]
    }
   ],
   "source": [
    "# Identify how many outliers found in each group using Z-Scores and IQR.\n",
    "\n",
    "for grp_name, grp_data in grps.items():\n",
    "    idx_outs =find_outliers_Z(grp_data)\n",
    "    print(f\"Found {idx_outs.sum()} outliers in {grp_name} using Z-scores\")\n",
    "    grps[grp_name] = grp_data [~idx_outs]\n",
    "    idx_outs =find_outliers_IQR(grp_data)\n",
    "\n",
    "    print(f\"Found {idx_outs.sum()} outliers in {grp_name} using IQR\")\n",
    "    print('\\n')"
   ]
  },
  {
   "cell_type": "code",
   "execution_count": 15,
   "metadata": {},
   "outputs": [
    {
     "data": {
      "text/plain": [
       "6       35\n",
       "7       15\n",
       "8        6\n",
       "9       15\n",
       "11      40\n",
       "        ..\n",
       "2144     2\n",
       "2146     3\n",
       "2149     2\n",
       "2150     2\n",
       "2152     2\n",
       "Name: Quantity, Length: 809, dtype: int64"
      ]
     },
     "execution_count": 15,
     "metadata": {},
     "output_type": "execute_result"
    }
   ],
   "source": [
    "# Remove outliers.\n",
    "\n",
    "grp_data [~idx_outs]"
   ]
  },
  {
   "cell_type": "code",
   "execution_count": 16,
   "metadata": {},
   "outputs": [
    {
     "data": {
      "text/plain": [
       "[Text(0, 0.5, 'Density'),\n",
       " Text(0.5, 1.0, 'Total Quantity for Full Price vs Discounted Products')]"
      ]
     },
     "execution_count": 16,
     "metadata": {},
     "output_type": "execute_result"
    },
    {
     "data": {
      "image/png": "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\n",
      "text/plain": [
       "<Figure size 576x288 with 1 Axes>"
      ]
     },
     "metadata": {
      "needs_background": "light"
     },
     "output_type": "display_data"
    }
   ],
   "source": [
    "# Check for normality after removing outliers.\n",
    "\n",
    "fig,ax=plt.subplots(figsize=(8,4))\n",
    "for grp_name,grp_data in grps.items():\n",
    "    sns.distplot(grp_data,label=grp_name, ax=ax)\n",
    "    \n",
    "    \n",
    "ax.legend()\n",
    "ax.set(title='Total Quantity for Full Price vs Discounted Products', ylabel='Density')"
   ]
  },
  {
   "cell_type": "markdown",
   "metadata": {},
   "source": [
    "### Confirm normality with scipy normal test."
   ]
  },
  {
   "cell_type": "code",
   "execution_count": 17,
   "metadata": {},
   "outputs": [],
   "source": [
    "import scipy.stats as stats"
   ]
  },
  {
   "cell_type": "code",
   "execution_count": 18,
   "metadata": {},
   "outputs": [
    {
     "name": "stdout",
     "output_type": "stream",
     "text": [
      "Group Full Price Normaltest p-value = 0.0\n",
      "\t-The data is is NOT normal.\n",
      "Group Discounted Normaltest p-value = 0.0\n",
      "\t-The data is is NOT normal.\n"
     ]
    }
   ],
   "source": [
    "for k,v in grps.items():\n",
    "    stat,p = stats.normaltest(v)\n",
    "    print(f\"Group {k} Normaltest p-value = {round(p,4)}\")\n",
    "    sig = 'is NOT' if p<.05 else 'IS'\n",
    "    print(f\"\\t-The data is {sig} normal.\")"
   ]
  },
  {
   "cell_type": "code",
   "execution_count": 19,
   "metadata": {},
   "outputs": [],
   "source": [
    "# Failed normality test; check sample sizes to see if large enough to bypass normality assumption.\n"
   ]
  },
  {
   "cell_type": "code",
   "execution_count": 20,
   "metadata": {},
   "outputs": [
    {
     "data": {
      "text/plain": [
       "(1297, 823)"
      ]
     },
     "execution_count": 20,
     "metadata": {},
     "output_type": "execute_result"
    }
   ],
   "source": [
    "# Each group is greater than 15; safe to ignore normality assumption.\n",
    "\n",
    "len(grps['Full Price']), len(grps['Discounted'])"
   ]
  },
  {
   "cell_type": "markdown",
   "metadata": {},
   "source": [
    "## Check for equal variance."
   ]
  },
  {
   "cell_type": "code",
   "execution_count": 21,
   "metadata": {},
   "outputs": [
    {
     "data": {
      "text/plain": [
       "0       12\n",
       "1       10\n",
       "2        5\n",
       "3        9\n",
       "4       40\n",
       "        ..\n",
       "2147     2\n",
       "2148     2\n",
       "2151     1\n",
       "2153     4\n",
       "2154     2\n",
       "Name: Quantity, Length: 1297, dtype: int64"
      ]
     },
     "execution_count": 21,
     "metadata": {},
     "output_type": "execute_result"
    }
   ],
   "source": [
    "# Prepare data for levene test to check for equal variance.\n",
    "\n",
    "data = []\n",
    "for k,v in grps.items():\n",
    "    data.append(v)\n",
    "data[0]"
   ]
  },
  {
   "cell_type": "code",
   "execution_count": 22,
   "metadata": {},
   "outputs": [
    {
     "data": {
      "text/plain": [
       "LeveneResult(statistic=19.187113832590878, pvalue=1.2429073348187694e-05)"
      ]
     },
     "execution_count": 22,
     "metadata": {},
     "output_type": "execute_result"
    }
   ],
   "source": [
    "stats.levene(data[0],data[1])"
   ]
  },
  {
   "cell_type": "code",
   "execution_count": 23,
   "metadata": {},
   "outputs": [
    {
     "name": "stdout",
     "output_type": "stream",
     "text": [
      "Levene' Test for Equal Variance p-value=0.0\n",
      "\t- The groups do NOT have equal variance.\n"
     ]
    }
   ],
   "source": [
    "# Does not pass Levene test.\n",
    "\n",
    "stat, p = stats.levene(*data)\n",
    "print(f\"Levene' Test for Equal Variance p-value={round(p,4)}\")\n",
    "sig = 'do NOT' if p<.05 else 'DO'\n",
    "\n",
    "print(f\"\\t- The groups {sig} have equal variance.\")"
   ]
  },
  {
   "cell_type": "code",
   "execution_count": 24,
   "metadata": {},
   "outputs": [
    {
     "name": "stdout",
     "output_type": "stream",
     "text": [
      "Welch's t-test p value=0.0\n"
     ]
    }
   ],
   "source": [
    "# Test using alternative Welch's T-Test for equal variance.\n",
    "# P value is less than 0.05; reject null hypothesis that the groups have identical average values.\n",
    "\n",
    "stat,p = stats.ttest_ind(grps['Full Price'], grps['Discounted'], equal_var=False)\n",
    "print(f\"Welch's t-test p value={round(p,4)}\")"
   ]
  },
  {
   "cell_type": "code",
   "execution_count": 24,
   "metadata": {},
   "outputs": [
    {
     "data": {
      "text/plain": [
       "-0.2862724481729282"
      ]
     },
     "execution_count": 24,
     "metadata": {},
     "output_type": "execute_result"
    }
   ],
   "source": [
    "# Check for effect size.\n",
    "# Effect size is small, indicating the difference in means is trivial.\n",
    "Cohen_d(grps['Full Price'],grps['Discounted'])"
   ]
  },
  {
   "cell_type": "code",
   "execution_count": 25,
   "metadata": {},
   "outputs": [
    {
     "data": {
      "text/html": [
       "<table class=\"simpletable\">\n",
       "<caption>Multiple Comparison of Means - Tukey HSD, FWER=0.05</caption>\n",
       "<tr>\n",
       "  <th>group1</th> <th>group2</th> <th>meandiff</th>  <th>p-adj</th>   <th>lower</th>   <th>upper</th>  <th>reject</th>\n",
       "</tr>\n",
       "<tr>\n",
       "    <td>0.0</td>   <td>0.01</td>  <td>-19.7153</td>   <td>0.9</td>  <td>-80.3306</td> <td>40.9001</td>  <td>False</td>\n",
       "</tr>\n",
       "<tr>\n",
       "    <td>0.0</td>   <td>0.02</td>  <td>-19.7153</td>   <td>0.9</td>   <td>-62.593</td> <td>23.1625</td>  <td>False</td>\n",
       "</tr>\n",
       "<tr>\n",
       "    <td>0.0</td>   <td>0.03</td>  <td>-20.0486</td>  <td>0.725</td> <td>-55.0714</td> <td>14.9742</td>  <td>False</td>\n",
       "</tr>\n",
       "<tr>\n",
       "    <td>0.0</td>   <td>0.04</td>  <td>-20.7153</td>   <td>0.9</td>  <td>-81.3306</td> <td>39.9001</td>  <td>False</td>\n",
       "</tr>\n",
       "<tr>\n",
       "    <td>0.0</td>   <td>0.05</td>   <td>6.2955</td>  <td>0.0011</td>  <td>1.5381</td>  <td>11.053</td>   <td>True</td> \n",
       "</tr>\n",
       "<tr>\n",
       "    <td>0.0</td>   <td>0.06</td>  <td>-19.7153</td>   <td>0.9</td>  <td>-80.3306</td> <td>40.9001</td>  <td>False</td>\n",
       "</tr>\n",
       "<tr>\n",
       "    <td>0.0</td>    <td>0.1</td>   <td>3.5217</td>  <td>0.4269</td>  <td>-1.3783</td> <td>8.4217</td>   <td>False</td>\n",
       "</tr>\n",
       "<tr>\n",
       "    <td>0.0</td>   <td>0.15</td>   <td>6.6669</td>  <td>0.0014</td>   <td>1.551</td>  <td>11.7828</td>  <td>True</td> \n",
       "</tr>\n",
       "<tr>\n",
       "    <td>0.0</td>    <td>0.2</td>   <td>5.3096</td>  <td>0.0303</td>  <td>0.2508</td>  <td>10.3684</td>  <td>True</td> \n",
       "</tr>\n",
       "<tr>\n",
       "    <td>0.0</td>   <td>0.25</td>    <td>6.525</td>  <td>0.0023</td>  <td>1.3647</td>  <td>11.6852</td>  <td>True</td> \n",
       "</tr>\n",
       "<tr>\n",
       "   <td>0.01</td>   <td>0.02</td>     <td>0.0</td>     <td>0.9</td>  <td>-74.2101</td> <td>74.2101</td>  <td>False</td>\n",
       "</tr>\n",
       "<tr>\n",
       "   <td>0.01</td>   <td>0.03</td>   <td>-0.3333</td>   <td>0.9</td>  <td>-70.2993</td> <td>69.6326</td>  <td>False</td>\n",
       "</tr>\n",
       "<tr>\n",
       "   <td>0.01</td>   <td>0.04</td>    <td>-1.0</td>     <td>0.9</td>  <td>-86.6905</td> <td>84.6905</td>  <td>False</td>\n",
       "</tr>\n",
       "<tr>\n",
       "   <td>0.01</td>   <td>0.05</td>   <td>26.0108</td>   <td>0.9</td>   <td>-34.745</td> <td>86.7667</td>  <td>False</td>\n",
       "</tr>\n",
       "<tr>\n",
       "   <td>0.01</td>   <td>0.06</td>     <td>0.0</td>     <td>0.9</td>  <td>-85.6905</td> <td>85.6905</td>  <td>False</td>\n",
       "</tr>\n",
       "<tr>\n",
       "   <td>0.01</td>    <td>0.1</td>   <td>23.237</td>    <td>0.9</td>  <td>-37.5302</td> <td>84.0042</td>  <td>False</td>\n",
       "</tr>\n",
       "<tr>\n",
       "   <td>0.01</td>   <td>0.15</td>   <td>26.3822</td>   <td>0.9</td>  <td>-34.4028</td> <td>87.1671</td>  <td>False</td>\n",
       "</tr>\n",
       "<tr>\n",
       "   <td>0.01</td>    <td>0.2</td>   <td>25.0248</td>   <td>0.9</td>  <td>-35.7554</td> <td>85.805</td>   <td>False</td>\n",
       "</tr>\n",
       "<tr>\n",
       "   <td>0.01</td>   <td>0.25</td>   <td>26.2403</td>   <td>0.9</td>  <td>-34.5485</td> <td>87.029</td>   <td>False</td>\n",
       "</tr>\n",
       "<tr>\n",
       "   <td>0.02</td>   <td>0.03</td>   <td>-0.3333</td>   <td>0.9</td>  <td>-55.6463</td> <td>54.9796</td>  <td>False</td>\n",
       "</tr>\n",
       "<tr>\n",
       "   <td>0.02</td>   <td>0.04</td>    <td>-1.0</td>     <td>0.9</td>  <td>-75.2101</td> <td>73.2101</td>  <td>False</td>\n",
       "</tr>\n",
       "<tr>\n",
       "   <td>0.02</td>   <td>0.05</td>   <td>26.0108</td> <td>0.6622</td> <td>-17.0654</td> <td>69.087</td>   <td>False</td>\n",
       "</tr>\n",
       "<tr>\n",
       "   <td>0.02</td>   <td>0.06</td>     <td>0.0</td>     <td>0.9</td>  <td>-74.2101</td> <td>74.2101</td>  <td>False</td>\n",
       "</tr>\n",
       "<tr>\n",
       "   <td>0.02</td>    <td>0.1</td>   <td>23.237</td>  <td>0.7914</td> <td>-19.8552</td> <td>66.3292</td>  <td>False</td>\n",
       "</tr>\n",
       "<tr>\n",
       "   <td>0.02</td>   <td>0.15</td>   <td>26.3822</td> <td>0.6461</td> <td>-16.7351</td> <td>69.4994</td>  <td>False</td>\n",
       "</tr>\n",
       "<tr>\n",
       "   <td>0.02</td>    <td>0.2</td>   <td>25.0248</td> <td>0.7089</td> <td>-18.0857</td> <td>68.1354</td>  <td>False</td>\n",
       "</tr>\n",
       "<tr>\n",
       "   <td>0.02</td>   <td>0.25</td>   <td>26.2403</td> <td>0.6528</td> <td>-16.8823</td> <td>69.3628</td>  <td>False</td>\n",
       "</tr>\n",
       "<tr>\n",
       "   <td>0.03</td>   <td>0.04</td>   <td>-0.6667</td>   <td>0.9</td>  <td>-70.6326</td> <td>69.2993</td>  <td>False</td>\n",
       "</tr>\n",
       "<tr>\n",
       "   <td>0.03</td>   <td>0.05</td>   <td>26.3441</td> <td>0.3639</td>  <td>-8.9214</td> <td>61.6096</td>  <td>False</td>\n",
       "</tr>\n",
       "<tr>\n",
       "   <td>0.03</td>   <td>0.06</td>   <td>0.3333</td>    <td>0.9</td>  <td>-69.6326</td> <td>70.2993</td>  <td>False</td>\n",
       "</tr>\n",
       "<tr>\n",
       "   <td>0.03</td>    <td>0.1</td>   <td>23.5703</td> <td>0.5338</td> <td>-11.7147</td> <td>58.8553</td>  <td>False</td>\n",
       "</tr>\n",
       "<tr>\n",
       "   <td>0.03</td>   <td>0.15</td>   <td>26.7155</td> <td>0.3436</td>  <td>-8.6001</td> <td>62.0311</td>  <td>False</td>\n",
       "</tr>\n",
       "<tr>\n",
       "   <td>0.03</td>    <td>0.2</td>   <td>25.3582</td>  <td>0.428</td>  <td>-9.9492</td> <td>60.6656</td>  <td>False</td>\n",
       "</tr>\n",
       "<tr>\n",
       "   <td>0.03</td>   <td>0.25</td>   <td>26.5736</td> <td>0.3525</td>  <td>-8.7485</td> <td>61.8957</td>  <td>False</td>\n",
       "</tr>\n",
       "<tr>\n",
       "   <td>0.04</td>   <td>0.05</td>   <td>27.0108</td>   <td>0.9</td>   <td>-33.745</td> <td>87.7667</td>  <td>False</td>\n",
       "</tr>\n",
       "<tr>\n",
       "   <td>0.04</td>   <td>0.06</td>     <td>1.0</td>     <td>0.9</td>  <td>-84.6905</td> <td>86.6905</td>  <td>False</td>\n",
       "</tr>\n",
       "<tr>\n",
       "   <td>0.04</td>    <td>0.1</td>   <td>24.237</td>    <td>0.9</td>  <td>-36.5302</td> <td>85.0042</td>  <td>False</td>\n",
       "</tr>\n",
       "<tr>\n",
       "   <td>0.04</td>   <td>0.15</td>   <td>27.3822</td>   <td>0.9</td>  <td>-33.4028</td> <td>88.1671</td>  <td>False</td>\n",
       "</tr>\n",
       "<tr>\n",
       "   <td>0.04</td>    <td>0.2</td>   <td>26.0248</td>   <td>0.9</td>  <td>-34.7554</td> <td>86.805</td>   <td>False</td>\n",
       "</tr>\n",
       "<tr>\n",
       "   <td>0.04</td>   <td>0.25</td>   <td>27.2403</td>   <td>0.9</td>  <td>-33.5485</td> <td>88.029</td>   <td>False</td>\n",
       "</tr>\n",
       "<tr>\n",
       "   <td>0.05</td>   <td>0.06</td>  <td>-26.0108</td>   <td>0.9</td>  <td>-86.7667</td> <td>34.745</td>   <td>False</td>\n",
       "</tr>\n",
       "<tr>\n",
       "   <td>0.05</td>    <td>0.1</td>   <td>-2.7738</td>   <td>0.9</td>   <td>-9.1822</td> <td>3.6346</td>   <td>False</td>\n",
       "</tr>\n",
       "<tr>\n",
       "   <td>0.05</td>   <td>0.15</td>   <td>0.3714</td>    <td>0.9</td>   <td>-6.2036</td> <td>6.9463</td>   <td>False</td>\n",
       "</tr>\n",
       "<tr>\n",
       "   <td>0.05</td>    <td>0.2</td>   <td>-0.986</td>    <td>0.9</td>   <td>-7.5166</td> <td>5.5447</td>   <td>False</td>\n",
       "</tr>\n",
       "<tr>\n",
       "   <td>0.05</td>   <td>0.25</td>   <td>0.2294</td>    <td>0.9</td>   <td>-6.3801</td>  <td>6.839</td>   <td>False</td>\n",
       "</tr>\n",
       "<tr>\n",
       "   <td>0.06</td>    <td>0.1</td>   <td>23.237</td>    <td>0.9</td>  <td>-37.5302</td> <td>84.0042</td>  <td>False</td>\n",
       "</tr>\n",
       "<tr>\n",
       "   <td>0.06</td>   <td>0.15</td>   <td>26.3822</td>   <td>0.9</td>  <td>-34.4028</td> <td>87.1671</td>  <td>False</td>\n",
       "</tr>\n",
       "<tr>\n",
       "   <td>0.06</td>    <td>0.2</td>   <td>25.0248</td>   <td>0.9</td>  <td>-35.7554</td> <td>85.805</td>   <td>False</td>\n",
       "</tr>\n",
       "<tr>\n",
       "   <td>0.06</td>   <td>0.25</td>   <td>26.2403</td>   <td>0.9</td>  <td>-34.5485</td> <td>87.029</td>   <td>False</td>\n",
       "</tr>\n",
       "<tr>\n",
       "    <td>0.1</td>   <td>0.15</td>   <td>3.1452</td>    <td>0.9</td>   <td>-3.5337</td>  <td>9.824</td>   <td>False</td>\n",
       "</tr>\n",
       "<tr>\n",
       "    <td>0.1</td>    <td>0.2</td>   <td>1.7879</td>    <td>0.9</td>   <td>-4.8474</td> <td>8.4231</td>   <td>False</td>\n",
       "</tr>\n",
       "<tr>\n",
       "    <td>0.1</td>   <td>0.25</td>   <td>3.0033</td>    <td>0.9</td>   <td>-3.7096</td> <td>9.7161</td>   <td>False</td>\n",
       "</tr>\n",
       "<tr>\n",
       "   <td>0.15</td>    <td>0.2</td>   <td>-1.3573</td>   <td>0.9</td>   <td>-8.1536</td> <td>5.4389</td>   <td>False</td>\n",
       "</tr>\n",
       "<tr>\n",
       "   <td>0.15</td>   <td>0.25</td>   <td>-0.1419</td>   <td>0.9</td>   <td>-7.014</td>  <td>6.7302</td>   <td>False</td>\n",
       "</tr>\n",
       "<tr>\n",
       "    <td>0.2</td>   <td>0.25</td>   <td>1.2154</td>    <td>0.9</td>   <td>-5.6143</td> <td>8.0451</td>   <td>False</td>\n",
       "</tr>\n",
       "</table>"
      ],
      "text/plain": [
       "<class 'statsmodels.iolib.table.SimpleTable'>"
      ]
     },
     "execution_count": 25,
     "metadata": {},
     "output_type": "execute_result"
    }
   ],
   "source": [
    "from statsmodels.stats.multicomp import pairwise_tukeyhsd\n",
    "model = pairwise_tukeyhsd(df_order['Quantity'],df_order['Discount'])\n",
    "model.summary()"
   ]
  },
  {
   "cell_type": "code",
   "execution_count": 26,
   "metadata": {},
   "outputs": [
    {
     "data": {
      "text/plain": [
       "<matplotlib.axes._subplots.AxesSubplot at 0x1a1e269438>"
      ]
     },
     "execution_count": 26,
     "metadata": {},
     "output_type": "execute_result"
    },
    {
     "data": {
      "image/png": "iVBORw0KGgoAAAANSUhEUgAAAX4AAAEGCAYAAABiq/5QAAAABHNCSVQICAgIfAhkiAAAAAlwSFlzAAALEgAACxIB0t1+/AAAADh0RVh0U29mdHdhcmUAbWF0cGxvdGxpYiB2ZXJzaW9uMy4xLjEsIGh0dHA6Ly9tYXRwbG90bGliLm9yZy8QZhcZAAAU7ElEQVR4nO3dfZRkdX3n8feH5+cA0jCsgIMuCYIrgxnBxBUVNIqugAeyiQkPKp5RgWxYYyYG9xx1T/7AWZXd1SxkElnHRI0ouLCuaBARj0Rxe3gYnpJFOWSXgYYBw8Oogczw3T/qDjRNz0x1dd+q6b7v1zl1qurWrfp+73T3p+787q1fpaqQJHXHdqNuQJI0XAa/JHWMwS9JHWPwS1LHGPyS1DE7jLqBfuy33361ePHiUbchSfPK6tWrH66qsanL50XwL168mPHx8VG3IUnzSpJ/mG65Qz2S1DEGvyR1jMEvSR1j8EtSxxj8ktQxBr8kdUxrwZ9klyQ/SnJrkjuSfKxZfmiSG5PcneTLSXZqqwdJ0vO1ucf/JHB8VR0FLAHenORVwMeBi6rqMOAfgbNb7EGSNEVrwV8965u7OzaXAo4HvtosXwWc0lYPkhaO5cuXc+aZZ7J8+fJRtzLvtfrJ3STbA6uBfwn8KfAT4NGq2tCsch/wws08dxmwDOCQQw5ps01J88DExARr164ddRtDtXz5ciYmJli0aBErVqyYs9dt9eBuVW2sqiXAQcAxwEunW20zz11ZVUuraunY2POmmpCkBW/Tm93ExMScvu5Q5uqpqkeTfBd4FbB3kh2avf6DgPuH0YM019raG5Pa1uZZPWNJ9m5u7wq8AbgLuA44rVntLODKtnqQ2tTW3pjUtjb3+A8EVjXj/NsBl1XV15PcCfx1kj8BbgY+22IPkqQpWgv+qloDHD3N8nvojfdLkkbAT+5KUscY/JLUMfPiG7gkaVQW4tlbBr8kbcFC/OCYQz2S1DHu8Usaicsuf3hG669f//Qz1/0+99+eut+M++oCg1+ShuTB//yjGa2/8dF/eua63+cecP7Wz5Y3+KVJ3nr5n/W97pPrHwPg/vWPzeh5/+vU9864L2kuOcYvSR1j8EtSxxj8ktQxBr8kdYzBL0kdY/BLUsd4Oqekzvm7//Zg3+v+82Mbn7nu93mHn3PAQH0Ni8EvqW8LccKyLjL4JfVtIU5Y1kUGv6R5Yc89x55zrcEZ/JLmhbee9OFRtzB0Y7vu85zruWLwS9I26o9/7exWXtfglwaUPXd/zrU0Xxj80oB2Oum1o25BGogf4JKkjjH4JaljDH5J6pjWgj/JwUmuS3JXkjuS/H6z/KNJ1ia5pbm8pa0eJGm29t1tjP33WMS+uy2czw+0eXB3A/AHVXVTkj2B1UmuaR67qKo+0WJtSZoTv/eaPx51C3OuteCvqgeAB5rbTyS5C3hhW/UkDeY3L7+973UfXf8UAA+sf6rv533l1JcN1JfaM5Qx/iSLgaOBG5tF5yVZk+TSJNN+JC3JsiTjScbXrVs3jDYlqRNaD/4kewCXA+dX1ePAxcBLgCX0/kfwyemeV1Urq2ppVS0dG1s4Y2uSNGqtBn+SHemF/heq6gqAqnqwqjZW1dPAnwPHtNmDJOm52jyrJ8Bngbuq6lOTlh84abW3A/0PMEqSZq3Ns3peDZwB3JbklmbZBcA7kiwBCrgXeG+LPUiSpmjzrJ7vA5nmoW+0VVOStHV+cleSOsbgl6SOMfglqWMMfknqGINfkjrGb+CS1Lft9tz3Odeanwx+SX3b66RzRt2C5oBDPZLUMQa/JHWMwS9JHWPwS1LHGPyS1DEGvyR1zII+nXP58uVMTEywaNEiVqxYMep2JGmbsKCDf2JigrVr1466DUnapjjUI0kdY/BLUsfMu6GedRf/Vd/rbnzsiWeu+33e2PtPH6gvSZov3OOXpI4x+CWpYwx+SeqYeTfGPxNju+3xnGtJ0gIP/g8f96ZRtyBJ2xyHeiSpYwx+SeoYg1+SOqa14E9ycJLrktyV5I4kv98s3zfJNUnubq73aasHSdLztbnHvwH4g6p6KfAq4NwkRwAfAq6tqsOAa5v7kqQhaS34q+qBqrqpuf0EcBfwQuBkYFWz2irglLZ6kCQ931DG+JMsBo4GbgQOqKoHoPfmAOy/mecsSzKeZHzdunXDaFOSOqH14E+yB3A5cH5VPd7v86pqZVUtraqlY2Nj7TUoSR3TavAn2ZFe6H+hqq5oFj+Y5MDm8QOBh9rsQZL0XG2e1RPgs8BdVfWpSQ9dBZzV3D4LuLKtHiRJz9fmlA2vBs4AbktyS7PsAuBC4LIkZwP/F/jNFnuQJE3RWvBX1feBbObhE9qqK0naMj+5K0kdY/BLUscY/JLUMQa/JHVMX8Gf5PIkb03iG4UkzXP9BvnFwO8Adye5MMnhLfYkSWpRX8FfVd+uqt8FXgHcC1yT5G+TvKv5dK4kaZ7oe+gmyQuAdwLvAW4G/gu9N4JrWulMktSKvj7AleQK4HDgL4G3bZpdE/hykvG2mpMkzb1+P7n7F1X1jckLkuxcVU9W1dIW+pIktaTfoZ4/mWbZD+ayEUnScGxxjz/JInrfmrVrkqN5du6dvYDdWu5NktSCrQ31vIneAd2DgMlTKz9Bb6ZNSdI8s8Xgr6pVwKokp1bV5UPqSZLUoq0N9ZxeVX8FLE7ygamPT/mCFUnSPLC1oZ7dm+s9pnms5rgXSdIQbG2o58+am9+uqhsmP5bk1a11JUlqTb+nc366z2WSpG3c1sb4fw34dWBsyhj/XsD2bTYmSWrH1sb4d6I3vr8DsOek5Y8Dp7XVlCSpPVsb478euD7J56rqH4bUkySpRf3O1bNzkpXA4snPqarj22hKktSefoP/K8AlwF8AG9trR5LUtn6Df0NVXdxqJ5Kkoej3dM7/meScJAcm2XfTpdXOJEmt6Df4zwL+EPhbYHVz2eIXsCS5NMlDSW6ftOyjSdYmuaW5vGXQxiVJg+lrqKeqDh3gtT8HfAb4/JTlF1XVJwZ4PUnSHOh3jJ8kLwOOAHbZtKyqpoY6kx77XpLFs2lOkjT3+hrqSfIRelM0fBp4PbACOGnAmuclWdMMBe2zhZrLkownGV+3bt2ApSRJU/U7xn8acAIwUVXvAo4Cdh6g3sXAS4AlwAPAJze3YlWtrKqlVbV0bGxsgFKSpOn0G/y/qKqngQ1J9gIeAl4802JV9WBVbWxe68+BY2b6GpKk2el3jH88yd70wno1sB740UyLJTmwqh5o7r4duH1L60uS5l6/Z/Wc09y8JMk3gb2qas2WnpPkS8DrgP2S3Ad8BHhdkiX0vsTlXuC9A/YtSRpQX8Gf5LjpllXV9zb3nKp6xzSLPzuD3iRJLeh3qOcPJ93ehd7Y/GrASdokaZ7pd6jnbZPvJzmY3imdkqR5pt+zeqa6D3jZXDYiSRqOfsf4P03vgCz03iyOBm5tqylJUnv6HeP/O579jt1HgC9V1Q3ttCRJatPWvmx9R+A/AWfSO/0ywP70pm64IcnRVXVz201KkubO1vb4PwnsBryoqp4AaD65+4kkFwNvBgaZuVOSNCJbC/63AIdV1abxfarq8STvBx4GTmyzOUnS3NvaWT1PTw79TapqI7Cuqn7YTluSpLZsLfjvTHLm1IVJTgfuaqclSVKbtjbUcy5wRZJ30/ukbgGvBHalN8maJGme2WLwV9Va4NgkxwNH0jur5+qqunYYzUmS5l6/UzZ8B/hOy71IkoZg0CkbJEnzlMEvSR1j8EtSxxj8ktQxBr8kdYzBL0kdY/BLUscY/JLUMQa/JHWMwS9JHWPwS1LHGPyS1DEGvyR1TGvBn+TSJA8luX3Ssn2TXJPk7uZ6n7bqS5Km1+Ye/+fofRn7ZB8Crq2qw4Brm/uSpCFqLfir6nvAT6csPhlY1dxeBZzSVn1J0vSGPcZ/QFU9ANBc77+5FZMsSzKeZHzdunVDa1CSFrpt9uBuVa2sqqVVtXRsbGzU7UjSgjHs4H8wyYEAzfVDQ64vSZ037OC/CjiruX0WcOWQ60tS57V5OueXgB8Av5LkviRnAxcCb0xyN/DG5r4kaYh2aOuFq+odm3nohLZqSpK2bps9uCtJaofBL0kdY/BLUscY/JLUMQa/JHWMwS9JHWPwS1LHGPyS1DEGvyR1jMEvSR1j8EtSxxj8ktQxBr8kdYzBL0kdY/BLUscY/JLUMQa/JHWMwS9JHWPwS1LHGPyS1DEGvyR1jMEvSR1j8EtSxxj8ktQxBr8kdcwOoyia5F7gCWAjsKGqlo6iD0nqopEEf+P1VfXwCOtLUic51CNJHTOq4C/gb5KsTrJsuhWSLEsynmR83bp1Q25PkhauUQX/q6vqFcCJwLlJjpu6QlWtrKqlVbV0bGxs+B1K0gI1kuCvqvub64eArwHHjKIPSeqioQd/kt2T7LnpNvAbwO3D7kOSumoUZ/UcAHwtyab6X6yqb46gD0nqpKEHf1XdAxw17LqSpB5P55SkjjH4JaljDH5J6hiDX5I6xuCXpI4x+CWpYwx+SeqYUU7LrBYsX76ciYkJFi1axIoVK0bdjqRtkMG/wExMTLB27dpRtyFpG+ZQjyR1jMEvSR1j8EtSxxj8ktQxBr8kdYxn9WhOeBqpNH8Y/H36yadPbr3GS37vymmXf/3SE/t+jZ89/lRzvbbv5/2bd1/d9+tvjqeRzt5JX53+5z9Xrjqt/d9hzQ8O9UhSx7jHr8266Itv6nvdR5/Y0FyvndHz/v3vfGvGfUmaHff4JaljDH5J6hiDX5I6xjF+zYld9whQzbWkbZnBrznxqhO3n9PXO/HK983p60119cmXtPr60rbM4F9g9tq9t+fdu5ak5zP4F5hTT9hx1C1I2sZ5cFeSOmYkwZ/kzUn+PsmPk3xoFD1IUlcNPfiTbA/8KXAicATwjiRHDLsPSeqqUezxHwP8uKruqaqngL8GnD1KkoYkVTXcgslpwJur6j3N/TOAY6vqvCnrLQOWNXd/Bfj7AUvuBzw84HNna1S1u1Z3lLXd5m7Unq/b/KKqGpu6cBRn9Ux3nuHz3n2qaiWwctbFkvGqWjrb15lPtbtWd5S13eZu1F5o2zyKoZ77gIMn3T8IuH8EfUhSJ40i+P83cFiSQ5PsBPw2cNUI+pCkThr6UE9VbUhyHvAtYHvg0qq6o8WSsx4umoe1u1Z3lLXd5m7UXlDbPPSDu5Kk0fKTu5LUMQa/JHXMggn+rU0DkWTnJF9uHr8xyeJh10rygiTXJVmf5DNDrv3GJKuT3NZcHz+kusckuaW53Jrk7cPa5kmPH9L8m39wGHWTLE7yi0nbPaM5oGezvUlenuQHSe5ofta7zKT2DPs4LslNSTY0n88Z2GxqJdk46d96VieK9NHHB5LcmWRNkmuTvGgUtWa9zVU17y/0DhL/BHgxsBNwK3DElHXOAS5pbv828OVh1wJ2B/418D7gM0OufTTwL5rbLwPWDqnubsAOze0DgYc23R/Wzxa4HPgK8MEhbfNi4PYR/H7tAKwBjmruvwDYvsU+FgMvBz4PnDZInbmoBawftPYAfbwe2K25/f6pv2vDqjXbbV4oe/z9TANxMrCquf1V4IQkg0xaP3CtqvpZVX0f+KcB6s629s1VtenzEncAuyTZeQh1f15VG5rluzDNh/Xaqg2Q5BTgHnrbPLS6szCbur8BrKmqWwGq6pGq2thWH1V1b1WtAZ4esMYoas22j+uq6ufN3R/S+xzStl7reRZK8L8Q+H+T7t/XLJt2nSaIHqO3R7Qt12qr9qnAzVX15DDqJjk2yR3AbcD7Jr0RtFo7ye7AHwEfm0G9WddtHjs0yc1Jrk/ymiHV/WWgknyrGRZZPoO6g/QxV2Zba5ck40l+2LzRD6uPs4GrR1RrVtu8UL6IpZ9pIPqaKmIbqzXntZMcCXyc3t7hUOpW1Y3AkUleCqxKcnVV9fu/ntnU/hhwUVWtH2BHfDZ1HwAOqapHkvwq8D+SHFlVj7dcdwd6Q4mvBH4OXJtkdVVd20fdQfqYK7OtdUhV3Z/kxcB3ktxWVT9ps48kpwNLgdcOUGcuas1qmxfKHn8/00A8s06SHYBfAn66jdea09pJDgK+Bpw5wz+MOdnmqroL+Bm9YwzDqH0ssCLJvcD5wAXpfXiw1bpV9WRVPQJQVavpjeX+ctt1m+XXV9XDzRDBN4BX9Fl3kD7myqxqbRrCrKp7gO/SO57VWh9J3gB8GDhpBv9rntNas97muTgoMuoLvT2de4BDefZAyZFT1jmX5x4Qu2xUtYB3MtjB3YFrA3s365865LqH8uzB3RfR++Xeb9g/W+CjzOzg7my2eYzmoCq9g3drgX2HUHcf4CaaA+rAt4G3tvV7PmndzzG7g7sD12q2eefm9n7A3Uw5SDrHP/Oj6b2RHzbo9s621lxs88CNb2sX4C3A/2n+oT7cLPuP9N4poXdg8SvAj4EfAS8eRS3gXnp7Z+vpvevP7Ac2YG3gP9Db275l0mX/IdQ9g96B1VvohdIpo/jZMsPgn+U2n9ps863NNr9tiL9fpze1bwdWtPw39crmd/hnwCPAHcOuBfw6vWNHtzbXZ7e8zd8GHpz0N3TVsGvNxTY7ZYMkdcxCGeOXJPXJ4JekjjH4JaljDH5J6hiDX5I6xuBXZ0ya0fCO9GYK/UCS7ZrHlib5ryPu74JR1ld3eDqnOiPJ+qrao7m9P/BF4Iaq+shoO+uZ3J/UJvf41UlV9RCwDDgvPa9L8nWAJK+dNNf5zUn2bJYvb+a4vzXJhc2yJc1EWWuSfC3JPs3y7yZZ2tzer5k2giTvTHJFkm8muTvJimb5hcCuTc0vDPvfQ91i8KuzqjfPyXbA/lMe+iBwblUtAV4D/CLJicApwLFVdRSwoln388AfVdXL6X2Ksp//PSwBfgv4V8BvJTm4qj4E/KKqllTV785226QtMfjVddPNkngD8Kkk/w7Yu3pTH78B+O/VzI9eVT9N8kvN49c3z1sFHNdHzWur6rHqzVB6J705jKShMfjVWc2UthvpfSvYM6rqQuA9wK7AD5McTu8NYiYHxDbw7N/X1K8/nDyj40YWzvTomicMfnVSkjHgEnqzpNaUx15SVbdV1ceBceBw4G+AdyfZrVln36p6DPjHSV+0cgawae//XuBXm9v9fh/tPyfZcdBtkvrlnoa6ZNcktwA70tsj/0vgU9Osd36S19PbG78TuLqqnkyyBBhP8hS9ue4vAM4CLmneEO4B3tW8xieAy5KcAXynz/5WAmuS3OQ4v9rk6ZyS1DEO9UhSxxj8ktQxBr8kdYzBL0kdY/BLUscY/JLUMQa/JHXM/wfFBJz+Fhdl9gAAAABJRU5ErkJggg==\n",
      "text/plain": [
       "<Figure size 432x288 with 1 Axes>"
      ]
     },
     "metadata": {
      "needs_background": "light"
     },
     "output_type": "display_data"
    }
   ],
   "source": [
    "sns.barplot(data=df_order,x='Discount',y='Quantity',ci=68)"
   ]
  },
  {
   "cell_type": "code",
   "execution_count": null,
   "metadata": {},
   "outputs": [],
   "source": [
    "# HYPOTHESIS 1\n",
    "\n",
    "> ***Does discount amount have a statistically significant effect on the quantity of a product in an order? If so, at what level(s) of discount?***\n",
    "\n",
    "- $H_0$: A discount does not effect the quantity of a product in an order.\n",
    "- $H_1$: A discount does effect the quantity of a product in an order.\n",
    "\n",
    "# Select all from Order Detail table\n",
    "\n",
    "# cur.execute(\"\"\"SELECT * FROM OrderDetail \"\"\")\n",
    "# names = [description[0] for description in cur.description]\n",
    "# df_disc = pd.DataFrame(cur.fetchall(), columns = names)\n",
    "# df_disc\n",
    "\n",
    "cur.execute(\"\"\"SELECT * FROM OrderDetail \"\"\")\n",
    "names = [description[0] for description in cur.description]\n",
    "df_order = pd.DataFrame(cur.fetchall(), columns = names)\n",
    "df_order\n",
    "\n",
    "## Determine if data is numerical or categorical\n",
    "\n",
    "# Data is numerical.\n",
    "# Find quantity of discounted orders by discount amount.\n",
    "\n",
    "df_order['Discount'].value_counts()\n",
    "\n",
    "## Determine how many groups to compare to establish which test to use.\n",
    "\n",
    "### Two groups are being compared; use the 2 Sample T-Test.\n",
    "\n",
    "# Assign 'Discounted' and 'Full Price' to 'groups' column.\n",
    "# Assign '0' to 'Full Price' and '1' to 'Discounted' in the 'group_num' column.\n",
    "\n",
    "df_order['groups'] = df_order['Discount'] >0 \n",
    "df_order['groups'] = df_order['groups'].map({True:'Discounted', False:'Full Price'})\n",
    "df_order['group_num'] = df_order['groups'].map({'Discounted':1,\"Full Price\": 0})\n",
    "\n",
    "df_order\n",
    "\n",
    "### Check data to see if it meets test assumptions.\n",
    "\n",
    "# View barplot to see if the categories are statistically different and compare standard error of the mean.\n",
    "# Discounted products sold in larger quantities.\n",
    "\n",
    "sns.barplot(data=df_order, x='groups', y='Quantity', ci=68 )\n",
    "\n",
    "# Create 'grps' dictionary to seperate 'quantity' into 'Full Price' and 'Discounted' categories.\n",
    "\n",
    "grps = {}\n",
    "for grp_name in df_order['groups'].unique():\n",
    "    grps[grp_name] = df_order.groupby('groups').get_group(grp_name)['Quantity']\n",
    "grps\n",
    "\n",
    "### Check for outliers.\n",
    "\n",
    "# Show Distribution Plot of both groups to determine if normailty assumption is met.\n",
    "\n",
    "for grp_name,grp_data in grps.items():\n",
    "    sns.distplot(grp_data,label=grp_name)\n",
    "    \n",
    "    \n",
    "ax= plt.gca()\n",
    "ax.legend()\n",
    "ax.set(title='Total Ordered by Discounted and Full Price Group', ylabel='Density')\n",
    "\n",
    "orig_grps = grps.copy()\n",
    "\n",
    "# Identify how many outliers found in each group using Z-Scores and IQR.\n",
    "\n",
    "for grp_name, grp_data in grps.items():\n",
    "    idx_outs =find_outliers_Z(grp_data)\n",
    "    print(f\"Found {idx_outs.sum()} outliers in {grp_name} using Z-scores\")\n",
    "    grps[grp_name] = grp_data [~idx_outs]\n",
    "    idx_outs =find_outliers_IQR(grp_data)\n",
    "\n",
    "    print(f\"Found {idx_outs.sum()} outliers in {grp_name} using IQR\")\n",
    "    print('\\n')\n",
    "\n",
    "# Remove outliers.\n",
    "\n",
    "grp_data [~idx_outs]\n",
    "\n",
    "# Check for normality after removing outliers.\n",
    "\n",
    "fig,ax=plt.subplots(figsize=(8,4))\n",
    "for grp_name,grp_data in grps.items():\n",
    "    sns.distplot(grp_data,label=grp_name, ax=ax)\n",
    "    \n",
    "    \n",
    "ax.legend()\n",
    "ax.set(title='Total Quantity for Full Price vs Discounted Products', ylabel='Density')\n",
    "\n",
    "### Confirm normality with scipy normal test.\n",
    "\n",
    "import scipy.stats as stats\n",
    "\n",
    "for k,v in grps.items():\n",
    "    stat,p = stats.normaltest(v)\n",
    "    print(f\"Group {k} Normaltest p-value = {round(p,4)}\")\n",
    "    sig = 'is NOT' if p<.05 else 'IS'\n",
    "    print(f\"\\t-The data is {sig} normal.\")\n",
    "\n",
    "# Failed normality test; check sample sizes to see if large enough to bypass normality assumption.\n",
    "\n",
    "\n",
    "# Each group is greater than 15; safe to ignore normality assumption.\n",
    "\n",
    "len(grps['Full Price']), len(grps['Discounted'])\n",
    "\n",
    "## Check for equal variance.\n",
    "\n",
    "# Prepare data for levene test to check for equal variance.\n",
    "\n",
    "data = []\n",
    "for k,v in grps.items():\n",
    "    data.append(v)\n",
    "data[0]\n",
    "\n",
    "stats.levene(data[0],data[1])\n",
    "\n",
    "# Does not pass Levene test.\n",
    "\n",
    "stat, p = stats.levene(*data)\n",
    "print(f\"Levene' Test for Equal Variance p-value={round(p,4)}\")\n",
    "sig = 'do NOT' if p<.05 else 'DO'\n",
    "\n",
    "print(f\"\\t- The groups {sig} have equal variance.\")\n",
    "\n",
    "# Test using alternative Welch's T-Test for equal variance.\n",
    "# P value is less than 0.05; reject null hypothesis that the groups have identical average values.\n",
    "\n",
    "stat,p = stats.ttest_ind(grps['Full Price'], grps['Discounted'], equal_var=False)\n",
    "print(f\"Welch's t-test p value={round(p,4)}\")\n",
    "\n",
    "# Check for effect size.\n",
    "# Effect size is small, indicating the difference in means is trivial.\n",
    "Cohen_d(grps['Full Price'],grps['Discounted'])\n",
    "\n",
    "from statsmodels.stats.multicomp import pairwise_tukeyhsd\n",
    "model = pairwise_tukeyhsd(df_order['Quantity'],df_order['Discount'])\n",
    "model.summary()\n",
    "\n",
    "sns.barplot(data=df_order,x='Discount',y='Quantity',ci=68)"
   ]
  }
 ],
 "metadata": {
  "kernelspec": {
   "display_name": "learn-env",
   "language": "python",
   "name": "learn-env"
  },
  "language_info": {
   "codemirror_mode": {
    "name": "ipython",
    "version": 3
   },
   "file_extension": ".py",
   "mimetype": "text/x-python",
   "name": "python",
   "nbconvert_exporter": "python",
   "pygments_lexer": "ipython3",
   "version": "3.6.9-final"
  },
  "toc": {
   "base_numbering": 1,
   "nav_menu": {},
   "number_sections": false,
   "sideBar": true,
   "skip_h1_title": false,
   "title_cell": "Table of Contents",
   "title_sidebar": "Contents",
   "toc_cell": false,
   "toc_position": {
    "height": "calc(100% - 180px)",
    "left": "10px",
    "top": "150px",
    "width": "165px"
   },
   "toc_section_display": true,
   "toc_window_display": true
  },
  "varInspector": {
   "cols": {
    "lenName": 16,
    "lenType": 16,
    "lenVar": 40
   },
   "kernels_config": {
    "python": {
     "delete_cmd_postfix": "",
     "delete_cmd_prefix": "del ",
     "library": "var_list.py",
     "varRefreshCmd": "print(var_dic_list())"
    },
    "r": {
     "delete_cmd_postfix": ") ",
     "delete_cmd_prefix": "rm(",
     "library": "var_list.r",
     "varRefreshCmd": "cat(var_dic_list()) "
    }
   },
   "types_to_exclude": [
    "module",
    "function",
    "builtin_function_or_method",
    "instance",
    "_Feature"
   ],
   "window_display": false
  }
 },
 "nbformat": 4,
 "nbformat_minor": 2
}